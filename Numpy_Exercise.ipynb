{
  "nbformat": 4,
  "nbformat_minor": 0,
  "metadata": {
    "kernelspec": {
      "display_name": "Python 3",
      "language": "python",
      "name": "python3"
    },
    "language_info": {
      "codemirror_mode": {
        "name": "ipython",
        "version": 3
      },
      "file_extension": ".py",
      "mimetype": "text/x-python",
      "name": "python",
      "nbconvert_exporter": "python",
      "pygments_lexer": "ipython3",
      "version": "3.7.6"
    },
    "colab": {
      "name": "Numpy_Exercise.ipynb",
      "provenance": [],
      "include_colab_link": true
    }
  },
  "cells": [
    {
      "cell_type": "markdown",
      "metadata": {
        "id": "view-in-github",
        "colab_type": "text"
      },
      "source": [
        "<a href=\"https://colab.research.google.com/github/Code-tanisha/UPgrad-Python-Data-science-/blob/main/Numpy_Exercise.ipynb\" target=\"_parent\"><img src=\"https://colab.research.google.com/assets/colab-badge.svg\" alt=\"Open In Colab\"/></a>"
      ]
    },
    {
      "cell_type": "markdown",
      "metadata": {
        "id": "ksTS3uxnyHNu"
      },
      "source": [
        "# Exercise Background\n",
        "\n",
        "This small application based coding exercise is ment to expose you to the use of the numpy library as well as give you a taste of tasks that you might be needed to perform during machine learning. \n",
        "\n",
        "Usually, machine learning involves working on large data sets. This notebook will walk you through normalising the data and then dividing the data set into smaller subsets. It is recommended that while attempting each of the tasks visit the NumPy library to find the most appropriate function which can help you achieve the desired result. More often than not you will find the functions which you require prewritten in the library. The **numpy library** can be found [here.](https://numpy.org/doc/stable/) \n",
        "\n",
        "Without further ado, the first task is to mean normalise a data set. Mean normalising is a data transformation done to reduce the variations in the data set. For example, consider a data set which has integers between 0 and 10000. That is a lot of variation, and it becomes difficult to build ML algorithms on this data. So mean normalisation is done on such data, after the transformation, the mean of the data will be zero, and standard deviation will be 1.  Even though the actual values of data will change a lot, but the overall variation is still kept intact. If the concept of normalisation feels a bit unclear dont worry all of this will be covered in the future sections of this program. For now, let’s concentrate on the tasks at hand. \n",
        "\n",
        "\n",
        "# Task 1: Mean Normalisation: \n",
        "\n",
        "**Question 1.1** Create a 2D of random integers between 0 and 10,000 (including both 0 and 10,000) with 25000 rows and 15 columns. This will be the dataset you will use in the notebook. "
      ]
    },
    {
      "cell_type": "code",
      "metadata": {
        "colab": {
          "base_uri": "https://localhost:8080/"
        },
        "id": "4DEEI_yKyHN4",
        "outputId": "ca5a1f84-ca11-4fd6-81dc-6499c52d68e4"
      },
      "source": [
        "# import NumPy into Python\n",
        "import numpy as np\n",
        "\n",
        "# Create a 25000 x 15 ndarray with random integers in the interval [0, 10000].\n",
        "X = np.random.randint(0, high = 100001, size = (25000,15))\n",
        "\n",
        "# print the shape of X\n",
        "X.shape"
      ],
      "execution_count": 4,
      "outputs": [
        {
          "output_type": "execute_result",
          "data": {
            "text/plain": [
              "(25000, 15)"
            ]
          },
          "metadata": {
            "tags": []
          },
          "execution_count": 4
        }
      ]
    },
    {
      "cell_type": "code",
      "metadata": {
        "colab": {
          "base_uri": "https://localhost:8080/"
        },
        "id": "NgPjqO_GyHN-",
        "outputId": "fcbdd2b9-a33d-4ed9-a6c9-a0c70bf90678"
      },
      "source": [
        "# print the first row of X\n",
        "X[1]"
      ],
      "execution_count": 5,
      "outputs": [
        {
          "output_type": "execute_result",
          "data": {
            "text/plain": [
              "array([84826, 44995, 46044,  3814,  4433, 40042, 37728, 43695, 78356,\n",
              "        9976,  4758,  8126, 98611, 96175, 72607])"
            ]
          },
          "metadata": {
            "tags": []
          },
          "execution_count": 5
        }
      ]
    },
    {
      "cell_type": "markdown",
      "metadata": {
        "id": "2g_hr2xoyHN_"
      },
      "source": [
        "Now that you created the array we will mean normalize it. The equation for normalisaing the data is given below:\n",
        "\n",
        "$\\mbox{Norm_Col}_i = \\frac{\\mbox{Col}_i - \\mu_i}{\\sigma_i}$\n",
        "\n",
        "where $\\mbox{Col}_i$ is the $i$th column of $X$, $\\mu_i$ is average of the values in the $i$th column of $X$, and $\\sigma_i$ is the standard deviation of the values in the $i$th column of $X$. To put it simply, to find the new value of each element, you have to subtract the mean of respective column form that value and divide the result with the standard deviation of that columns. Now the question is, Why are these operations being done column-wise? That is because usually all the procedures in ML are done column-wise. So it will be beneficial for us to develop the habit of thinking about data column-wise.   "
      ]
    },
    {
      "cell_type": "markdown",
      "metadata": {
        "id": "X46ACXZ8yHOA"
      },
      "source": [
        "**Question 1.2** Find the mean and the standard deviation of each of the columns in the dataset. The result will be two 1D arrays with 15 elements each, representing the mean and standard deviation for each of the columns in the dataset.  "
      ]
    },
    {
      "cell_type": "code",
      "metadata": {
        "colab": {
          "base_uri": "https://localhost:8080/"
        },
        "id": "3YOMYfAYyHOA",
        "outputId": "d5d3ba7c-41c4-4e7a-d48d-fdc4cc8257d3"
      },
      "source": [
        "# Average of the values in each column of X\n",
        "ave_cols = np.average(X, axis = 0)\n",
        "\n",
        "# print ave_cols  \n",
        "ave_cols\n",
        "\n",
        "# Standard Deviation of the values in each column of X\n",
        "std_cols = np.std(X, axis = 0)\n",
        "# print std_cols  \n",
        "std_cols"
      ],
      "execution_count": 9,
      "outputs": [
        {
          "output_type": "execute_result",
          "data": {
            "text/plain": [
              "array([29017.40788432, 28942.28963132, 28918.80456177, 28877.65136684,\n",
              "       28915.09004135, 28831.28959183, 28758.06191607, 28829.64877038,\n",
              "       28948.39311176, 29001.10004266, 28759.28013048, 28860.30313688,\n",
              "       28983.79539769, 28808.69157201, 28866.60713596])"
            ]
          },
          "metadata": {
            "tags": []
          },
          "execution_count": 9
        }
      ]
    },
    {
      "cell_type": "markdown",
      "metadata": {
        "id": "KcjL9QzqyHOB"
      },
      "source": [
        "**Question 1.3** Print the shape of each both the arrays, they should have 15 elements each.  "
      ]
    },
    {
      "cell_type": "code",
      "metadata": {
        "colab": {
          "base_uri": "https://localhost:8080/"
        },
        "id": "a5ULc30yyHOB",
        "outputId": "79f82ce6-7408-4f80-c076-85b4bfb6db77"
      },
      "source": [
        "# Print the shape of ave_cols\n",
        "print(ave_cols.shape)\n",
        "# Print the shape of std_cols\n",
        "print(std_cols.shape)"
      ],
      "execution_count": 12,
      "outputs": [
        {
          "output_type": "stream",
          "text": [
            "(15,)\n",
            "(15,)\n"
          ],
          "name": "stdout"
        }
      ]
    },
    {
      "cell_type": "markdown",
      "metadata": {
        "id": "vzbkzIeCyHOC"
      },
      "source": [
        "**Question 1.4** Now that you have mean and standard deviation calculated, it is time to apply the transformation to the dataset. \n",
        " \n",
        "**HINT** The broadcast property of NumPy can make this a lot easier. You can read about it [here](https://numpy.org/doc/stable/user/basics.broadcasting.html).\n",
        "All you have to do is create one row of transformation values and repeat them through all the values."
      ]
    },
    {
      "cell_type": "code",
      "metadata": {
        "colab": {
          "base_uri": "https://localhost:8080/"
        },
        "id": "DTnm0JG4yHOC",
        "outputId": "e2341e0c-41f8-4472-a800-e0b77dfd1df0"
      },
      "source": [
        "# Mean normalize X\n",
        "\n",
        "X_norm = (X - ave_cols)/std_cols\n",
        "X_norm"
      ],
      "execution_count": 15,
      "outputs": [
        {
          "output_type": "execute_result",
          "data": {
            "text/plain": [
              "array([[ 1.53456672,  1.06025069,  0.15662207, ...,  1.66113102,\n",
              "        -1.62796279,  0.04685393],\n",
              "       [ 1.18718903, -0.17154543, -0.13858377, ...,  1.67569088,\n",
              "         1.59474518,  0.7840379 ],\n",
              "       [-0.07750008, -0.90365752, -1.0597491 , ..., -0.55797104,\n",
              "        -0.29690615, -0.86139275],\n",
              "       ...,\n",
              "       [ 1.00426436, -1.07067955, -1.22054412, ..., -1.51267692,\n",
              "         0.71237259,  1.34839241],\n",
              "       [ 0.76892287, -0.9294675 , -1.05438926, ..., -0.10616685,\n",
              "         0.95136296, -0.2961029 ],\n",
              "       [-1.63425526,  0.05528527,  0.90834747, ...,  0.79809705,\n",
              "         0.87402519, -0.12531733]])"
            ]
          },
          "metadata": {
            "tags": []
          },
          "execution_count": 15
        }
      ]
    },
    {
      "cell_type": "markdown",
      "metadata": {
        "id": "eCPy6Zj7yHOD"
      },
      "source": [
        "**Question 1.5** If the transformation has been performed correctly, the mean of elements in each column will be approximately 0. Also, the average of the **minimum** value in each column of X_norm and the average of the **maximum** value in each column of X_norm will have almost the same face value with opposite signs. Let’s confirm if the transformation has happened correctly. "
      ]
    },
    {
      "cell_type": "code",
      "metadata": {
        "colab": {
          "base_uri": "https://localhost:8080/"
        },
        "id": "S4RtBBZ0yHOD",
        "outputId": "74470f19-42b7-4232-daf2-a0e806a14947"
      },
      "source": [
        "# Print the average of all the values of X_norm\n",
        "print(np.average(X_norm))\n",
        "\n",
        "# Print the average of the minimum value in each column of X_norm\n",
        "print(np.average(X_norm.min(axis = 0)))\n",
        "\n",
        "# Print the average of the maximum value in each column of X_norm\n",
        "print(np.average(X_norm.max(axis = 0)))"
      ],
      "execution_count": 19,
      "outputs": [
        {
          "output_type": "stream",
          "text": [
            "-4.001776687800884e-17\n",
            "-1.7323629085275711\n",
            "1.7290740873275798\n"
          ],
          "name": "stdout"
        }
      ]
    },
    {
      "cell_type": "markdown",
      "metadata": {
        "id": "t7h30PYmyHOD"
      },
      "source": [
        "Be mindful that the exact values might not match since the dataset was initialized using the random function. \n",
        "\n",
        "# Data Spliting \n",
        "\n",
        "After data processing, it is a regular practice in ML to split the dataset into three datasets. \n",
        "\n",
        "1. A Training Set\n",
        "2. A Cross Validation Set\n",
        "3. A Test Set\n",
        "\n",
        "The ratios in which the data is split varies a bit from case to case. But the accepted standard 6:2:2 for train, test, and validation respectively. That is 60% for training data and so on. Again why is the data split or what is the signification of these smaller data sets? These questions are better left unanswered for now. \n",
        "The tanks assigned to you is to split the data in the given proportions randomly. \n",
        "For instance, if the data set had ten elements, this is how you would do it. "
      ]
    },
    {
      "cell_type": "code",
      "metadata": {
        "colab": {
          "base_uri": "https://localhost:8080/"
        },
        "id": "PTebANmByHOE",
        "outputId": "f5c463b1-4b8f-4082-9322-7d85b50ff89a"
      },
      "source": [
        "# We create a random permutation of integers 0 to 9\n",
        "np.random.permutation(10)"
      ],
      "execution_count": 20,
      "outputs": [
        {
          "output_type": "execute_result",
          "data": {
            "text/plain": [
              "array([0, 8, 5, 6, 2, 4, 3, 1, 7, 9])"
            ]
          },
          "metadata": {
            "tags": []
          },
          "execution_count": 20
        }
      ]
    },
    {
      "cell_type": "markdown",
      "metadata": {
        "id": "ldwg2hcQyHOE"
      },
      "source": [
        "1. training set = 8,3,7,5,2,6\n",
        "2. Cross Validation Set = 1,9\n",
        "3. Test Set = 0,4"
      ]
    },
    {
      "cell_type": "code",
      "metadata": {
        "id": "lSNj4h21CX99"
      },
      "source": [
        ""
      ],
      "execution_count": null,
      "outputs": []
    },
    {
      "cell_type": "markdown",
      "metadata": {
        "id": "m5xmIsJZyHOF"
      },
      "source": [
        "**Question 2.1** Similarly, create a 1D array representing the indexes of the rows in the dataset X_norm. U can use the   `np.random.permutation()` function for randomising the indexes. "
      ]
    },
    {
      "cell_type": "code",
      "metadata": {
        "id": "GSxcNnyTyHOF"
      },
      "source": [
        "# Create a rank 1 ndarray that contains a random permutation of the row indices of `X_norm`\n",
        "row_indices = np.random.permutation(np.arange(0,25000))"
      ],
      "execution_count": 21,
      "outputs": []
    },
    {
      "cell_type": "code",
      "metadata": {
        "colab": {
          "base_uri": "https://localhost:8080/"
        },
        "id": "SAW7yF6YyHOF",
        "outputId": "4b767799-2d99-4956-bd87-f38dbcaeabdd"
      },
      "source": [
        "# Print the shape of row_indices\n",
        "print(row_indices.shape)"
      ],
      "execution_count": 22,
      "outputs": [
        {
          "output_type": "stream",
          "text": [
            "(25000,)\n"
          ],
          "name": "stdout"
        }
      ]
    },
    {
      "cell_type": "markdown",
      "metadata": {
        "id": "W79yNDDVyHOG"
      },
      "source": [
        "**Question 2.2** Split the row indexes in the needed proportions. You can use the slicing methods you have learnt in this session to make the job easier.  "
      ]
    },
    {
      "cell_type": "code",
      "metadata": {
        "id": "9KGyUZ5yyHOG"
      },
      "source": [
        "# Make any necessary calculations.\n",
        "# You can save your calculations into variables to use later.\n",
        "train = row_indices[:15000]\n",
        "test = row_indices[15000:20000]\n",
        "val  = row_indices[20000:]"
      ],
      "execution_count": 23,
      "outputs": []
    },
    {
      "cell_type": "markdown",
      "metadata": {
        "id": "64g3kSPqyHOG"
      },
      "source": [
        "**Question 2.3** Now make use of the indexes that you made to split the data also similarly once the data is split print the shape of each of the smaller data sets. `X_train` should have 15000 rows and 15 columns. `X_test` should have 5000 rows and 15 columns. `X_val` should have 5000 rows and 15 columns. "
      ]
    },
    {
      "cell_type": "code",
      "metadata": {
        "id": "iE0OXx_ryHOH"
      },
      "source": [
        "# Create a Training Set\n",
        "X_train = X_norm[train]\n",
        "\n",
        "# Create a Cross Validation Set\n",
        "X_val = X_norm[test]\n",
        "\n",
        "# Create a Test Set\n",
        "X_test = X_norm[val]"
      ],
      "execution_count": 24,
      "outputs": []
    },
    {
      "cell_type": "code",
      "metadata": {
        "colab": {
          "base_uri": "https://localhost:8080/"
        },
        "id": "hB4_T9WnyHOH",
        "outputId": "2a2db3ce-7094-488b-fc88-2c3df29503fa"
      },
      "source": [
        "# Print the shape of X_train\n",
        "print(X_train.shape)\n",
        "\n",
        "# Print the shape of X_crossVal\n",
        "print(X_val.shape)\n",
        "\n",
        "# Print the shape of X_test\n",
        "print(X_test.shape)"
      ],
      "execution_count": 25,
      "outputs": [
        {
          "output_type": "stream",
          "text": [
            "(15000, 15)\n",
            "(5000, 15)\n",
            "(5000, 15)\n"
          ],
          "name": "stdout"
        }
      ]
    }
  ]
}