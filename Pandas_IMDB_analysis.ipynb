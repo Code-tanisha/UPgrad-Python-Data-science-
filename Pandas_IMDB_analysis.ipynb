{
  "nbformat": 4,
  "nbformat_minor": 0,
  "metadata": {
    "colab": {
      "name": "Pandas_IMDB_analysis.ipynb",
      "provenance": [],
      "authorship_tag": "ABX9TyNNLlyCgcln3HLUuaViH0yn",
      "include_colab_link": true
    },
    "kernelspec": {
      "name": "python3",
      "display_name": "Python 3"
    },
    "language_info": {
      "name": "python"
    }
  },
  "cells": [
    {
      "cell_type": "markdown",
      "metadata": {
        "id": "view-in-github",
        "colab_type": "text"
      },
      "source": [
        "<a href=\"https://colab.research.google.com/github/Code-tanisha/UPgrad-Python-Data-science-/blob/main/Pandas_IMDB_analysis.ipynb\" target=\"_parent\"><img src=\"https://colab.research.google.com/assets/colab-badge.svg\" alt=\"Open In Colab\"/></a>"
      ]
    },
    {
      "cell_type": "code",
      "metadata": {
        "id": "2ANBKEsYPN13"
      },
      "source": [
        "import pandas as pd\n",
        "import numpy as np\n",
        "import os"
      ],
      "execution_count": 1,
      "outputs": []
    },
    {
      "cell_type": "code",
      "metadata": {
        "colab": {
          "resources": {
            "http://localhost:8080/nbextensions/google.colab/files.js": {
              "data": "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",
              "ok": true,
              "headers": [
                [
                  "content-type",
                  "application/javascript"
                ]
              ],
              "status": 200,
              "status_text": ""
            }
          },
          "base_uri": "https://localhost:8080/",
          "height": 72
        },
        "id": "knwrLog7PRNz",
        "outputId": "ee265f01-b2f8-4a22-9ff0-e0d40f982768"
      },
      "source": [
        "from google.colab import files\n",
        "uploaded = files.upload()"
      ],
      "execution_count": 2,
      "outputs": [
        {
          "output_type": "display_data",
          "data": {
            "text/html": [
              "\n",
              "     <input type=\"file\" id=\"files-17ca4d29-3468-4573-ad99-125591f90a44\" name=\"files[]\" multiple disabled\n",
              "        style=\"border:none\" />\n",
              "     <output id=\"result-17ca4d29-3468-4573-ad99-125591f90a44\">\n",
              "      Upload widget is only available when the cell has been executed in the\n",
              "      current browser session. Please rerun this cell to enable.\n",
              "      </output>\n",
              "      <script src=\"/nbextensions/google.colab/files.js\"></script> "
            ],
            "text/plain": [
              "<IPython.core.display.HTML object>"
            ]
          },
          "metadata": {
            "tags": []
          }
        },
        {
          "output_type": "stream",
          "text": [
            "Saving Movies.csv to Movies.csv\n"
          ],
          "name": "stdout"
        }
      ]
    },
    {
      "cell_type": "code",
      "metadata": {
        "colab": {
          "base_uri": "https://localhost:8080/",
          "height": 343
        },
        "id": "nDAsItrfPUaU",
        "outputId": "0ad1f9df-9d40-4f87-8f6b-8db4686ebce2"
      },
      "source": [
        "data = pd.read_csv('Movies.csv')\n",
        "data.head()"
      ],
      "execution_count": 3,
      "outputs": [
        {
          "output_type": "execute_result",
          "data": {
            "text/html": [
              "<div>\n",
              "<style scoped>\n",
              "    .dataframe tbody tr th:only-of-type {\n",
              "        vertical-align: middle;\n",
              "    }\n",
              "\n",
              "    .dataframe tbody tr th {\n",
              "        vertical-align: top;\n",
              "    }\n",
              "\n",
              "    .dataframe thead th {\n",
              "        text-align: right;\n",
              "    }\n",
              "</style>\n",
              "<table border=\"1\" class=\"dataframe\">\n",
              "  <thead>\n",
              "    <tr style=\"text-align: right;\">\n",
              "      <th></th>\n",
              "      <th>color</th>\n",
              "      <th>director_name</th>\n",
              "      <th>num_critic_for_reviews</th>\n",
              "      <th>duration</th>\n",
              "      <th>director_facebook_likes</th>\n",
              "      <th>actor_3_facebook_likes</th>\n",
              "      <th>actor_2_name</th>\n",
              "      <th>actor_1_facebook_likes</th>\n",
              "      <th>gross</th>\n",
              "      <th>genres</th>\n",
              "      <th>actor_1_name</th>\n",
              "      <th>movie_title</th>\n",
              "      <th>num_voted_users</th>\n",
              "      <th>cast_total_facebook_likes</th>\n",
              "      <th>actor_3_name</th>\n",
              "      <th>facenumber_in_poster</th>\n",
              "      <th>plot_keywords</th>\n",
              "      <th>movie_imdb_link</th>\n",
              "      <th>num_user_for_reviews</th>\n",
              "      <th>language</th>\n",
              "      <th>country</th>\n",
              "      <th>content_rating</th>\n",
              "      <th>budget</th>\n",
              "      <th>title_year</th>\n",
              "      <th>actor_2_facebook_likes</th>\n",
              "      <th>imdb_score</th>\n",
              "      <th>aspect_ratio</th>\n",
              "      <th>movie_facebook_likes</th>\n",
              "    </tr>\n",
              "  </thead>\n",
              "  <tbody>\n",
              "    <tr>\n",
              "      <th>0</th>\n",
              "      <td>Color</td>\n",
              "      <td>James Cameron</td>\n",
              "      <td>723.0</td>\n",
              "      <td>178.0</td>\n",
              "      <td>0.0</td>\n",
              "      <td>855.0</td>\n",
              "      <td>Joel David Moore</td>\n",
              "      <td>1000.0</td>\n",
              "      <td>760505847.0</td>\n",
              "      <td>Action|Adventure|Fantasy|Sci-Fi</td>\n",
              "      <td>CCH Pounder</td>\n",
              "      <td>Avatar</td>\n",
              "      <td>886204</td>\n",
              "      <td>4834</td>\n",
              "      <td>Wes Studi</td>\n",
              "      <td>0.0</td>\n",
              "      <td>avatar|future|marine|native|paraplegic</td>\n",
              "      <td>http://www.imdb.com/title/tt0499549/?ref_=fn_t...</td>\n",
              "      <td>3054.0</td>\n",
              "      <td>English</td>\n",
              "      <td>USA</td>\n",
              "      <td>PG-13</td>\n",
              "      <td>237000000.0</td>\n",
              "      <td>2009.0</td>\n",
              "      <td>936.0</td>\n",
              "      <td>7.9</td>\n",
              "      <td>1.78</td>\n",
              "      <td>33000</td>\n",
              "    </tr>\n",
              "    <tr>\n",
              "      <th>1</th>\n",
              "      <td>Color</td>\n",
              "      <td>Gore Verbinski</td>\n",
              "      <td>302.0</td>\n",
              "      <td>169.0</td>\n",
              "      <td>563.0</td>\n",
              "      <td>1000.0</td>\n",
              "      <td>Orlando Bloom</td>\n",
              "      <td>40000.0</td>\n",
              "      <td>309404152.0</td>\n",
              "      <td>Action|Adventure|Fantasy</td>\n",
              "      <td>Johnny Depp</td>\n",
              "      <td>Pirates of the Caribbean: At World's End</td>\n",
              "      <td>471220</td>\n",
              "      <td>48350</td>\n",
              "      <td>Jack Davenport</td>\n",
              "      <td>0.0</td>\n",
              "      <td>goddess|marriage ceremony|marriage proposal|pi...</td>\n",
              "      <td>http://www.imdb.com/title/tt0449088/?ref_=fn_t...</td>\n",
              "      <td>1238.0</td>\n",
              "      <td>English</td>\n",
              "      <td>USA</td>\n",
              "      <td>PG-13</td>\n",
              "      <td>300000000.0</td>\n",
              "      <td>2007.0</td>\n",
              "      <td>5000.0</td>\n",
              "      <td>7.1</td>\n",
              "      <td>2.35</td>\n",
              "      <td>0</td>\n",
              "    </tr>\n",
              "    <tr>\n",
              "      <th>2</th>\n",
              "      <td>Color</td>\n",
              "      <td>Sam Mendes</td>\n",
              "      <td>602.0</td>\n",
              "      <td>148.0</td>\n",
              "      <td>0.0</td>\n",
              "      <td>161.0</td>\n",
              "      <td>Rory Kinnear</td>\n",
              "      <td>11000.0</td>\n",
              "      <td>200074175.0</td>\n",
              "      <td>Action|Adventure|Thriller</td>\n",
              "      <td>Christoph Waltz</td>\n",
              "      <td>Spectre</td>\n",
              "      <td>275868</td>\n",
              "      <td>11700</td>\n",
              "      <td>Stephanie Sigman</td>\n",
              "      <td>1.0</td>\n",
              "      <td>bomb|espionage|sequel|spy|terrorist</td>\n",
              "      <td>http://www.imdb.com/title/tt2379713/?ref_=fn_t...</td>\n",
              "      <td>994.0</td>\n",
              "      <td>English</td>\n",
              "      <td>UK</td>\n",
              "      <td>PG-13</td>\n",
              "      <td>245000000.0</td>\n",
              "      <td>2015.0</td>\n",
              "      <td>393.0</td>\n",
              "      <td>6.8</td>\n",
              "      <td>2.35</td>\n",
              "      <td>85000</td>\n",
              "    </tr>\n",
              "    <tr>\n",
              "      <th>3</th>\n",
              "      <td>Color</td>\n",
              "      <td>Christopher Nolan</td>\n",
              "      <td>813.0</td>\n",
              "      <td>164.0</td>\n",
              "      <td>22000.0</td>\n",
              "      <td>23000.0</td>\n",
              "      <td>Christian Bale</td>\n",
              "      <td>27000.0</td>\n",
              "      <td>448130642.0</td>\n",
              "      <td>Action|Thriller</td>\n",
              "      <td>Tom Hardy</td>\n",
              "      <td>The Dark Knight Rises</td>\n",
              "      <td>1144337</td>\n",
              "      <td>106759</td>\n",
              "      <td>Joseph Gordon-Levitt</td>\n",
              "      <td>0.0</td>\n",
              "      <td>deception|imprisonment|lawlessness|police offi...</td>\n",
              "      <td>http://www.imdb.com/title/tt1345836/?ref_=fn_t...</td>\n",
              "      <td>2701.0</td>\n",
              "      <td>English</td>\n",
              "      <td>USA</td>\n",
              "      <td>PG-13</td>\n",
              "      <td>250000000.0</td>\n",
              "      <td>2012.0</td>\n",
              "      <td>23000.0</td>\n",
              "      <td>8.5</td>\n",
              "      <td>2.35</td>\n",
              "      <td>164000</td>\n",
              "    </tr>\n",
              "    <tr>\n",
              "      <th>4</th>\n",
              "      <td>Color</td>\n",
              "      <td>Andrew Stanton</td>\n",
              "      <td>462.0</td>\n",
              "      <td>132.0</td>\n",
              "      <td>475.0</td>\n",
              "      <td>530.0</td>\n",
              "      <td>Samantha Morton</td>\n",
              "      <td>640.0</td>\n",
              "      <td>73058679.0</td>\n",
              "      <td>Action|Adventure|Sci-Fi</td>\n",
              "      <td>Daryl Sabara</td>\n",
              "      <td>John Carter</td>\n",
              "      <td>212204</td>\n",
              "      <td>1873</td>\n",
              "      <td>Polly Walker</td>\n",
              "      <td>1.0</td>\n",
              "      <td>alien|american civil war|male nipple|mars|prin...</td>\n",
              "      <td>http://www.imdb.com/title/tt0401729/?ref_=fn_t...</td>\n",
              "      <td>738.0</td>\n",
              "      <td>English</td>\n",
              "      <td>USA</td>\n",
              "      <td>PG-13</td>\n",
              "      <td>263700000.0</td>\n",
              "      <td>2012.0</td>\n",
              "      <td>632.0</td>\n",
              "      <td>6.6</td>\n",
              "      <td>2.35</td>\n",
              "      <td>24000</td>\n",
              "    </tr>\n",
              "  </tbody>\n",
              "</table>\n",
              "</div>"
            ],
            "text/plain": [
              "   color      director_name  ...  aspect_ratio  movie_facebook_likes\n",
              "0  Color      James Cameron  ...          1.78                 33000\n",
              "1  Color     Gore Verbinski  ...          2.35                     0\n",
              "2  Color         Sam Mendes  ...          2.35                 85000\n",
              "3  Color  Christopher Nolan  ...          2.35                164000\n",
              "4  Color     Andrew Stanton  ...          2.35                 24000\n",
              "\n",
              "[5 rows x 28 columns]"
            ]
          },
          "metadata": {
            "tags": []
          },
          "execution_count": 3
        }
      ]
    },
    {
      "cell_type": "code",
      "metadata": {
        "colab": {
          "base_uri": "https://localhost:8080/"
        },
        "id": "DJeUb3bOPgcX",
        "outputId": "e83caa1c-f906-47d3-ca53-a2f7cca214f6"
      },
      "source": [
        "data.shape"
      ],
      "execution_count": 5,
      "outputs": [
        {
          "output_type": "execute_result",
          "data": {
            "text/plain": [
              "(3853, 28)"
            ]
          },
          "metadata": {
            "tags": []
          },
          "execution_count": 5
        }
      ]
    },
    {
      "cell_type": "markdown",
      "metadata": {
        "id": "c4pd9J3VP4GW"
      },
      "source": [
        "**Columns with Null values**\n",
        "\n",
        "How many columns have null values present in them? Try writing code for this instead of counting them manually."
      ]
    },
    {
      "cell_type": "code",
      "metadata": {
        "colab": {
          "base_uri": "https://localhost:8080/",
          "height": 470
        },
        "id": "kWiEzMl1PouQ",
        "outputId": "c105b3d7-ef1f-47a3-98a9-1b22b9e85a5f"
      },
      "source": [
        "data.loc[:, data.isna().any()]"
      ],
      "execution_count": 7,
      "outputs": [
        {
          "output_type": "execute_result",
          "data": {
            "text/html": [
              "<div>\n",
              "<style scoped>\n",
              "    .dataframe tbody tr th:only-of-type {\n",
              "        vertical-align: middle;\n",
              "    }\n",
              "\n",
              "    .dataframe tbody tr th {\n",
              "        vertical-align: top;\n",
              "    }\n",
              "\n",
              "    .dataframe thead th {\n",
              "        text-align: right;\n",
              "    }\n",
              "</style>\n",
              "<table border=\"1\" class=\"dataframe\">\n",
              "  <thead>\n",
              "    <tr style=\"text-align: right;\">\n",
              "      <th></th>\n",
              "      <th>color</th>\n",
              "      <th>num_critic_for_reviews</th>\n",
              "      <th>duration</th>\n",
              "      <th>actor_3_facebook_likes</th>\n",
              "      <th>actor_2_name</th>\n",
              "      <th>actor_3_name</th>\n",
              "      <th>facenumber_in_poster</th>\n",
              "      <th>plot_keywords</th>\n",
              "      <th>language</th>\n",
              "      <th>content_rating</th>\n",
              "      <th>actor_2_facebook_likes</th>\n",
              "      <th>aspect_ratio</th>\n",
              "    </tr>\n",
              "  </thead>\n",
              "  <tbody>\n",
              "    <tr>\n",
              "      <th>0</th>\n",
              "      <td>Color</td>\n",
              "      <td>723.0</td>\n",
              "      <td>178.0</td>\n",
              "      <td>855.0</td>\n",
              "      <td>Joel David Moore</td>\n",
              "      <td>Wes Studi</td>\n",
              "      <td>0.0</td>\n",
              "      <td>avatar|future|marine|native|paraplegic</td>\n",
              "      <td>English</td>\n",
              "      <td>PG-13</td>\n",
              "      <td>936.0</td>\n",
              "      <td>1.78</td>\n",
              "    </tr>\n",
              "    <tr>\n",
              "      <th>1</th>\n",
              "      <td>Color</td>\n",
              "      <td>302.0</td>\n",
              "      <td>169.0</td>\n",
              "      <td>1000.0</td>\n",
              "      <td>Orlando Bloom</td>\n",
              "      <td>Jack Davenport</td>\n",
              "      <td>0.0</td>\n",
              "      <td>goddess|marriage ceremony|marriage proposal|pi...</td>\n",
              "      <td>English</td>\n",
              "      <td>PG-13</td>\n",
              "      <td>5000.0</td>\n",
              "      <td>2.35</td>\n",
              "    </tr>\n",
              "    <tr>\n",
              "      <th>2</th>\n",
              "      <td>Color</td>\n",
              "      <td>602.0</td>\n",
              "      <td>148.0</td>\n",
              "      <td>161.0</td>\n",
              "      <td>Rory Kinnear</td>\n",
              "      <td>Stephanie Sigman</td>\n",
              "      <td>1.0</td>\n",
              "      <td>bomb|espionage|sequel|spy|terrorist</td>\n",
              "      <td>English</td>\n",
              "      <td>PG-13</td>\n",
              "      <td>393.0</td>\n",
              "      <td>2.35</td>\n",
              "    </tr>\n",
              "    <tr>\n",
              "      <th>3</th>\n",
              "      <td>Color</td>\n",
              "      <td>813.0</td>\n",
              "      <td>164.0</td>\n",
              "      <td>23000.0</td>\n",
              "      <td>Christian Bale</td>\n",
              "      <td>Joseph Gordon-Levitt</td>\n",
              "      <td>0.0</td>\n",
              "      <td>deception|imprisonment|lawlessness|police offi...</td>\n",
              "      <td>English</td>\n",
              "      <td>PG-13</td>\n",
              "      <td>23000.0</td>\n",
              "      <td>2.35</td>\n",
              "    </tr>\n",
              "    <tr>\n",
              "      <th>4</th>\n",
              "      <td>Color</td>\n",
              "      <td>462.0</td>\n",
              "      <td>132.0</td>\n",
              "      <td>530.0</td>\n",
              "      <td>Samantha Morton</td>\n",
              "      <td>Polly Walker</td>\n",
              "      <td>1.0</td>\n",
              "      <td>alien|american civil war|male nipple|mars|prin...</td>\n",
              "      <td>English</td>\n",
              "      <td>PG-13</td>\n",
              "      <td>632.0</td>\n",
              "      <td>2.35</td>\n",
              "    </tr>\n",
              "    <tr>\n",
              "      <th>...</th>\n",
              "      <td>...</td>\n",
              "      <td>...</td>\n",
              "      <td>...</td>\n",
              "      <td>...</td>\n",
              "      <td>...</td>\n",
              "      <td>...</td>\n",
              "      <td>...</td>\n",
              "      <td>...</td>\n",
              "      <td>...</td>\n",
              "      <td>...</td>\n",
              "      <td>...</td>\n",
              "      <td>...</td>\n",
              "    </tr>\n",
              "    <tr>\n",
              "      <th>3848</th>\n",
              "      <td>Color</td>\n",
              "      <td>143.0</td>\n",
              "      <td>77.0</td>\n",
              "      <td>8.0</td>\n",
              "      <td>David Sullivan</td>\n",
              "      <td>Casey Gooden</td>\n",
              "      <td>0.0</td>\n",
              "      <td>changing the future|independent film|invention...</td>\n",
              "      <td>English</td>\n",
              "      <td>PG-13</td>\n",
              "      <td>45.0</td>\n",
              "      <td>1.85</td>\n",
              "    </tr>\n",
              "    <tr>\n",
              "      <th>3849</th>\n",
              "      <td>Color</td>\n",
              "      <td>35.0</td>\n",
              "      <td>80.0</td>\n",
              "      <td>0.0</td>\n",
              "      <td>Edgar Tancangco</td>\n",
              "      <td>Quynn Ton</td>\n",
              "      <td>0.0</td>\n",
              "      <td>jihad|mindanao|philippines|security guard|squa...</td>\n",
              "      <td>English</td>\n",
              "      <td>Not Rated</td>\n",
              "      <td>0.0</td>\n",
              "      <td>NaN</td>\n",
              "    </tr>\n",
              "    <tr>\n",
              "      <th>3850</th>\n",
              "      <td>Color</td>\n",
              "      <td>56.0</td>\n",
              "      <td>81.0</td>\n",
              "      <td>6.0</td>\n",
              "      <td>Peter Marquardt</td>\n",
              "      <td>Consuelo Gómez</td>\n",
              "      <td>0.0</td>\n",
              "      <td>assassin|death|guitar|gun|mariachi</td>\n",
              "      <td>Spanish</td>\n",
              "      <td>R</td>\n",
              "      <td>20.0</td>\n",
              "      <td>1.37</td>\n",
              "    </tr>\n",
              "    <tr>\n",
              "      <th>3851</th>\n",
              "      <td>Color</td>\n",
              "      <td>14.0</td>\n",
              "      <td>95.0</td>\n",
              "      <td>133.0</td>\n",
              "      <td>Caitlin FitzGerald</td>\n",
              "      <td>Daniella Pineda</td>\n",
              "      <td>1.0</td>\n",
              "      <td>written and directed by cast member</td>\n",
              "      <td>English</td>\n",
              "      <td>Not Rated</td>\n",
              "      <td>205.0</td>\n",
              "      <td>NaN</td>\n",
              "    </tr>\n",
              "    <tr>\n",
              "      <th>3852</th>\n",
              "      <td>Color</td>\n",
              "      <td>43.0</td>\n",
              "      <td>90.0</td>\n",
              "      <td>16.0</td>\n",
              "      <td>Brian Herzlinger</td>\n",
              "      <td>Jon Gunn</td>\n",
              "      <td>0.0</td>\n",
              "      <td>actress name in title|crush|date|four word tit...</td>\n",
              "      <td>English</td>\n",
              "      <td>PG</td>\n",
              "      <td>23.0</td>\n",
              "      <td>1.85</td>\n",
              "    </tr>\n",
              "  </tbody>\n",
              "</table>\n",
              "<p>3853 rows × 12 columns</p>\n",
              "</div>"
            ],
            "text/plain": [
              "      color  num_critic_for_reviews  ...  actor_2_facebook_likes  aspect_ratio\n",
              "0     Color                   723.0  ...                   936.0          1.78\n",
              "1     Color                   302.0  ...                  5000.0          2.35\n",
              "2     Color                   602.0  ...                   393.0          2.35\n",
              "3     Color                   813.0  ...                 23000.0          2.35\n",
              "4     Color                   462.0  ...                   632.0          2.35\n",
              "...     ...                     ...  ...                     ...           ...\n",
              "3848  Color                   143.0  ...                    45.0          1.85\n",
              "3849  Color                    35.0  ...                     0.0           NaN\n",
              "3850  Color                    56.0  ...                    20.0          1.37\n",
              "3851  Color                    14.0  ...                   205.0           NaN\n",
              "3852  Color                    43.0  ...                    23.0          1.85\n",
              "\n",
              "[3853 rows x 12 columns]"
            ]
          },
          "metadata": {
            "tags": []
          },
          "execution_count": 7
        }
      ]
    },
    {
      "cell_type": "code",
      "metadata": {
        "colab": {
          "base_uri": "https://localhost:8080/"
        },
        "id": "nsCnPVCAQMm6",
        "outputId": "76d7524e-22d6-4c3e-8297-98bb95423d9e"
      },
      "source": [
        "# Another method to find null values\n",
        "print((data.isnull().sum()>0).sum())"
      ],
      "execution_count": 9,
      "outputs": [
        {
          "output_type": "stream",
          "text": [
            "12\n"
          ],
          "name": "stdout"
        }
      ]
    },
    {
      "cell_type": "markdown",
      "metadata": {
        "id": "mOWuBiYLQZZA"
      },
      "source": [
        "**Dropping Columns**\n",
        "\n",
        "What is the count of columns in the new dataframe?"
      ]
    },
    {
      "cell_type": "code",
      "metadata": {
        "colab": {
          "base_uri": "https://localhost:8080/"
        },
        "id": "gGEceDTiQTY1",
        "outputId": "77dbdce9-a19f-4cb2-b951-98296a815fc9"
      },
      "source": [
        "data.shape"
      ],
      "execution_count": 10,
      "outputs": [
        {
          "output_type": "execute_result",
          "data": {
            "text/plain": [
              "(3853, 28)"
            ]
          },
          "metadata": {
            "tags": []
          },
          "execution_count": 10
        }
      ]
    },
    {
      "cell_type": "markdown",
      "metadata": {
        "id": "fm3KTkB9RYE6"
      },
      "source": [
        "**Deriving a Metric**\n",
        "\n",
        "Which column has the highest percentage of null values?"
      ]
    },
    {
      "cell_type": "code",
      "metadata": {
        "colab": {
          "base_uri": "https://localhost:8080/"
        },
        "id": "RdGHpDiXRZ5i",
        "outputId": "84c68e8c-ba6e-4590-befc-32ea4c8e2456"
      },
      "source": [
        "round(100*(data.isnull().sum()/len(data.index)),2)"
      ],
      "execution_count": 15,
      "outputs": [
        {
          "output_type": "execute_result",
          "data": {
            "text/plain": [
              "color                        0.05\n",
              "director_name                0.00\n",
              "num_critic_for_reviews       0.03\n",
              "duration                     0.03\n",
              "director_facebook_likes      0.00\n",
              "actor_3_facebook_likes       0.16\n",
              "actor_2_name                 0.03\n",
              "actor_1_facebook_likes       0.00\n",
              "gross                        0.00\n",
              "genres                       0.00\n",
              "actor_1_name                 0.00\n",
              "movie_title                  0.00\n",
              "num_voted_users              0.00\n",
              "cast_total_facebook_likes    0.00\n",
              "actor_3_name                 0.16\n",
              "facenumber_in_poster         0.16\n",
              "plot_keywords                0.78\n",
              "movie_imdb_link              0.00\n",
              "num_user_for_reviews         0.00\n",
              "language                     0.08\n",
              "country                      0.00\n",
              "content_rating               1.25\n",
              "budget                       0.00\n",
              "title_year                   0.00\n",
              "actor_2_facebook_likes       0.03\n",
              "imdb_score                   0.00\n",
              "aspect_ratio                 1.87\n",
              "movie_facebook_likes         0.00\n",
              "dtype: float64"
            ]
          },
          "metadata": {
            "tags": []
          },
          "execution_count": 15
        }
      ]
    },
    {
      "cell_type": "markdown",
      "metadata": {
        "id": "35Ay7m5dS1wu"
      },
      "source": [
        "**Replacing Null values**\n",
        "\n",
        "What is the count of movies made in the English language after replacing the NaN values with English?"
      ]
    },
    {
      "cell_type": "code",
      "metadata": {
        "id": "CghOBS1IS4Cg"
      },
      "source": [
        "# To replace the values, you can equate the entries with language column as null with 'English':\n",
        "\n",
        "data.loc[pd.isnull(data['language']), ['language']] = 'English'\n"
      ],
      "execution_count": 17,
      "outputs": []
    },
    {
      "cell_type": "code",
      "metadata": {
        "colab": {
          "base_uri": "https://localhost:8080/"
        },
        "id": "d-KRMHDRUwaV",
        "outputId": "e85e3a9d-79b3-43db-93bb-c024a040bffc"
      },
      "source": [
        "# Next, you can count the movies made in English:\n",
        "\n",
        "(data.language == 'English').sum()"
      ],
      "execution_count": 18,
      "outputs": [
        {
          "output_type": "execute_result",
          "data": {
            "text/plain": [
              "3674"
            ]
          },
          "metadata": {
            "tags": []
          },
          "execution_count": 18
        }
      ]
    },
    {
      "cell_type": "markdown",
      "metadata": {
        "id": "Vz1S1OUKVgW8"
      },
      "source": [
        "**Sorting a dataframe**\n",
        "\n",
        "Which movie is ranked 5th from the top in the list based on the net profit obtained?\n",
        "\n",
        "Note: net profit = gross - budget"
      ]
    },
    {
      "cell_type": "code",
      "metadata": {
        "id": "y9IDFvzkViGe"
      },
      "source": [
        "# You can create the column 'Profit' using the following code:\n",
        "\n",
        "data['profit'] = data['gross'] - data['budget']"
      ],
      "execution_count": 20,
      "outputs": []
    },
    {
      "cell_type": "code",
      "metadata": {
        "colab": {
          "base_uri": "https://localhost:8080/",
          "height": 617
        },
        "id": "JMjZqXAGVpLk",
        "outputId": "690ffa4d-500e-408e-d32d-606cf537228c"
      },
      "source": [
        "# Once you have the column ready, you can use the sort function:\n",
        "\n",
        "top_10 = data.sort_values(by = 'profit', ascending = False).head(10)\n",
        "top_10"
      ],
      "execution_count": 22,
      "outputs": [
        {
          "output_type": "execute_result",
          "data": {
            "text/html": [
              "<div>\n",
              "<style scoped>\n",
              "    .dataframe tbody tr th:only-of-type {\n",
              "        vertical-align: middle;\n",
              "    }\n",
              "\n",
              "    .dataframe tbody tr th {\n",
              "        vertical-align: top;\n",
              "    }\n",
              "\n",
              "    .dataframe thead th {\n",
              "        text-align: right;\n",
              "    }\n",
              "</style>\n",
              "<table border=\"1\" class=\"dataframe\">\n",
              "  <thead>\n",
              "    <tr style=\"text-align: right;\">\n",
              "      <th></th>\n",
              "      <th>color</th>\n",
              "      <th>director_name</th>\n",
              "      <th>num_critic_for_reviews</th>\n",
              "      <th>duration</th>\n",
              "      <th>director_facebook_likes</th>\n",
              "      <th>actor_3_facebook_likes</th>\n",
              "      <th>actor_2_name</th>\n",
              "      <th>actor_1_facebook_likes</th>\n",
              "      <th>gross</th>\n",
              "      <th>genres</th>\n",
              "      <th>actor_1_name</th>\n",
              "      <th>movie_title</th>\n",
              "      <th>num_voted_users</th>\n",
              "      <th>cast_total_facebook_likes</th>\n",
              "      <th>actor_3_name</th>\n",
              "      <th>facenumber_in_poster</th>\n",
              "      <th>plot_keywords</th>\n",
              "      <th>movie_imdb_link</th>\n",
              "      <th>num_user_for_reviews</th>\n",
              "      <th>language</th>\n",
              "      <th>country</th>\n",
              "      <th>content_rating</th>\n",
              "      <th>budget</th>\n",
              "      <th>title_year</th>\n",
              "      <th>actor_2_facebook_likes</th>\n",
              "      <th>imdb_score</th>\n",
              "      <th>aspect_ratio</th>\n",
              "      <th>movie_facebook_likes</th>\n",
              "      <th>profit</th>\n",
              "    </tr>\n",
              "  </thead>\n",
              "  <tbody>\n",
              "    <tr>\n",
              "      <th>0</th>\n",
              "      <td>Color</td>\n",
              "      <td>James Cameron</td>\n",
              "      <td>723.0</td>\n",
              "      <td>178.0</td>\n",
              "      <td>0.0</td>\n",
              "      <td>855.0</td>\n",
              "      <td>Joel David Moore</td>\n",
              "      <td>1000.0</td>\n",
              "      <td>760505847.0</td>\n",
              "      <td>Action|Adventure|Fantasy|Sci-Fi</td>\n",
              "      <td>CCH Pounder</td>\n",
              "      <td>Avatar</td>\n",
              "      <td>886204</td>\n",
              "      <td>4834</td>\n",
              "      <td>Wes Studi</td>\n",
              "      <td>0.0</td>\n",
              "      <td>avatar|future|marine|native|paraplegic</td>\n",
              "      <td>http://www.imdb.com/title/tt0499549/?ref_=fn_t...</td>\n",
              "      <td>3054.0</td>\n",
              "      <td>English</td>\n",
              "      <td>USA</td>\n",
              "      <td>PG-13</td>\n",
              "      <td>237000000.0</td>\n",
              "      <td>2009.0</td>\n",
              "      <td>936.0</td>\n",
              "      <td>7.9</td>\n",
              "      <td>1.78</td>\n",
              "      <td>33000</td>\n",
              "      <td>523505847.0</td>\n",
              "    </tr>\n",
              "    <tr>\n",
              "      <th>28</th>\n",
              "      <td>Color</td>\n",
              "      <td>Colin Trevorrow</td>\n",
              "      <td>644.0</td>\n",
              "      <td>124.0</td>\n",
              "      <td>365.0</td>\n",
              "      <td>1000.0</td>\n",
              "      <td>Judy Greer</td>\n",
              "      <td>3000.0</td>\n",
              "      <td>652177271.0</td>\n",
              "      <td>Action|Adventure|Sci-Fi|Thriller</td>\n",
              "      <td>Bryce Dallas Howard</td>\n",
              "      <td>Jurassic World</td>\n",
              "      <td>418214</td>\n",
              "      <td>8458</td>\n",
              "      <td>Omar Sy</td>\n",
              "      <td>0.0</td>\n",
              "      <td>dinosaur|disaster film|experiment gone wrong|j...</td>\n",
              "      <td>http://www.imdb.com/title/tt0369610/?ref_=fn_t...</td>\n",
              "      <td>1290.0</td>\n",
              "      <td>English</td>\n",
              "      <td>USA</td>\n",
              "      <td>PG-13</td>\n",
              "      <td>150000000.0</td>\n",
              "      <td>2015.0</td>\n",
              "      <td>2000.0</td>\n",
              "      <td>7.0</td>\n",
              "      <td>2.00</td>\n",
              "      <td>150000</td>\n",
              "      <td>502177271.0</td>\n",
              "    </tr>\n",
              "    <tr>\n",
              "      <th>25</th>\n",
              "      <td>Color</td>\n",
              "      <td>James Cameron</td>\n",
              "      <td>315.0</td>\n",
              "      <td>194.0</td>\n",
              "      <td>0.0</td>\n",
              "      <td>794.0</td>\n",
              "      <td>Kate Winslet</td>\n",
              "      <td>29000.0</td>\n",
              "      <td>658672302.0</td>\n",
              "      <td>Drama|Romance</td>\n",
              "      <td>Leonardo DiCaprio</td>\n",
              "      <td>Titanic</td>\n",
              "      <td>793059</td>\n",
              "      <td>45223</td>\n",
              "      <td>Gloria Stuart</td>\n",
              "      <td>0.0</td>\n",
              "      <td>artist|love|ship|titanic|wet</td>\n",
              "      <td>http://www.imdb.com/title/tt0120338/?ref_=fn_t...</td>\n",
              "      <td>2528.0</td>\n",
              "      <td>English</td>\n",
              "      <td>USA</td>\n",
              "      <td>PG-13</td>\n",
              "      <td>200000000.0</td>\n",
              "      <td>1997.0</td>\n",
              "      <td>14000.0</td>\n",
              "      <td>7.7</td>\n",
              "      <td>2.35</td>\n",
              "      <td>26000</td>\n",
              "      <td>458672302.0</td>\n",
              "    </tr>\n",
              "    <tr>\n",
              "      <th>2704</th>\n",
              "      <td>Color</td>\n",
              "      <td>George Lucas</td>\n",
              "      <td>282.0</td>\n",
              "      <td>125.0</td>\n",
              "      <td>0.0</td>\n",
              "      <td>504.0</td>\n",
              "      <td>Peter Cushing</td>\n",
              "      <td>11000.0</td>\n",
              "      <td>460935665.0</td>\n",
              "      <td>Action|Adventure|Fantasy|Sci-Fi</td>\n",
              "      <td>Harrison Ford</td>\n",
              "      <td>Star Wars: Episode IV - A New Hope</td>\n",
              "      <td>911097</td>\n",
              "      <td>13485</td>\n",
              "      <td>Kenny Baker</td>\n",
              "      <td>1.0</td>\n",
              "      <td>death star|empire|galactic war|princess|rebellion</td>\n",
              "      <td>http://www.imdb.com/title/tt0076759/?ref_=fn_t...</td>\n",
              "      <td>1470.0</td>\n",
              "      <td>English</td>\n",
              "      <td>USA</td>\n",
              "      <td>PG</td>\n",
              "      <td>11000000.0</td>\n",
              "      <td>1977.0</td>\n",
              "      <td>1000.0</td>\n",
              "      <td>8.7</td>\n",
              "      <td>2.35</td>\n",
              "      <td>33000</td>\n",
              "      <td>449935665.0</td>\n",
              "    </tr>\n",
              "    <tr>\n",
              "      <th>2748</th>\n",
              "      <td>Color</td>\n",
              "      <td>Steven Spielberg</td>\n",
              "      <td>215.0</td>\n",
              "      <td>120.0</td>\n",
              "      <td>14000.0</td>\n",
              "      <td>548.0</td>\n",
              "      <td>Dee Wallace</td>\n",
              "      <td>861.0</td>\n",
              "      <td>434949459.0</td>\n",
              "      <td>Family|Sci-Fi</td>\n",
              "      <td>Henry Thomas</td>\n",
              "      <td>E.T. the Extra-Terrestrial</td>\n",
              "      <td>281842</td>\n",
              "      <td>2811</td>\n",
              "      <td>Peter Coyote</td>\n",
              "      <td>0.0</td>\n",
              "      <td>bicyclist|boy|doll|star wars reference|voice i...</td>\n",
              "      <td>http://www.imdb.com/title/tt0083866/?ref_=fn_t...</td>\n",
              "      <td>515.0</td>\n",
              "      <td>English</td>\n",
              "      <td>USA</td>\n",
              "      <td>PG</td>\n",
              "      <td>10500000.0</td>\n",
              "      <td>1982.0</td>\n",
              "      <td>725.0</td>\n",
              "      <td>7.9</td>\n",
              "      <td>1.85</td>\n",
              "      <td>34000</td>\n",
              "      <td>424449459.0</td>\n",
              "    </tr>\n",
              "    <tr>\n",
              "      <th>16</th>\n",
              "      <td>Color</td>\n",
              "      <td>Joss Whedon</td>\n",
              "      <td>703.0</td>\n",
              "      <td>173.0</td>\n",
              "      <td>0.0</td>\n",
              "      <td>19000.0</td>\n",
              "      <td>Robert Downey Jr.</td>\n",
              "      <td>26000.0</td>\n",
              "      <td>623279547.0</td>\n",
              "      <td>Action|Adventure|Sci-Fi</td>\n",
              "      <td>Chris Hemsworth</td>\n",
              "      <td>The Avengers</td>\n",
              "      <td>995415</td>\n",
              "      <td>87697</td>\n",
              "      <td>Scarlett Johansson</td>\n",
              "      <td>3.0</td>\n",
              "      <td>alien invasion|assassin|battle|iron man|soldier</td>\n",
              "      <td>http://www.imdb.com/title/tt0848228/?ref_=fn_t...</td>\n",
              "      <td>1722.0</td>\n",
              "      <td>English</td>\n",
              "      <td>USA</td>\n",
              "      <td>PG-13</td>\n",
              "      <td>220000000.0</td>\n",
              "      <td>2012.0</td>\n",
              "      <td>21000.0</td>\n",
              "      <td>8.1</td>\n",
              "      <td>1.85</td>\n",
              "      <td>123000</td>\n",
              "      <td>403279547.0</td>\n",
              "    </tr>\n",
              "    <tr>\n",
              "      <th>482</th>\n",
              "      <td>Color</td>\n",
              "      <td>Roger Allers</td>\n",
              "      <td>186.0</td>\n",
              "      <td>73.0</td>\n",
              "      <td>28.0</td>\n",
              "      <td>847.0</td>\n",
              "      <td>Nathan Lane</td>\n",
              "      <td>2000.0</td>\n",
              "      <td>422783777.0</td>\n",
              "      <td>Adventure|Animation|Drama|Family|Musical</td>\n",
              "      <td>Matthew Broderick</td>\n",
              "      <td>The Lion King</td>\n",
              "      <td>644348</td>\n",
              "      <td>6458</td>\n",
              "      <td>Niketa Calame</td>\n",
              "      <td>0.0</td>\n",
              "      <td>king|prince|scar|uncle|unnecessary guilt</td>\n",
              "      <td>http://www.imdb.com/title/tt0110357/?ref_=fn_t...</td>\n",
              "      <td>656.0</td>\n",
              "      <td>English</td>\n",
              "      <td>USA</td>\n",
              "      <td>G</td>\n",
              "      <td>45000000.0</td>\n",
              "      <td>1994.0</td>\n",
              "      <td>886.0</td>\n",
              "      <td>8.5</td>\n",
              "      <td>1.66</td>\n",
              "      <td>17000</td>\n",
              "      <td>377783777.0</td>\n",
              "    </tr>\n",
              "    <tr>\n",
              "      <th>230</th>\n",
              "      <td>Color</td>\n",
              "      <td>George Lucas</td>\n",
              "      <td>320.0</td>\n",
              "      <td>136.0</td>\n",
              "      <td>0.0</td>\n",
              "      <td>1000.0</td>\n",
              "      <td>Liam Neeson</td>\n",
              "      <td>20000.0</td>\n",
              "      <td>474544677.0</td>\n",
              "      <td>Action|Adventure|Fantasy|Sci-Fi</td>\n",
              "      <td>Natalie Portman</td>\n",
              "      <td>Star Wars: Episode I - The Phantom Menace</td>\n",
              "      <td>534658</td>\n",
              "      <td>37723</td>\n",
              "      <td>Ian McDiarmid</td>\n",
              "      <td>1.0</td>\n",
              "      <td>alien|character says i have a bad feeling abou...</td>\n",
              "      <td>http://www.imdb.com/title/tt0120915/?ref_=fn_t...</td>\n",
              "      <td>3597.0</td>\n",
              "      <td>English</td>\n",
              "      <td>USA</td>\n",
              "      <td>PG</td>\n",
              "      <td>115000000.0</td>\n",
              "      <td>1999.0</td>\n",
              "      <td>14000.0</td>\n",
              "      <td>6.5</td>\n",
              "      <td>2.35</td>\n",
              "      <td>13000</td>\n",
              "      <td>359544677.0</td>\n",
              "    </tr>\n",
              "    <tr>\n",
              "      <th>64</th>\n",
              "      <td>Color</td>\n",
              "      <td>Christopher Nolan</td>\n",
              "      <td>645.0</td>\n",
              "      <td>152.0</td>\n",
              "      <td>22000.0</td>\n",
              "      <td>11000.0</td>\n",
              "      <td>Heath Ledger</td>\n",
              "      <td>23000.0</td>\n",
              "      <td>533316061.0</td>\n",
              "      <td>Action|Crime|Drama|Thriller</td>\n",
              "      <td>Christian Bale</td>\n",
              "      <td>The Dark Knight</td>\n",
              "      <td>1676169</td>\n",
              "      <td>57802</td>\n",
              "      <td>Morgan Freeman</td>\n",
              "      <td>0.0</td>\n",
              "      <td>based on comic book|dc comics|psychopath|star ...</td>\n",
              "      <td>http://www.imdb.com/title/tt0468569/?ref_=fn_t...</td>\n",
              "      <td>4667.0</td>\n",
              "      <td>English</td>\n",
              "      <td>USA</td>\n",
              "      <td>PG-13</td>\n",
              "      <td>185000000.0</td>\n",
              "      <td>2008.0</td>\n",
              "      <td>13000.0</td>\n",
              "      <td>9.0</td>\n",
              "      <td>2.35</td>\n",
              "      <td>37000</td>\n",
              "      <td>348316061.0</td>\n",
              "    </tr>\n",
              "    <tr>\n",
              "      <th>419</th>\n",
              "      <td>Color</td>\n",
              "      <td>Gary Ross</td>\n",
              "      <td>673.0</td>\n",
              "      <td>142.0</td>\n",
              "      <td>378.0</td>\n",
              "      <td>575.0</td>\n",
              "      <td>Josh Hutcherson</td>\n",
              "      <td>34000.0</td>\n",
              "      <td>407999255.0</td>\n",
              "      <td>Adventure|Drama|Sci-Fi|Thriller</td>\n",
              "      <td>Jennifer Lawrence</td>\n",
              "      <td>The Hunger Games</td>\n",
              "      <td>701607</td>\n",
              "      <td>49942</td>\n",
              "      <td>Anthony Reynolds</td>\n",
              "      <td>0.0</td>\n",
              "      <td>fight to the death|game|massacre|self survival...</td>\n",
              "      <td>http://www.imdb.com/title/tt1392170/?ref_=fn_t...</td>\n",
              "      <td>1959.0</td>\n",
              "      <td>English</td>\n",
              "      <td>USA</td>\n",
              "      <td>PG-13</td>\n",
              "      <td>78000000.0</td>\n",
              "      <td>2012.0</td>\n",
              "      <td>14000.0</td>\n",
              "      <td>7.3</td>\n",
              "      <td>2.35</td>\n",
              "      <td>140000</td>\n",
              "      <td>329999255.0</td>\n",
              "    </tr>\n",
              "  </tbody>\n",
              "</table>\n",
              "</div>"
            ],
            "text/plain": [
              "      color      director_name  ...  movie_facebook_likes       profit\n",
              "0     Color      James Cameron  ...                 33000  523505847.0\n",
              "28    Color    Colin Trevorrow  ...                150000  502177271.0\n",
              "25    Color      James Cameron  ...                 26000  458672302.0\n",
              "2704  Color       George Lucas  ...                 33000  449935665.0\n",
              "2748  Color   Steven Spielberg  ...                 34000  424449459.0\n",
              "16    Color        Joss Whedon  ...                123000  403279547.0\n",
              "482   Color       Roger Allers  ...                 17000  377783777.0\n",
              "230   Color       George Lucas  ...                 13000  359544677.0\n",
              "64    Color  Christopher Nolan  ...                 37000  348316061.0\n",
              "419   Color          Gary Ross  ...                140000  329999255.0\n",
              "\n",
              "[10 rows x 29 columns]"
            ]
          },
          "metadata": {
            "tags": []
          },
          "execution_count": 22
        }
      ]
    },
    {
      "cell_type": "markdown",
      "metadata": {
        "id": "yXlGwzMjWlAJ"
      },
      "source": [
        "**Analysing dataframes**\n",
        "\n",
        "Suppose movies are divided into 5 buckets based on the IMDb ratings:\n",
        "\n",
        "[7.5, 8)\n",
        "\n",
        "[8, 8.5)\n",
        "\n",
        "[8.5, 9)\n",
        "\n",
        "[9, 9.5)\n",
        "\n",
        "[9.5, 10)\n",
        "\n",
        "Which bucket holds the maximum number of movies from IMDb_Top_250?"
      ]
    },
    {
      "cell_type": "code",
      "metadata": {
        "colab": {
          "base_uri": "https://localhost:8080/",
          "height": 265
        },
        "id": "am6cxEEZWkVi",
        "outputId": "e4653785-4be4-4c2e-aa6f-6352ab5bcf9d"
      },
      "source": [
        "IMDb_Top_250 = data.sort_values(by = 'imdb_score', ascending = False)\n",
        "IMDb_Top_250 = IMDb_Top_250.loc[IMDb_Top_250.num_voted_users > 25000]\n",
        "IMDb_Top_250 = IMDb_Top_250.iloc[:250, ]\n",
        "IMDb_Top_250['Rank'] = range(1,251)\n",
        "\n",
        "import matplotlib.pyplot as plt\n",
        "plt.hist(IMDb_Top_250['imdb_score'], bins = 5, range = (7.5,10), edgecolor = 'cyan')\n",
        "plt.show()\n"
      ],
      "execution_count": 23,
      "outputs": [
        {
          "output_type": "display_data",
          "data": {
            "image/png": "[encoded data removed]",
            "text/plain": [
              "<Figure size 432x288 with 1 Axes>"
            ]
          },
          "metadata": {
            "tags": [],
            "needs_background": "light"
          }
        }
      ]
    },
    {
      "cell_type": "markdown",
      "metadata": {
        "id": "27S8ER5WY80o"
      },
      "source": [
        "**Operations on Dataframe**\n",
        "\n",
        "Which actor is highest rated among the three actors according to the user reviews?"
      ]
    },
    {
      "cell_type": "code",
      "metadata": {
        "colab": {
          "base_uri": "https://localhost:8080/"
        },
        "id": "l6sf5DiEYsee",
        "outputId": "3c98a41d-cde4-4a4a-cb4e-b8e1a380581f"
      },
      "source": [
        "Meryl_Streep = data.loc[data.actor_1_name == 'Meryl Streep']\n",
        "Leo_Caprio = data.loc[data.actor_1_name == 'Leonardo DiCaprio']\n",
        "Brad_Pitt = data.loc[data.actor_1_name == 'Brad Pitt']\n",
        "Combined = pd.concat([Meryl_Streep, Brad_Pitt, Leo_Caprio])\n",
        "Combined_by_segment = Combined.groupby('actor_1_name')\n",
        "\n",
        "Combined_by_segment['num_user_for_reviews'].mean()"
      ],
      "execution_count": 25,
      "outputs": [
        {
          "output_type": "execute_result",
          "data": {
            "text/plain": [
              "actor_1_name\n",
              "Brad Pitt            742.352941\n",
              "Leonardo DiCaprio    914.476190\n",
              "Meryl Streep         297.181818\n",
              "Name: num_user_for_reviews, dtype: float64"
            ]
          },
          "metadata": {
            "tags": []
          },
          "execution_count": 25
        }
      ]
    },
    {
      "cell_type": "markdown",
      "metadata": {
        "id": "km356DXDZaiD"
      },
      "source": [
        "**Operations on Dataframe**\n",
        "\n",
        "Which actor is highest rated among the three actors according to the critics?"
      ]
    },
    {
      "cell_type": "code",
      "metadata": {
        "colab": {
          "base_uri": "https://localhost:8080/"
        },
        "id": "xcQh2_RlZXy-",
        "outputId": "42f74802-a65b-41e9-8f25-2f5171838f65"
      },
      "source": [
        "Meryl_Streep = data.loc[data.actor_1_name == 'Meryl Streep']\n",
        "Leo_Caprio = data.loc[data.actor_1_name == 'Leonardo DiCaprio']\n",
        "Brad_Pitt = data.loc[data.actor_1_name == 'Brad Pitt']\n",
        "Combined = pd.concat([Meryl_Streep, Brad_Pitt, Leo_Caprio])\n",
        "Combined_by_segment = Combined.groupby('actor_1_name')\n",
        "\n",
        "Combined_by_segment['num_critic_for_reviews'].mean()"
      ],
      "execution_count": 26,
      "outputs": [
        {
          "output_type": "execute_result",
          "data": {
            "text/plain": [
              "actor_1_name\n",
              "Brad Pitt            245.000000\n",
              "Leonardo DiCaprio    330.190476\n",
              "Meryl Streep         181.454545\n",
              "Name: num_critic_for_reviews, dtype: float64"
            ]
          },
          "metadata": {
            "tags": []
          },
          "execution_count": 26
        }
      ]
    }
  ]
}