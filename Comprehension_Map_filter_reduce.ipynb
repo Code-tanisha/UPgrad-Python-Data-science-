{
  "nbformat": 4,
  "nbformat_minor": 0,
  "metadata": {
    "colab": {
      "name": "Comprehension/Map_filter_reduce.ipynb",
      "provenance": [],
      "authorship_tag": "ABX9TyPAeqHDG1M2MXdLEKJfkjq+",
      "include_colab_link": true
    },
    "kernelspec": {
      "name": "python3",
      "display_name": "Python 3"
    },
    "language_info": {
      "name": "python"
    }
  },
  "cells": [
    {
      "cell_type": "markdown",
      "metadata": {
        "id": "view-in-github",
        "colab_type": "text"
      },
      "source": [
        "<a href=\"https://colab.research.google.com/github/Code-tanisha/UPgrad-Python-Data-science-/blob/main/Comprehension_Map_filter_reduce.ipynb\" target=\"_parent\"><img src=\"https://colab.research.google.com/assets/colab-badge.svg\" alt=\"Open In Colab\"/></a>"
      ]
    },
    {
      "cell_type": "code",
      "metadata": {
        "id": "ojTjEsCJPgop",
        "colab": {
          "base_uri": "https://localhost:8080/"
        },
        "outputId": "e0279dde-93be-4c0d-9087-df68de2e9802"
      },
      "source": [
        "# Extract words containing * \n",
        "\n",
        "giftBox=\"pencil mac*book rubber i*phone paper i*pad\"\n",
        "gift_list = giftBox.split()\n",
        "[item for item in gift_list if '*' in item ]\n"
      ],
      "execution_count": 7,
      "outputs": [
        {
          "output_type": "execute_result",
          "data": {
            "text/plain": [
              "['mac*book', 'i*phone', 'i*pad']"
            ]
          },
          "metadata": {
            "tags": []
          },
          "execution_count": 7
        }
      ]
    },
    {
      "cell_type": "code",
      "metadata": {
        "colab": {
          "base_uri": "https://localhost:8080/"
        },
        "id": "hG9ktO9Qd3X0",
        "outputId": "6178ebea-0897-413d-efdc-2f347f92d969"
      },
      "source": [
        "# List comprehension\n",
        "# print keys and length of each word \n",
        "words=['contentment','laughter','jubilation','blss','vivacity']\n",
        "result = {x:len(x) for x in words}\n",
        "result"
      ],
      "execution_count": 14,
      "outputs": [
        {
          "output_type": "execute_result",
          "data": {
            "text/plain": [
              "{'blss': 4, 'contentment': 11, 'jubilation': 10, 'laughter': 8, 'vivacity': 8}"
            ]
          },
          "metadata": {
            "tags": []
          },
          "execution_count": 14
        }
      ]
    },
    {
      "cell_type": "code",
      "metadata": {
        "colab": {
          "base_uri": "https://localhost:8080/"
        },
        "id": "gVC9jQuoeudc",
        "outputId": "4b6ba9e8-ac48-439f-9ada-7ae89b83423a"
      },
      "source": [
        "# price are given in dollar convert into INR\n",
        "# Assuming dollar rate is 72\n",
        "grocery_list={'milk':2.5 ,'butter':1.5,'bread':3}\n",
        "print(grocery_list.items())                                    # items is a function which returns to key- value pair in the form of tuples\n",
        "result = {key:value*72 for key,value in grocery_list.items()}  # here we have done unpacking\n",
        "result"
      ],
      "execution_count": 21,
      "outputs": [
        {
          "output_type": "stream",
          "text": [
            "dict_items([('milk', 2.5), ('butter', 1.5), ('bread', 3)])\n"
          ],
          "name": "stdout"
        },
        {
          "output_type": "execute_result",
          "data": {
            "text/plain": [
              "{'bread': 216, 'butter': 108.0, 'milk': 180.0}"
            ]
          },
          "metadata": {
            "tags": []
          },
          "execution_count": 21
        }
      ]
    },
    {
      "cell_type": "code",
      "metadata": {
        "id": "AX6FAT-Dh_Mq"
      },
      "source": [
        "# write a lambda fucntion that takes temprature in farhenhieit and converts into celcius\n",
        "cel = lambda tem:(tem-32)*(5/9)\n"
      ],
      "execution_count": null,
      "outputs": []
    },
    {
      "cell_type": "code",
      "metadata": {
        "colab": {
          "base_uri": "https://localhost:8080/"
        },
        "id": "wBeBzTWxyaGE",
        "outputId": "ff0e84dd-8df9-4c3a-a2f0-9d1db5fcf986"
      },
      "source": [
        "# extract only integers, and we can do it with filter\n",
        "garbage =[100,True,'hello',200,False,[10,20],300,'hi']\n",
        "result = list(filter(lambda w: type(w)==int, garbage))\n",
        "print(result)\n"
      ],
      "execution_count": 25,
      "outputs": [
        {
          "output_type": "stream",
          "text": [
            "[100, 200, 300]\n"
          ],
          "name": "stdout"
        }
      ]
    },
    {
      "cell_type": "code",
      "metadata": {
        "id": "N8k_ApceyyXG"
      },
      "source": [
        ""
      ],
      "execution_count": null,
      "outputs": []
    },
    {
      "cell_type": "code",
      "metadata": {
        "id": "RWmsldqjlqI_"
      },
      "source": [
        ""
      ],
      "execution_count": null,
      "outputs": []
    }
  ]
}