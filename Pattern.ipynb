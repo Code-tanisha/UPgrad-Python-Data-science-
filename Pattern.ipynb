{
  "nbformat": 4,
  "nbformat_minor": 0,
  "metadata": {
    "colab": {
      "name": "Pattern.ipynb",
      "provenance": [],
      "authorship_tag": "ABX9TyNkxPTjktZ/3bxpnGXl4PBi",
      "include_colab_link": true
    },
    "kernelspec": {
      "name": "python3",
      "display_name": "Python 3"
    },
    "language_info": {
      "name": "python"
    }
  },
  "cells": [
    {
      "cell_type": "markdown",
      "metadata": {
        "id": "view-in-github",
        "colab_type": "text"
      },
      "source": [
        "<a href=\"https://colab.research.google.com/github/Code-tanisha/UPgrad-Python-Data-science-/blob/main/Pattern.ipynb\" target=\"_parent\"><img src=\"https://colab.research.google.com/assets/colab-badge.svg\" alt=\"Open In Colab\"/></a>"
      ]
    },
    {
      "cell_type": "markdown",
      "metadata": {
        "id": "ZAYaqAGt04y8"
      },
      "source": [
        "Alphabetic patterns\n",
        "Description\n",
        "Given a positive integer 'n' less than or equal to 26, you are required to print the below pattern \n",
        " \n",
        "Sample Input: 5 \n",
        " \n",
        "Sample Output : \n",
        "--------e-------- \n",
        "\n",
        "------e-d-e------ \n",
        "\n",
        "----e-d-c-d-e---- \n",
        "\n",
        "--e-d-c-b-c-d-e-- \n",
        "\n",
        "e-d-c-b-a-b-c-d-e \n",
        "\n",
        "--e-d-c-b-c-d-e-- \n",
        "\n",
        "----e-d-c-d-e---- \n",
        "\n",
        "------e-d-e------ \n",
        "\n",
        "--------e-------- \n",
        "\n",
        " \n",
        "Sample Input  : 3 \n",
        " \n",
        "Sample Output : \n",
        "----c---- \n",
        "--c-b-c-- \n",
        "c-b-a-b-c \n",
        "--c-b-c-- \n",
        "----c----\n"
      ]
    },
    {
      "cell_type": "code",
      "metadata": {
        "colab": {
          "base_uri": "https://localhost:8080/"
        },
        "id": "9VJ-MIN802KZ",
        "outputId": "09058541-9df1-493d-9a80-afed87c1abd8"
      },
      "source": [
        "def pattern(n):\n",
        " \n",
        "  alpha = 'abcdefghijklmnopqrstuvwxyz'\n",
        "# Now we will use list comprehension to store the 1st n alphabets and it will give output as : ['a', 'b', 'c', 'd', 'e']\n",
        "  data = [alpha[i] for i in range(n)]\n",
        "\n",
        "  items = list(range(n))\n",
        "  # following code will reverse the items in list and combines with the original list\n",
        "  # items = items+items[::-1] but this will give output as - [0, 1, 2, 3, 4, 4, 3, 2, 1, 0] and we dont want 4 to be repeated 2 times so:\n",
        "  items = items[:-1]+items[::-1]\n",
        "  \n",
        "  # Now we will loop in our items\n",
        "  for i in items:\n",
        "    start_index = i+1\n",
        "    print(data[-start_index:])\n",
        "\n",
        "\n",
        "n = int(input())\n",
        "print(pattern(n))\n",
        "    \n",
        "\n",
        "\n",
        "\n",
        "    # In this code we got the left past of out pattern. "
      ],
      "execution_count": 11,
      "outputs": [
        {
          "output_type": "stream",
          "text": [
            "5\n",
            "['e']\n",
            "['d', 'e']\n",
            "['c', 'd', 'e']\n",
            "['b', 'c', 'd', 'e']\n",
            "['a', 'b', 'c', 'd', 'e']\n",
            "['b', 'c', 'd', 'e']\n",
            "['c', 'd', 'e']\n",
            "['d', 'e']\n",
            "['e']\n",
            "None\n"
          ],
          "name": "stdout"
        }
      ]
    },
    {
      "cell_type": "code",
      "metadata": {
        "colab": {
          "base_uri": "https://localhost:8080/"
        },
        "id": "cvVMv20AuYiK",
        "outputId": "fefa8d50-3dfa-4498-8209-7ce8d6e95701"
      },
      "source": [
        "def pattern(n):\n",
        " \n",
        "  alpha = 'abcdefghijklmnopqrstuvwxyz'\n",
        "# Now we will use list comprehension to store the 1st n alphabets and it will give output as : ['a', 'b', 'c', 'd', 'e']\n",
        "  data = [alpha[i] for i in range(n)]\n",
        "\n",
        "  items = list(range(n))\n",
        "  # following code will reverse the items in list and combines with the original list\n",
        "  # items = items+items[::-1] but this will give output as - [0, 1, 2, 3, 4, 4, 3, 2, 1, 0] and we dont want 4 to be repeated 2 times so:\n",
        "  items = items[:-1]+items[::-1]\n",
        "  \n",
        "  # Now we will loop in our items\n",
        "  for i in items:\n",
        "    start_index = i+1\n",
        "    original = data[-start_index:]\n",
        "    reverse = original[::-1]\n",
        "    row = reverse + original[1:]\n",
        "    print(row)\n",
        "\n",
        "\n",
        "\n",
        "n = int(input())\n",
        "print(pattern(n))\n",
        "    \n"
      ],
      "execution_count": 7,
      "outputs": [
        {
          "output_type": "stream",
          "text": [
            "5\n",
            "['e']\n",
            "['e', 'd', 'e']\n",
            "['e', 'd', 'c', 'd', 'e']\n",
            "['e', 'd', 'c', 'b', 'c', 'd', 'e']\n",
            "['e', 'd', 'c', 'b', 'a', 'b', 'c', 'd', 'e']\n",
            "['e', 'd', 'c', 'b', 'c', 'd', 'e']\n",
            "['e', 'd', 'c', 'd', 'e']\n",
            "['e', 'd', 'e']\n",
            "['e']\n",
            "None\n"
          ],
          "name": "stdout"
        }
      ]
    },
    {
      "cell_type": "code",
      "metadata": {
        "colab": {
          "base_uri": "https://localhost:8080/"
        },
        "id": "wRA4WhTMzjEt",
        "outputId": "c4aec03b-1dc2-44fb-ae5c-8178a0a393c1"
      },
      "source": [
        "# Now we just need to combine the rows with \"-\" and extra \"-\" to fill the spaces\n",
        "def pattern(n):\n",
        " \n",
        "  alpha = 'abcdefghijklmnopqrstuvwxyz'\n",
        "# Now we will use list comprehension to store the 1st n alphabets and it will give output as : ['a', 'b', 'c', 'd', 'e']\n",
        "  data = [alpha[i] for i in range(n)]\n",
        "\n",
        "  items = list(range(n))\n",
        "  # following code will reverse the items in list and combines with the original list\n",
        "  # items = items+items[::-1] but this will give output as - [0, 1, 2, 3, 4, 4, 3, 2, 1, 0] and we dont want 4 to be repeated 2 times so:\n",
        "  items = items[:-1]+items[::-1]\n",
        "  \n",
        "  # Now we will loop in our items\n",
        "  for i in items:\n",
        "    start_index = i+1\n",
        "    original = data[-start_index:]\n",
        "    reverse = original[::-1]\n",
        "    row = reverse + original[1:]\n",
        "    row = '-'.join(row)\n",
        "    print(row)\n",
        "n = int(input())\n",
        "print(pattern(n))\n",
        "    \n"
      ],
      "execution_count": 9,
      "outputs": [
        {
          "output_type": "stream",
          "text": [
            "5\n",
            "e\n",
            "e-d-e\n",
            "e-d-c-d-e\n",
            "e-d-c-b-c-d-e\n",
            "e-d-c-b-a-b-c-d-e\n",
            "e-d-c-b-c-d-e\n",
            "e-d-c-d-e\n",
            "e-d-e\n",
            "e\n",
            "None\n"
          ],
          "name": "stdout"
        }
      ]
    },
    {
      "cell_type": "code",
      "metadata": {
        "colab": {
          "base_uri": "https://localhost:8080/"
        },
        "id": "SPkAll-s0ClW",
        "outputId": "f6e6fbe7-6c45-42b2-ff1d-0d25b4e59ea9"
      },
      "source": [
        "# Now we just need to combine the rows with \"-\" and extra \"-\" to fill the spaces\n",
        "def pattern(n):\n",
        " \n",
        "  alpha = 'abcdefghijklmnopqrstuvwxyz'\n",
        "# Now we will use list comprehension to store the 1st n alphabets and it will give output as : ['a', 'b', 'c', 'd', 'e']\n",
        "  data = [alpha[i] for i in range(n)]\n",
        "\n",
        "  items = list(range(n))\n",
        "  # following code will reverse the items in list and combines with the original list\n",
        "  # items = items+items[::-1] but this will give output as - [0, 1, 2, 3, 4, 4, 3, 2, 1, 0] and we dont want 4 to be repeated 2 times so:\n",
        "  items = items[:-1]+items[::-1]\n",
        "  \n",
        "  # Now we will loop in our items\n",
        "  for i in items:\n",
        "    start_index = i+1\n",
        "    original = data[-start_index:]\n",
        "    reverse = original[::-1]\n",
        "    row = reverse + original[1:]\n",
        "    row = '-'.join(row)\n",
        "    width = n*4-3\n",
        "    row = row.center(width,\"-\")\n",
        "    print(row)\n",
        "\n",
        "n = int(input())\n",
        "print(pattern(n))\n",
        "    \n",
        "# Width of the pattern is 5*4-3 ie. n*4-3\n"
      ],
      "execution_count": 10,
      "outputs": [
        {
          "output_type": "stream",
          "text": [
            "5\n",
            "--------e--------\n",
            "------e-d-e------\n",
            "----e-d-c-d-e----\n",
            "--e-d-c-b-c-d-e--\n",
            "e-d-c-b-a-b-c-d-e\n",
            "--e-d-c-b-c-d-e--\n",
            "----e-d-c-d-e----\n",
            "------e-d-e------\n",
            "--------e--------\n",
            "None\n"
          ],
          "name": "stdout"
        }
      ]
    }
  ]
}