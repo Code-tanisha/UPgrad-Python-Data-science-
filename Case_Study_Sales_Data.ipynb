{
  "nbformat": 4,
  "nbformat_minor": 0,
  "metadata": {
    "colab": {
      "name": "Case Study - Sales Data.ipynb",
      "provenance": [],
      "collapsed_sections": [],
      "authorship_tag": "ABX9TyOKacKANIiJmHSC98YUZ6Px",
      "include_colab_link": true
    },
    "kernelspec": {
      "name": "python3",
      "display_name": "Python 3"
    },
    "language_info": {
      "name": "python"
    }
  },
  "cells": [
    {
      "cell_type": "markdown",
      "metadata": {
        "id": "view-in-github",
        "colab_type": "text"
      },
      "source": [
        "<a href=\"https://colab.research.google.com/github/Code-tanisha/UPgrad-Python-Data-science-/blob/main/Case_Study_Sales_Data.ipynb\" target=\"_parent\"><img src=\"https://colab.research.google.com/assets/colab-badge.svg\" alt=\"Open In Colab\"/></a>"
      ]
    },
    {
      "cell_type": "markdown",
      "metadata": {
        "id": "JjfE9rg3ij2-"
      },
      "source": [
        "## **CASE STUDY - SALES DATA**"
      ]
    },
    {
      "cell_type": "code",
      "metadata": {
        "id": "Scb5fHbfirSU"
      },
      "source": [
        "import pandas as pd\n",
        "import numpy as np\n",
        "import matplotlib.pyplot as plt\n",
        "\n",
        "# Display pandas float values in 2 decimals\n",
        "pd.options.display.float_format = '{:,.2f}'.format"
      ],
      "execution_count": 39,
      "outputs": []
    },
    {
      "cell_type": "markdown",
      "metadata": {
        "id": "DuEK5CPVi3MK"
      },
      "source": [
        "**sales and profit data is read in a dataframe \"sales\"**"
      ]
    },
    {
      "cell_type": "code",
      "metadata": {
        "colab": {
          "resources": {
            "http://localhost:8080/nbextensions/google.colab/files.js": {
              "data": "Ly8gQ29weXJpZ2h0IDIwMTcgR29vZ2xlIExMQwovLwovLyBMaWNlbnNlZCB1bmRlciB0aGUgQXBhY2hlIExpY2Vuc2UsIFZlcnNpb24gMi4wICh0aGUgIkxpY2Vuc2UiKTsKLy8geW91IG1heSBub3QgdXNlIHRoaXMgZmlsZSBleGNlcHQgaW4gY29tcGxpYW5jZSB3aXRoIHRoZSBMaWNlbnNlLgovLyBZb3UgbWF5IG9idGFpbiBhIGNvcHkgb2YgdGhlIExpY2Vuc2UgYXQKLy8KLy8gICAgICBodHRwOi8vd3d3LmFwYWNoZS5vcmcvbGljZW5zZXMvTElDRU5TRS0yLjAKLy8KLy8gVW5sZXNzIHJlcXVpcmVkIGJ5IGFwcGxpY2FibGUgbGF3IG9yIGFncmVlZCB0byBpbiB3cml0aW5nLCBzb2Z0d2FyZQovLyBkaXN0cmlidXRlZCB1bmRlciB0aGUgTGljZW5zZSBpcyBkaXN0cmlidXRlZCBvbiBhbiAiQVMgSVMiIEJBU0lTLAovLyBXSVRIT1VUIFdBUlJBTlRJRVMgT1IgQ09ORElUSU9OUyBPRiBBTlkgS0lORCwgZWl0aGVyIGV4cHJlc3Mgb3IgaW1wbGllZC4KLy8gU2VlIHRoZSBMaWNlbnNlIGZvciB0aGUgc3BlY2lmaWMgbGFuZ3VhZ2UgZ292ZXJuaW5nIHBlcm1pc3Npb25zIGFuZAovLyBsaW1pdGF0aW9ucyB1bmRlciB0aGUgTGljZW5zZS4KCi8qKgogKiBAZmlsZW92ZXJ2aWV3IEhlbHBlcnMgZm9yIGdvb2dsZS5jb2xhYiBQeXRob24gbW9kdWxlLgogKi8KKGZ1bmN0aW9uKHNjb3BlKSB7CmZ1bmN0aW9uIHNwYW4odGV4dCwgc3R5bGVBdHRyaWJ1dGVzID0ge30pIHsKICBjb25zdCBlbGVtZW50ID0gZG9jdW1lbnQuY3JlYXRlRWxlbWVudCgnc3BhbicpOwogIGVsZW1lbnQudGV4dENvbnRlbnQgPSB0ZXh0OwogIGZvciAoY29uc3Qga2V5IG9mIE9iamVjdC5rZXlzKHN0eWxlQXR0cmlidXRlcykpIHsKICAgIGVsZW1lbnQuc3R5bGVba2V5XSA9IHN0eWxlQXR0cmlidXRlc1trZXldOwogIH0KICByZXR1cm4gZWxlbWVudDsKfQoKLy8gTWF4IG51bWJlciBvZiBieXRlcyB3aGljaCB3aWxsIGJlIHVwbG9hZGVkIGF0IGEgdGltZS4KY29uc3QgTUFYX1BBWUxPQURfU0laRSA9IDEwMCAqIDEwMjQ7CgpmdW5jdGlvbiBfdXBsb2FkRmlsZXMoaW5wdXRJZCwgb3V0cHV0SWQpIHsKICBjb25zdCBzdGVwcyA9IHVwbG9hZEZpbGVzU3RlcChpbnB1dElkLCBvdXRwdXRJZCk7CiAgY29uc3Qgb3V0cHV0RWxlbWVudCA9IGRvY3VtZW50LmdldEVsZW1lbnRCeUlkKG91dHB1dElkKTsKICAvLyBDYWNoZSBzdGVwcyBvbiB0aGUgb3V0cHV0RWxlbWVudCB0byBtYWtlIGl0IGF2YWlsYWJsZSBmb3IgdGhlIG5leHQgY2FsbAogIC8vIHRvIHVwbG9hZEZpbGVzQ29udGludWUgZnJvbSBQeXRob24uCiAgb3V0cHV0RWxlbWVudC5zdGVwcyA9IHN0ZXBzOwoKICByZXR1cm4gX3VwbG9hZEZpbGVzQ29udGludWUob3V0cHV0SWQpOwp9CgovLyBUaGlzIGlzIHJvdWdobHkgYW4gYXN5bmMgZ2VuZXJhdG9yIChub3Qgc3VwcG9ydGVkIGluIHRoZSBicm93c2VyIHlldCksCi8vIHdoZXJlIHRoZXJlIGFyZSBtdWx0aXBsZSBhc3luY2hyb25vdXMgc3RlcHMgYW5kIHRoZSBQeXRob24gc2lkZSBpcyBnb2luZwovLyB0byBwb2xsIGZvciBjb21wbGV0aW9uIG9mIGVhY2ggc3RlcC4KLy8gVGhpcyB1c2VzIGEgUHJvbWlzZSB0byBibG9jayB0aGUgcHl0aG9uIHNpZGUgb24gY29tcGxldGlvbiBvZiBlYWNoIHN0ZXAsCi8vIHRoZW4gcGFzc2VzIHRoZSByZXN1bHQgb2YgdGhlIHByZXZpb3VzIHN0ZXAgYXMgdGhlIGlucHV0IHRvIHRoZSBuZXh0IHN0ZXAuCmZ1bmN0aW9uIF91cGxvYWRGaWxlc0NvbnRpbnVlKG91dHB1dElkKSB7CiAgY29uc3Qgb3V0cHV0RWxlbWVudCA9IGRvY3VtZW50LmdldEVsZW1lbnRCeUlkKG91dHB1dElkKTsKICBjb25zdCBzdGVwcyA9IG91dHB1dEVsZW1lbnQuc3RlcHM7CgogIGNvbnN0IG5leHQgPSBzdGVwcy5uZXh0KG91dHB1dEVsZW1lbnQubGFzdFByb21pc2VWYWx1ZSk7CiAgcmV0dXJuIFByb21pc2UucmVzb2x2ZShuZXh0LnZhbHVlLnByb21pc2UpLnRoZW4oKHZhbHVlKSA9PiB7CiAgICAvLyBDYWNoZSB0aGUgbGFzdCBwcm9taXNlIHZhbHVlIHRvIG1ha2UgaXQgYXZhaWxhYmxlIHRvIHRoZSBuZXh0CiAgICAvLyBzdGVwIG9mIHRoZSBnZW5lcmF0b3IuCiAgICBvdXRwdXRFbGVtZW50Lmxhc3RQcm9taXNlVmFsdWUgPSB2YWx1ZTsKICAgIHJldHVybiBuZXh0LnZhbHVlLnJlc3BvbnNlOwogIH0pOwp9CgovKioKICogR2VuZXJhdG9yIGZ1bmN0aW9uIHdoaWNoIGlzIGNhbGxlZCBiZXR3ZWVuIGVhY2ggYXN5bmMgc3RlcCBvZiB0aGUgdXBsb2FkCiAqIHByb2Nlc3MuCiAqIEBwYXJhbSB7c3RyaW5nfSBpbnB1dElkIEVsZW1lbnQgSUQgb2YgdGhlIGlucHV0IGZpbGUgcGlja2VyIGVsZW1lbnQuCiAqIEBwYXJhbSB7c3RyaW5nfSBvdXRwdXRJZCBFbGVtZW50IElEIG9mIHRoZSBvdXRwdXQgZGlzcGxheS4KICogQHJldHVybiB7IUl0ZXJhYmxlPCFPYmplY3Q+fSBJdGVyYWJsZSBvZiBuZXh0IHN0ZXBzLgogKi8KZnVuY3Rpb24qIHVwbG9hZEZpbGVzU3RlcChpbnB1dElkLCBvdXRwdXRJZCkgewogIGNvbnN0IGlucHV0RWxlbWVudCA9IGRvY3VtZW50LmdldEVsZW1lbnRCeUlkKGlucHV0SWQpOwogIGlucHV0RWxlbWVudC5kaXNhYmxlZCA9IGZhbHNlOwoKICBjb25zdCBvdXRwdXRFbGVtZW50ID0gZG9jdW1lbnQuZ2V0RWxlbWVudEJ5SWQob3V0cHV0SWQpOwogIG91dHB1dEVsZW1lbnQuaW5uZXJIVE1MID0gJyc7CgogIGNvbnN0IHBpY2tlZFByb21pc2UgPSBuZXcgUHJvbWlzZSgocmVzb2x2ZSkgPT4gewogICAgaW5wdXRFbGVtZW50LmFkZEV2ZW50TGlzdGVuZXIoJ2NoYW5nZScsIChlKSA9PiB7CiAgICAgIHJlc29sdmUoZS50YXJnZXQuZmlsZXMpOwogICAgfSk7CiAgfSk7CgogIGNvbnN0IGNhbmNlbCA9IGRvY3VtZW50LmNyZWF0ZUVsZW1lbnQoJ2J1dHRvbicpOwogIGlucHV0RWxlbWVudC5wYXJlbnRFbGVtZW50LmFwcGVuZENoaWxkKGNhbmNlbCk7CiAgY2FuY2VsLnRleHRDb250ZW50ID0gJ0NhbmNlbCB1cGxvYWQnOwogIGNvbnN0IGNhbmNlbFByb21pc2UgPSBuZXcgUHJvbWlzZSgocmVzb2x2ZSkgPT4gewogICAgY2FuY2VsLm9uY2xpY2sgPSAoKSA9PiB7CiAgICAgIHJlc29sdmUobnVsbCk7CiAgICB9OwogIH0pOwoKICAvLyBXYWl0IGZvciB0aGUgdXNlciB0byBwaWNrIHRoZSBmaWxlcy4KICBjb25zdCBmaWxlcyA9IHlpZWxkIHsKICAgIHByb21pc2U6IFByb21pc2UucmFjZShbcGlja2VkUHJvbWlzZSwgY2FuY2VsUHJvbWlzZV0pLAogICAgcmVzcG9uc2U6IHsKICAgICAgYWN0aW9uOiAnc3RhcnRpbmcnLAogICAgfQogIH07CgogIGNhbmNlbC5yZW1vdmUoKTsKCiAgLy8gRGlzYWJsZSB0aGUgaW5wdXQgZWxlbWVudCBzaW5jZSBmdXJ0aGVyIHBpY2tzIGFyZSBub3QgYWxsb3dlZC4KICBpbnB1dEVsZW1lbnQuZGlzYWJsZWQgPSB0cnVlOwoKICBpZiAoIWZpbGVzKSB7CiAgICByZXR1cm4gewogICAgICByZXNwb25zZTogewogICAgICAgIGFjdGlvbjogJ2NvbXBsZXRlJywKICAgICAgfQogICAgfTsKICB9CgogIGZvciAoY29uc3QgZmlsZSBvZiBmaWxlcykgewogICAgY29uc3QgbGkgPSBkb2N1bWVudC5jcmVhdGVFbGVtZW50KCdsaScpOwogICAgbGkuYXBwZW5kKHNwYW4oZmlsZS5uYW1lLCB7Zm9udFdlaWdodDogJ2JvbGQnfSkpOwogICAgbGkuYXBwZW5kKHNwYW4oCiAgICAgICAgYCgke2ZpbGUudHlwZSB8fCAnbi9hJ30pIC0gJHtmaWxlLnNpemV9IGJ5dGVzLCBgICsKICAgICAgICBgbGFzdCBtb2RpZmllZDogJHsKICAgICAgICAgICAgZmlsZS5sYXN0TW9kaWZpZWREYXRlID8gZmlsZS5sYXN0TW9kaWZpZWREYXRlLnRvTG9jYWxlRGF0ZVN0cmluZygpIDoKICAgICAgICAgICAgICAgICAgICAgICAgICAgICAgICAgICAgJ24vYSd9IC0gYCkpOwogICAgY29uc3QgcGVyY2VudCA9IHNwYW4oJzAlIGRvbmUnKTsKICAgIGxpLmFwcGVuZENoaWxkKHBlcmNlbnQpOwoKICAgIG91dHB1dEVsZW1lbnQuYXBwZW5kQ2hpbGQobGkpOwoKICAgIGNvbnN0IGZpbGVEYXRhUHJvbWlzZSA9IG5ldyBQcm9taXNlKChyZXNvbHZlKSA9PiB7CiAgICAgIGNvbnN0IHJlYWRlciA9IG5ldyBGaWxlUmVhZGVyKCk7CiAgICAgIHJlYWRlci5vbmxvYWQgPSAoZSkgPT4gewogICAgICAgIHJlc29sdmUoZS50YXJnZXQucmVzdWx0KTsKICAgICAgfTsKICAgICAgcmVhZGVyLnJlYWRBc0FycmF5QnVmZmVyKGZpbGUpOwogICAgfSk7CiAgICAvLyBXYWl0IGZvciB0aGUgZGF0YSB0byBiZSByZWFkeS4KICAgIGxldCBmaWxlRGF0YSA9IHlpZWxkIHsKICAgICAgcHJvbWlzZTogZmlsZURhdGFQcm9taXNlLAogICAgICByZXNwb25zZTogewogICAgICAgIGFjdGlvbjogJ2NvbnRpbnVlJywKICAgICAgfQogICAgfTsKCiAgICAvLyBVc2UgYSBjaHVua2VkIHNlbmRpbmcgdG8gYXZvaWQgbWVzc2FnZSBzaXplIGxpbWl0cy4gU2VlIGIvNjIxMTU2NjAuCiAgICBsZXQgcG9zaXRpb24gPSAwOwogICAgZG8gewogICAgICBjb25zdCBsZW5ndGggPSBNYXRoLm1pbihmaWxlRGF0YS5ieXRlTGVuZ3RoIC0gcG9zaXRpb24sIE1BWF9QQVlMT0FEX1NJWkUpOwogICAgICBjb25zdCBjaHVuayA9IG5ldyBVaW50OEFycmF5KGZpbGVEYXRhLCBwb3NpdGlvbiwgbGVuZ3RoKTsKICAgICAgcG9zaXRpb24gKz0gbGVuZ3RoOwoKICAgICAgY29uc3QgYmFzZTY0ID0gYnRvYShTdHJpbmcuZnJvbUNoYXJDb2RlLmFwcGx5KG51bGwsIGNodW5rKSk7CiAgICAgIHlpZWxkIHsKICAgICAgICByZXNwb25zZTogewogICAgICAgICAgYWN0aW9uOiAnYXBwZW5kJywKICAgICAgICAgIGZpbGU6IGZpbGUubmFtZSwKICAgICAgICAgIGRhdGE6IGJhc2U2NCwKICAgICAgICB9LAogICAgICB9OwoKICAgICAgbGV0IHBlcmNlbnREb25lID0gZmlsZURhdGEuYnl0ZUxlbmd0aCA9PT0gMCA/CiAgICAgICAgICAxMDAgOgogICAgICAgICAgTWF0aC5yb3VuZCgocG9zaXRpb24gLyBmaWxlRGF0YS5ieXRlTGVuZ3RoKSAqIDEwMCk7CiAgICAgIHBlcmNlbnQudGV4dENvbnRlbnQgPSBgJHtwZXJjZW50RG9uZX0lIGRvbmVgOwoKICAgIH0gd2hpbGUgKHBvc2l0aW9uIDwgZmlsZURhdGEuYnl0ZUxlbmd0aCk7CiAgfQoKICAvLyBBbGwgZG9uZS4KICB5aWVsZCB7CiAgICByZXNwb25zZTogewogICAgICBhY3Rpb246ICdjb21wbGV0ZScsCiAgICB9CiAgfTsKfQoKc2NvcGUuZ29vZ2xlID0gc2NvcGUuZ29vZ2xlIHx8IHt9OwpzY29wZS5nb29nbGUuY29sYWIgPSBzY29wZS5nb29nbGUuY29sYWIgfHwge307CnNjb3BlLmdvb2dsZS5jb2xhYi5fZmlsZXMgPSB7CiAgX3VwbG9hZEZpbGVzLAogIF91cGxvYWRGaWxlc0NvbnRpbnVlLAp9Owp9KShzZWxmKTsK",
              "ok": true,
              "headers": [
                [
                  "content-type",
                  "application/javascript"
                ]
              ],
              "status": 200,
              "status_text": ""
            }
          },
          "base_uri": "https://localhost:8080/",
          "height": 72
        },
        "id": "KZCd1kRAizdD",
        "outputId": "69f295ad-144b-464a-d402-1b76e7885543"
      },
      "source": [
        "import os\n",
        "from google.colab import files\n",
        "uploaded = files.upload()"
      ],
      "execution_count": 40,
      "outputs": [
        {
          "output_type": "display_data",
          "data": {
            "text/html": [
              "\n",
              "     <input type=\"file\" id=\"files-7747ba26-922d-490b-8c32-3bb73f46e64f\" name=\"files[]\" multiple disabled\n",
              "        style=\"border:none\" />\n",
              "     <output id=\"result-7747ba26-922d-490b-8c32-3bb73f46e64f\">\n",
              "      Upload widget is only available when the cell has been executed in the\n",
              "      current browser session. Please rerun this cell to enable.\n",
              "      </output>\n",
              "      <script src=\"/nbextensions/google.colab/files.js\"></script> "
            ],
            "text/plain": [
              "<IPython.core.display.HTML object>"
            ]
          },
          "metadata": {
            "tags": []
          }
        },
        {
          "output_type": "stream",
          "text": [
            "Saving sales.xlsx to sales (1).xlsx\n"
          ],
          "name": "stdout"
        }
      ]
    },
    {
      "cell_type": "code",
      "metadata": {
        "colab": {
          "base_uri": "https://localhost:8080/",
          "height": 762
        },
        "id": "PK9Gqx47jStW",
        "outputId": "4f28fc5f-d9df-4c91-ec2b-0a896a9db802"
      },
      "source": [
        "sales = pd.read_excel('sales.xlsx')\n",
        "sales"
      ],
      "execution_count": 41,
      "outputs": [
        {
          "output_type": "execute_result",
          "data": {
            "text/html": [
              "<div>\n",
              "<style scoped>\n",
              "    .dataframe tbody tr th:only-of-type {\n",
              "        vertical-align: middle;\n",
              "    }\n",
              "\n",
              "    .dataframe tbody tr th {\n",
              "        vertical-align: top;\n",
              "    }\n",
              "\n",
              "    .dataframe thead th {\n",
              "        text-align: right;\n",
              "    }\n",
              "</style>\n",
              "<table border=\"1\" class=\"dataframe\">\n",
              "  <thead>\n",
              "    <tr style=\"text-align: right;\">\n",
              "      <th></th>\n",
              "      <th>Market</th>\n",
              "      <th>Region</th>\n",
              "      <th>No_of_Orders</th>\n",
              "      <th>Profit</th>\n",
              "      <th>Sales</th>\n",
              "    </tr>\n",
              "  </thead>\n",
              "  <tbody>\n",
              "    <tr>\n",
              "      <th>0</th>\n",
              "      <td>Africa</td>\n",
              "      <td>Western Africa</td>\n",
              "      <td>251</td>\n",
              "      <td>-12,901.51</td>\n",
              "      <td>78,476.06</td>\n",
              "    </tr>\n",
              "    <tr>\n",
              "      <th>1</th>\n",
              "      <td>Africa</td>\n",
              "      <td>Southern Africa</td>\n",
              "      <td>85</td>\n",
              "      <td>11,768.58</td>\n",
              "      <td>51,319.50</td>\n",
              "    </tr>\n",
              "    <tr>\n",
              "      <th>2</th>\n",
              "      <td>Africa</td>\n",
              "      <td>North Africa</td>\n",
              "      <td>182</td>\n",
              "      <td>21,643.08</td>\n",
              "      <td>86,698.89</td>\n",
              "    </tr>\n",
              "    <tr>\n",
              "      <th>3</th>\n",
              "      <td>Africa</td>\n",
              "      <td>Eastern Africa</td>\n",
              "      <td>110</td>\n",
              "      <td>8,013.04</td>\n",
              "      <td>44,182.60</td>\n",
              "    </tr>\n",
              "    <tr>\n",
              "      <th>4</th>\n",
              "      <td>Africa</td>\n",
              "      <td>Central Africa</td>\n",
              "      <td>103</td>\n",
              "      <td>15,606.30</td>\n",
              "      <td>61,689.99</td>\n",
              "    </tr>\n",
              "    <tr>\n",
              "      <th>5</th>\n",
              "      <td>Asia Pacific</td>\n",
              "      <td>Western Asia</td>\n",
              "      <td>382</td>\n",
              "      <td>-16,766.90</td>\n",
              "      <td>124,312.24</td>\n",
              "    </tr>\n",
              "    <tr>\n",
              "      <th>6</th>\n",
              "      <td>Asia Pacific</td>\n",
              "      <td>Southern Asia</td>\n",
              "      <td>469</td>\n",
              "      <td>67,998.76</td>\n",
              "      <td>351,806.60</td>\n",
              "    </tr>\n",
              "    <tr>\n",
              "      <th>7</th>\n",
              "      <td>Asia Pacific</td>\n",
              "      <td>Southeastern Asia</td>\n",
              "      <td>533</td>\n",
              "      <td>20,948.84</td>\n",
              "      <td>329,751.38</td>\n",
              "    </tr>\n",
              "    <tr>\n",
              "      <th>8</th>\n",
              "      <td>Asia Pacific</td>\n",
              "      <td>Oceania</td>\n",
              "      <td>646</td>\n",
              "      <td>54,734.02</td>\n",
              "      <td>408,002.98</td>\n",
              "    </tr>\n",
              "    <tr>\n",
              "      <th>9</th>\n",
              "      <td>Asia Pacific</td>\n",
              "      <td>Eastern Asia</td>\n",
              "      <td>414</td>\n",
              "      <td>72,805.10</td>\n",
              "      <td>315,390.77</td>\n",
              "    </tr>\n",
              "    <tr>\n",
              "      <th>10</th>\n",
              "      <td>Asia Pacific</td>\n",
              "      <td>Central Asia</td>\n",
              "      <td>37</td>\n",
              "      <td>-2,649.76</td>\n",
              "      <td>8,190.74</td>\n",
              "    </tr>\n",
              "    <tr>\n",
              "      <th>11</th>\n",
              "      <td>Europe</td>\n",
              "      <td>Western Europe</td>\n",
              "      <td>964</td>\n",
              "      <td>82,091.27</td>\n",
              "      <td>656,637.14</td>\n",
              "    </tr>\n",
              "    <tr>\n",
              "      <th>12</th>\n",
              "      <td>Europe</td>\n",
              "      <td>Southern Europe</td>\n",
              "      <td>338</td>\n",
              "      <td>18,911.49</td>\n",
              "      <td>215,703.93</td>\n",
              "    </tr>\n",
              "    <tr>\n",
              "      <th>13</th>\n",
              "      <td>Europe</td>\n",
              "      <td>Northern Europe</td>\n",
              "      <td>367</td>\n",
              "      <td>43,237.44</td>\n",
              "      <td>252,969.09</td>\n",
              "    </tr>\n",
              "    <tr>\n",
              "      <th>14</th>\n",
              "      <td>Europe</td>\n",
              "      <td>Eastern Europe</td>\n",
              "      <td>241</td>\n",
              "      <td>25,050.69</td>\n",
              "      <td>108,258.93</td>\n",
              "    </tr>\n",
              "    <tr>\n",
              "      <th>15</th>\n",
              "      <td>LATAM</td>\n",
              "      <td>South America</td>\n",
              "      <td>496</td>\n",
              "      <td>12,377.59</td>\n",
              "      <td>210,710.49</td>\n",
              "    </tr>\n",
              "    <tr>\n",
              "      <th>16</th>\n",
              "      <td>LATAM</td>\n",
              "      <td>Central America</td>\n",
              "      <td>930</td>\n",
              "      <td>74,679.54</td>\n",
              "      <td>461,670.28</td>\n",
              "    </tr>\n",
              "    <tr>\n",
              "      <th>17</th>\n",
              "      <td>LATAM</td>\n",
              "      <td>Caribbean</td>\n",
              "      <td>288</td>\n",
              "      <td>13,529.59</td>\n",
              "      <td>116,333.05</td>\n",
              "    </tr>\n",
              "    <tr>\n",
              "      <th>18</th>\n",
              "      <td>USCA</td>\n",
              "      <td>Western US</td>\n",
              "      <td>490</td>\n",
              "      <td>44,303.65</td>\n",
              "      <td>251,991.83</td>\n",
              "    </tr>\n",
              "    <tr>\n",
              "      <th>19</th>\n",
              "      <td>USCA</td>\n",
              "      <td>Southern US</td>\n",
              "      <td>255</td>\n",
              "      <td>19,991.83</td>\n",
              "      <td>148,771.91</td>\n",
              "    </tr>\n",
              "    <tr>\n",
              "      <th>20</th>\n",
              "      <td>USCA</td>\n",
              "      <td>Eastern US</td>\n",
              "      <td>443</td>\n",
              "      <td>47,462.04</td>\n",
              "      <td>264,973.98</td>\n",
              "    </tr>\n",
              "    <tr>\n",
              "      <th>21</th>\n",
              "      <td>USCA</td>\n",
              "      <td>Central US</td>\n",
              "      <td>356</td>\n",
              "      <td>33,697.43</td>\n",
              "      <td>170,416.31</td>\n",
              "    </tr>\n",
              "    <tr>\n",
              "      <th>22</th>\n",
              "      <td>USCA</td>\n",
              "      <td>Canada</td>\n",
              "      <td>49</td>\n",
              "      <td>7,246.62</td>\n",
              "      <td>26,298.81</td>\n",
              "    </tr>\n",
              "  </tbody>\n",
              "</table>\n",
              "</div>"
            ],
            "text/plain": [
              "          Market             Region  No_of_Orders     Profit      Sales\n",
              "0         Africa     Western Africa           251 -12,901.51  78,476.06\n",
              "1         Africa    Southern Africa            85  11,768.58  51,319.50\n",
              "2         Africa       North Africa           182  21,643.08  86,698.89\n",
              "3         Africa     Eastern Africa           110   8,013.04  44,182.60\n",
              "4         Africa     Central Africa           103  15,606.30  61,689.99\n",
              "5   Asia Pacific       Western Asia           382 -16,766.90 124,312.24\n",
              "6   Asia Pacific      Southern Asia           469  67,998.76 351,806.60\n",
              "7   Asia Pacific  Southeastern Asia           533  20,948.84 329,751.38\n",
              "8   Asia Pacific            Oceania           646  54,734.02 408,002.98\n",
              "9   Asia Pacific       Eastern Asia           414  72,805.10 315,390.77\n",
              "10  Asia Pacific       Central Asia            37  -2,649.76   8,190.74\n",
              "11        Europe     Western Europe           964  82,091.27 656,637.14\n",
              "12        Europe    Southern Europe           338  18,911.49 215,703.93\n",
              "13        Europe    Northern Europe           367  43,237.44 252,969.09\n",
              "14        Europe     Eastern Europe           241  25,050.69 108,258.93\n",
              "15         LATAM      South America           496  12,377.59 210,710.49\n",
              "16         LATAM    Central America           930  74,679.54 461,670.28\n",
              "17         LATAM          Caribbean           288  13,529.59 116,333.05\n",
              "18          USCA         Western US           490  44,303.65 251,991.83\n",
              "19          USCA        Southern US           255  19,991.83 148,771.91\n",
              "20          USCA         Eastern US           443  47,462.04 264,973.98\n",
              "21          USCA         Central US           356  33,697.43 170,416.31\n",
              "22          USCA             Canada            49   7,246.62  26,298.81"
            ]
          },
          "metadata": {
            "tags": []
          },
          "execution_count": 41
        }
      ]
    },
    {
      "cell_type": "code",
      "metadata": {
        "colab": {
          "base_uri": "https://localhost:8080/",
          "height": 793
        },
        "id": "UikZu7TYkJ4t",
        "outputId": "38e4e9d2-e9ef-4189-8824-ff61ef4dfd8a"
      },
      "source": [
        "# Read file and set the 1st 2 columns as index\n",
        "sales = pd.read_excel('sales.xlsx', index_col=[0,1])\n",
        "sales"
      ],
      "execution_count": 42,
      "outputs": [
        {
          "output_type": "execute_result",
          "data": {
            "text/html": [
              "<div>\n",
              "<style scoped>\n",
              "    .dataframe tbody tr th:only-of-type {\n",
              "        vertical-align: middle;\n",
              "    }\n",
              "\n",
              "    .dataframe tbody tr th {\n",
              "        vertical-align: top;\n",
              "    }\n",
              "\n",
              "    .dataframe thead th {\n",
              "        text-align: right;\n",
              "    }\n",
              "</style>\n",
              "<table border=\"1\" class=\"dataframe\">\n",
              "  <thead>\n",
              "    <tr style=\"text-align: right;\">\n",
              "      <th></th>\n",
              "      <th></th>\n",
              "      <th>No_of_Orders</th>\n",
              "      <th>Profit</th>\n",
              "      <th>Sales</th>\n",
              "    </tr>\n",
              "    <tr>\n",
              "      <th>Market</th>\n",
              "      <th>Region</th>\n",
              "      <th></th>\n",
              "      <th></th>\n",
              "      <th></th>\n",
              "    </tr>\n",
              "  </thead>\n",
              "  <tbody>\n",
              "    <tr>\n",
              "      <th rowspan=\"5\" valign=\"top\">Africa</th>\n",
              "      <th>Western Africa</th>\n",
              "      <td>251</td>\n",
              "      <td>-12,901.51</td>\n",
              "      <td>78,476.06</td>\n",
              "    </tr>\n",
              "    <tr>\n",
              "      <th>Southern Africa</th>\n",
              "      <td>85</td>\n",
              "      <td>11,768.58</td>\n",
              "      <td>51,319.50</td>\n",
              "    </tr>\n",
              "    <tr>\n",
              "      <th>North Africa</th>\n",
              "      <td>182</td>\n",
              "      <td>21,643.08</td>\n",
              "      <td>86,698.89</td>\n",
              "    </tr>\n",
              "    <tr>\n",
              "      <th>Eastern Africa</th>\n",
              "      <td>110</td>\n",
              "      <td>8,013.04</td>\n",
              "      <td>44,182.60</td>\n",
              "    </tr>\n",
              "    <tr>\n",
              "      <th>Central Africa</th>\n",
              "      <td>103</td>\n",
              "      <td>15,606.30</td>\n",
              "      <td>61,689.99</td>\n",
              "    </tr>\n",
              "    <tr>\n",
              "      <th rowspan=\"6\" valign=\"top\">Asia Pacific</th>\n",
              "      <th>Western Asia</th>\n",
              "      <td>382</td>\n",
              "      <td>-16,766.90</td>\n",
              "      <td>124,312.24</td>\n",
              "    </tr>\n",
              "    <tr>\n",
              "      <th>Southern Asia</th>\n",
              "      <td>469</td>\n",
              "      <td>67,998.76</td>\n",
              "      <td>351,806.60</td>\n",
              "    </tr>\n",
              "    <tr>\n",
              "      <th>Southeastern Asia</th>\n",
              "      <td>533</td>\n",
              "      <td>20,948.84</td>\n",
              "      <td>329,751.38</td>\n",
              "    </tr>\n",
              "    <tr>\n",
              "      <th>Oceania</th>\n",
              "      <td>646</td>\n",
              "      <td>54,734.02</td>\n",
              "      <td>408,002.98</td>\n",
              "    </tr>\n",
              "    <tr>\n",
              "      <th>Eastern Asia</th>\n",
              "      <td>414</td>\n",
              "      <td>72,805.10</td>\n",
              "      <td>315,390.77</td>\n",
              "    </tr>\n",
              "    <tr>\n",
              "      <th>Central Asia</th>\n",
              "      <td>37</td>\n",
              "      <td>-2,649.76</td>\n",
              "      <td>8,190.74</td>\n",
              "    </tr>\n",
              "    <tr>\n",
              "      <th rowspan=\"4\" valign=\"top\">Europe</th>\n",
              "      <th>Western Europe</th>\n",
              "      <td>964</td>\n",
              "      <td>82,091.27</td>\n",
              "      <td>656,637.14</td>\n",
              "    </tr>\n",
              "    <tr>\n",
              "      <th>Southern Europe</th>\n",
              "      <td>338</td>\n",
              "      <td>18,911.49</td>\n",
              "      <td>215,703.93</td>\n",
              "    </tr>\n",
              "    <tr>\n",
              "      <th>Northern Europe</th>\n",
              "      <td>367</td>\n",
              "      <td>43,237.44</td>\n",
              "      <td>252,969.09</td>\n",
              "    </tr>\n",
              "    <tr>\n",
              "      <th>Eastern Europe</th>\n",
              "      <td>241</td>\n",
              "      <td>25,050.69</td>\n",
              "      <td>108,258.93</td>\n",
              "    </tr>\n",
              "    <tr>\n",
              "      <th rowspan=\"3\" valign=\"top\">LATAM</th>\n",
              "      <th>South America</th>\n",
              "      <td>496</td>\n",
              "      <td>12,377.59</td>\n",
              "      <td>210,710.49</td>\n",
              "    </tr>\n",
              "    <tr>\n",
              "      <th>Central America</th>\n",
              "      <td>930</td>\n",
              "      <td>74,679.54</td>\n",
              "      <td>461,670.28</td>\n",
              "    </tr>\n",
              "    <tr>\n",
              "      <th>Caribbean</th>\n",
              "      <td>288</td>\n",
              "      <td>13,529.59</td>\n",
              "      <td>116,333.05</td>\n",
              "    </tr>\n",
              "    <tr>\n",
              "      <th rowspan=\"5\" valign=\"top\">USCA</th>\n",
              "      <th>Western US</th>\n",
              "      <td>490</td>\n",
              "      <td>44,303.65</td>\n",
              "      <td>251,991.83</td>\n",
              "    </tr>\n",
              "    <tr>\n",
              "      <th>Southern US</th>\n",
              "      <td>255</td>\n",
              "      <td>19,991.83</td>\n",
              "      <td>148,771.91</td>\n",
              "    </tr>\n",
              "    <tr>\n",
              "      <th>Eastern US</th>\n",
              "      <td>443</td>\n",
              "      <td>47,462.04</td>\n",
              "      <td>264,973.98</td>\n",
              "    </tr>\n",
              "    <tr>\n",
              "      <th>Central US</th>\n",
              "      <td>356</td>\n",
              "      <td>33,697.43</td>\n",
              "      <td>170,416.31</td>\n",
              "    </tr>\n",
              "    <tr>\n",
              "      <th>Canada</th>\n",
              "      <td>49</td>\n",
              "      <td>7,246.62</td>\n",
              "      <td>26,298.81</td>\n",
              "    </tr>\n",
              "  </tbody>\n",
              "</table>\n",
              "</div>"
            ],
            "text/plain": [
              "                                No_of_Orders     Profit      Sales\n",
              "Market       Region                                               \n",
              "Africa       Western Africa              251 -12,901.51  78,476.06\n",
              "             Southern Africa              85  11,768.58  51,319.50\n",
              "             North Africa                182  21,643.08  86,698.89\n",
              "             Eastern Africa              110   8,013.04  44,182.60\n",
              "             Central Africa              103  15,606.30  61,689.99\n",
              "Asia Pacific Western Asia                382 -16,766.90 124,312.24\n",
              "             Southern Asia               469  67,998.76 351,806.60\n",
              "             Southeastern Asia           533  20,948.84 329,751.38\n",
              "             Oceania                     646  54,734.02 408,002.98\n",
              "             Eastern Asia                414  72,805.10 315,390.77\n",
              "             Central Asia                 37  -2,649.76   8,190.74\n",
              "Europe       Western Europe              964  82,091.27 656,637.14\n",
              "             Southern Europe             338  18,911.49 215,703.93\n",
              "             Northern Europe             367  43,237.44 252,969.09\n",
              "             Eastern Europe              241  25,050.69 108,258.93\n",
              "LATAM        South America               496  12,377.59 210,710.49\n",
              "             Central America             930  74,679.54 461,670.28\n",
              "             Caribbean                   288  13,529.59 116,333.05\n",
              "USCA         Western US                  490  44,303.65 251,991.83\n",
              "             Southern US                 255  19,991.83 148,771.91\n",
              "             Eastern US                  443  47,462.04 264,973.98\n",
              "             Central US                  356  33,697.43 170,416.31\n",
              "             Canada                       49   7,246.62  26,298.81"
            ]
          },
          "metadata": {
            "tags": []
          },
          "execution_count": 42
        }
      ]
    },
    {
      "cell_type": "markdown",
      "metadata": {
        "id": "D7-c5EVuj-mu"
      },
      "source": [
        "#### Example 1\n",
        "\n",
        "**Display 1st 3 and last 3 rows of sales data frame**"
      ]
    },
    {
      "cell_type": "code",
      "metadata": {
        "colab": {
          "base_uri": "https://localhost:8080/",
          "height": 173
        },
        "id": "OGtLMQ-3jgI3",
        "outputId": "fc766836-2a53-44f0-c8b5-d74e1d71a973"
      },
      "source": [
        "sales.head(3)"
      ],
      "execution_count": 43,
      "outputs": [
        {
          "output_type": "execute_result",
          "data": {
            "text/html": [
              "<div>\n",
              "<style scoped>\n",
              "    .dataframe tbody tr th:only-of-type {\n",
              "        vertical-align: middle;\n",
              "    }\n",
              "\n",
              "    .dataframe tbody tr th {\n",
              "        vertical-align: top;\n",
              "    }\n",
              "\n",
              "    .dataframe thead th {\n",
              "        text-align: right;\n",
              "    }\n",
              "</style>\n",
              "<table border=\"1\" class=\"dataframe\">\n",
              "  <thead>\n",
              "    <tr style=\"text-align: right;\">\n",
              "      <th></th>\n",
              "      <th></th>\n",
              "      <th>No_of_Orders</th>\n",
              "      <th>Profit</th>\n",
              "      <th>Sales</th>\n",
              "    </tr>\n",
              "    <tr>\n",
              "      <th>Market</th>\n",
              "      <th>Region</th>\n",
              "      <th></th>\n",
              "      <th></th>\n",
              "      <th></th>\n",
              "    </tr>\n",
              "  </thead>\n",
              "  <tbody>\n",
              "    <tr>\n",
              "      <th rowspan=\"3\" valign=\"top\">Africa</th>\n",
              "      <th>Western Africa</th>\n",
              "      <td>251</td>\n",
              "      <td>-12,901.51</td>\n",
              "      <td>78,476.06</td>\n",
              "    </tr>\n",
              "    <tr>\n",
              "      <th>Southern Africa</th>\n",
              "      <td>85</td>\n",
              "      <td>11,768.58</td>\n",
              "      <td>51,319.50</td>\n",
              "    </tr>\n",
              "    <tr>\n",
              "      <th>North Africa</th>\n",
              "      <td>182</td>\n",
              "      <td>21,643.08</td>\n",
              "      <td>86,698.89</td>\n",
              "    </tr>\n",
              "  </tbody>\n",
              "</table>\n",
              "</div>"
            ],
            "text/plain": [
              "                        No_of_Orders     Profit     Sales\n",
              "Market Region                                            \n",
              "Africa Western Africa            251 -12,901.51 78,476.06\n",
              "       Southern Africa            85  11,768.58 51,319.50\n",
              "       North Africa              182  21,643.08 86,698.89"
            ]
          },
          "metadata": {
            "tags": []
          },
          "execution_count": 43
        }
      ]
    },
    {
      "cell_type": "code",
      "metadata": {
        "colab": {
          "base_uri": "https://localhost:8080/",
          "height": 173
        },
        "id": "IPxPdYA_4o3P",
        "outputId": "449bd4c1-62d7-4809-dd66-22063e87e854"
      },
      "source": [
        "sales.tail(3)"
      ],
      "execution_count": 44,
      "outputs": [
        {
          "output_type": "execute_result",
          "data": {
            "text/html": [
              "<div>\n",
              "<style scoped>\n",
              "    .dataframe tbody tr th:only-of-type {\n",
              "        vertical-align: middle;\n",
              "    }\n",
              "\n",
              "    .dataframe tbody tr th {\n",
              "        vertical-align: top;\n",
              "    }\n",
              "\n",
              "    .dataframe thead th {\n",
              "        text-align: right;\n",
              "    }\n",
              "</style>\n",
              "<table border=\"1\" class=\"dataframe\">\n",
              "  <thead>\n",
              "    <tr style=\"text-align: right;\">\n",
              "      <th></th>\n",
              "      <th></th>\n",
              "      <th>No_of_Orders</th>\n",
              "      <th>Profit</th>\n",
              "      <th>Sales</th>\n",
              "    </tr>\n",
              "    <tr>\n",
              "      <th>Market</th>\n",
              "      <th>Region</th>\n",
              "      <th></th>\n",
              "      <th></th>\n",
              "      <th></th>\n",
              "    </tr>\n",
              "  </thead>\n",
              "  <tbody>\n",
              "    <tr>\n",
              "      <th rowspan=\"3\" valign=\"top\">USCA</th>\n",
              "      <th>Eastern US</th>\n",
              "      <td>443</td>\n",
              "      <td>47,462.04</td>\n",
              "      <td>264,973.98</td>\n",
              "    </tr>\n",
              "    <tr>\n",
              "      <th>Central US</th>\n",
              "      <td>356</td>\n",
              "      <td>33,697.43</td>\n",
              "      <td>170,416.31</td>\n",
              "    </tr>\n",
              "    <tr>\n",
              "      <th>Canada</th>\n",
              "      <td>49</td>\n",
              "      <td>7,246.62</td>\n",
              "      <td>26,298.81</td>\n",
              "    </tr>\n",
              "  </tbody>\n",
              "</table>\n",
              "</div>"
            ],
            "text/plain": [
              "                   No_of_Orders    Profit      Sales\n",
              "Market Region                                       \n",
              "USCA   Eastern US           443 47,462.04 264,973.98\n",
              "       Central US           356 33,697.43 170,416.31\n",
              "       Canada                49  7,246.62  26,298.81"
            ]
          },
          "metadata": {
            "tags": []
          },
          "execution_count": 44
        }
      ]
    },
    {
      "cell_type": "markdown",
      "metadata": {
        "id": "9qedlL1j5Ild"
      },
      "source": [
        "**Display the information about the data stored in the dataframe**"
      ]
    },
    {
      "cell_type": "code",
      "metadata": {
        "colab": {
          "base_uri": "https://localhost:8080/"
        },
        "id": "bTQ-K3PP5PcF",
        "outputId": "4173daea-2913-4221-fa66-190c123c7c55"
      },
      "source": [
        "sales.info"
      ],
      "execution_count": 45,
      "outputs": [
        {
          "output_type": "execute_result",
          "data": {
            "text/plain": [
              "<bound method DataFrame.info of                                 No_of_Orders     Profit      Sales\n",
              "Market       Region                                               \n",
              "Africa       Western Africa              251 -12,901.51  78,476.06\n",
              "             Southern Africa              85  11,768.58  51,319.50\n",
              "             North Africa                182  21,643.08  86,698.89\n",
              "             Eastern Africa              110   8,013.04  44,182.60\n",
              "             Central Africa              103  15,606.30  61,689.99\n",
              "Asia Pacific Western Asia                382 -16,766.90 124,312.24\n",
              "             Southern Asia               469  67,998.76 351,806.60\n",
              "             Southeastern Asia           533  20,948.84 329,751.38\n",
              "             Oceania                     646  54,734.02 408,002.98\n",
              "             Eastern Asia                414  72,805.10 315,390.77\n",
              "             Central Asia                 37  -2,649.76   8,190.74\n",
              "Europe       Western Europe              964  82,091.27 656,637.14\n",
              "             Southern Europe             338  18,911.49 215,703.93\n",
              "             Northern Europe             367  43,237.44 252,969.09\n",
              "             Eastern Europe              241  25,050.69 108,258.93\n",
              "LATAM        South America               496  12,377.59 210,710.49\n",
              "             Central America             930  74,679.54 461,670.28\n",
              "             Caribbean                   288  13,529.59 116,333.05\n",
              "USCA         Western US                  490  44,303.65 251,991.83\n",
              "             Southern US                 255  19,991.83 148,771.91\n",
              "             Eastern US                  443  47,462.04 264,973.98\n",
              "             Central US                  356  33,697.43 170,416.31\n",
              "             Canada                       49   7,246.62  26,298.81>"
            ]
          },
          "metadata": {
            "tags": []
          },
          "execution_count": 45
        }
      ]
    },
    {
      "cell_type": "code",
      "metadata": {
        "colab": {
          "base_uri": "https://localhost:8080/"
        },
        "id": "uIVhzs5F5Pm0",
        "outputId": "8a6f2395-c919-4463-d240-643aebe47fd8"
      },
      "source": [
        "sales.info()"
      ],
      "execution_count": 46,
      "outputs": [
        {
          "output_type": "stream",
          "text": [
            "<class 'pandas.core.frame.DataFrame'>\n",
            "MultiIndex: 23 entries, ('Africa', 'Western Africa') to ('USCA', 'Canada')\n",
            "Data columns (total 3 columns):\n",
            " #   Column        Non-Null Count  Dtype  \n",
            "---  ------        --------------  -----  \n",
            " 0   No_of_Orders  23 non-null     int64  \n",
            " 1   Profit        23 non-null     float64\n",
            " 2   Sales         23 non-null     float64\n",
            "dtypes: float64(2), int64(1)\n",
            "memory usage: 1.7+ KB\n"
          ],
          "name": "stdout"
        }
      ]
    },
    {
      "cell_type": "markdown",
      "metadata": {
        "id": "YaENCMni5rDZ"
      },
      "source": [
        "**Display the statistical information about the data in the data frame**"
      ]
    },
    {
      "cell_type": "code",
      "metadata": {
        "colab": {
          "base_uri": "https://localhost:8080/",
          "height": 297
        },
        "id": "Q0hwCHBy5eJR",
        "outputId": "a48ce022-a1b3-4022-e444-ad08ff65c129"
      },
      "source": [
        "sales.describe()"
      ],
      "execution_count": 47,
      "outputs": [
        {
          "output_type": "execute_result",
          "data": {
            "text/html": [
              "<div>\n",
              "<style scoped>\n",
              "    .dataframe tbody tr th:only-of-type {\n",
              "        vertical-align: middle;\n",
              "    }\n",
              "\n",
              "    .dataframe tbody tr th {\n",
              "        vertical-align: top;\n",
              "    }\n",
              "\n",
              "    .dataframe thead th {\n",
              "        text-align: right;\n",
              "    }\n",
              "</style>\n",
              "<table border=\"1\" class=\"dataframe\">\n",
              "  <thead>\n",
              "    <tr style=\"text-align: right;\">\n",
              "      <th></th>\n",
              "      <th>No_of_Orders</th>\n",
              "      <th>Profit</th>\n",
              "      <th>Sales</th>\n",
              "    </tr>\n",
              "  </thead>\n",
              "  <tbody>\n",
              "    <tr>\n",
              "      <th>count</th>\n",
              "      <td>23.00</td>\n",
              "      <td>23.00</td>\n",
              "      <td>23.00</td>\n",
              "    </tr>\n",
              "    <tr>\n",
              "      <th>mean</th>\n",
              "      <td>366.48</td>\n",
              "      <td>28,859.94</td>\n",
              "      <td>206,285.11</td>\n",
              "    </tr>\n",
              "    <tr>\n",
              "      <th>std</th>\n",
              "      <td>246.59</td>\n",
              "      <td>27,701.19</td>\n",
              "      <td>160,589.89</td>\n",
              "    </tr>\n",
              "    <tr>\n",
              "      <th>min</th>\n",
              "      <td>37.00</td>\n",
              "      <td>-16,766.90</td>\n",
              "      <td>8,190.74</td>\n",
              "    </tr>\n",
              "    <tr>\n",
              "      <th>25%</th>\n",
              "      <td>211.50</td>\n",
              "      <td>12,073.08</td>\n",
              "      <td>82,587.48</td>\n",
              "    </tr>\n",
              "    <tr>\n",
              "      <th>50%</th>\n",
              "      <td>356.00</td>\n",
              "      <td>20,948.84</td>\n",
              "      <td>170,416.31</td>\n",
              "    </tr>\n",
              "    <tr>\n",
              "      <th>75%</th>\n",
              "      <td>479.50</td>\n",
              "      <td>45,882.85</td>\n",
              "      <td>290,182.38</td>\n",
              "    </tr>\n",
              "    <tr>\n",
              "      <th>max</th>\n",
              "      <td>964.00</td>\n",
              "      <td>82,091.27</td>\n",
              "      <td>656,637.14</td>\n",
              "    </tr>\n",
              "  </tbody>\n",
              "</table>\n",
              "</div>"
            ],
            "text/plain": [
              "       No_of_Orders     Profit      Sales\n",
              "count         23.00      23.00      23.00\n",
              "mean         366.48  28,859.94 206,285.11\n",
              "std          246.59  27,701.19 160,589.89\n",
              "min           37.00 -16,766.90   8,190.74\n",
              "25%          211.50  12,073.08  82,587.48\n",
              "50%          356.00  20,948.84 170,416.31\n",
              "75%          479.50  45,882.85 290,182.38\n",
              "max          964.00  82,091.27 656,637.14"
            ]
          },
          "metadata": {
            "tags": []
          },
          "execution_count": 47
        }
      ]
    },
    {
      "cell_type": "code",
      "metadata": {
        "colab": {
          "base_uri": "https://localhost:8080/",
          "height": 265
        },
        "id": "0bYCIooV6r_3",
        "outputId": "2c3cf3e8-c8f7-40f0-a582-79b7ca4ed77a"
      },
      "source": [
        "# below means from the sales data frame we are interested in plotting box plots for both sales and profit\n",
        "# and becoz we are interested in both sales and profits we will give subplots = true means one plot for sales and one for profit\n",
        "sales[['Profit', 'Sales']].plot(kind = \"box\", subplots = True)\n",
        "plt.show()\n",
        "\n",
        "\n",
        "# the fist line from the bottom of profit represents 25 percentile which is 12073.085000 as we can see from above describe results\n",
        "# the second line from bottom refers to 50% which is 20948.840000\n",
        "# the first line from the top is the 75%"
      ],
      "execution_count": 48,
      "outputs": [
        {
          "output_type": "display_data",
          "data": {
            "image/png": "[encoded data removed]",
            "text/plain": [
              "<Figure size 432x288 with 2 Axes>"
            ]
          },
          "metadata": {
            "tags": [],
            "needs_background": "light"
          }
        }
      ]
    },
    {
      "cell_type": "code",
      "metadata": {
        "colab": {
          "base_uri": "https://localhost:8080/"
        },
        "id": "jPCn1su48azm",
        "outputId": "45f16a54-8a94-44b3-e207-956ac063ea50"
      },
      "source": [
        "sales[\"Profit\"]"
      ],
      "execution_count": 49,
      "outputs": [
        {
          "output_type": "execute_result",
          "data": {
            "text/plain": [
              "Market        Region           \n",
              "Africa        Western Africa      -12,901.51\n",
              "              Southern Africa      11,768.58\n",
              "              North Africa         21,643.08\n",
              "              Eastern Africa        8,013.04\n",
              "              Central Africa       15,606.30\n",
              "Asia Pacific  Western Asia        -16,766.90\n",
              "              Southern Asia        67,998.76\n",
              "              Southeastern Asia    20,948.84\n",
              "              Oceania              54,734.02\n",
              "              Eastern Asia         72,805.10\n",
              "              Central Asia         -2,649.76\n",
              "Europe        Western Europe       82,091.27\n",
              "              Southern Europe      18,911.49\n",
              "              Northern Europe      43,237.44\n",
              "              Eastern Europe       25,050.69\n",
              "LATAM         South America        12,377.59\n",
              "              Central America      74,679.54\n",
              "              Caribbean            13,529.59\n",
              "USCA          Western US           44,303.65\n",
              "              Southern US          19,991.83\n",
              "              Eastern US           47,462.04\n",
              "              Central US           33,697.43\n",
              "              Canada                7,246.62\n",
              "Name: Profit, dtype: float64"
            ]
          },
          "metadata": {
            "tags": []
          },
          "execution_count": 49
        }
      ]
    },
    {
      "cell_type": "code",
      "metadata": {
        "colab": {
          "base_uri": "https://localhost:8080/"
        },
        "id": "e1A8L7P_NjLm",
        "outputId": "350f76a5-d811-4007-e5e0-b23cbe7c75d8"
      },
      "source": [
        "sales.columns"
      ],
      "execution_count": 50,
      "outputs": [
        {
          "output_type": "execute_result",
          "data": {
            "text/plain": [
              "Index(['No_of_Orders', 'Profit', 'Sales'], dtype='object')"
            ]
          },
          "metadata": {
            "tags": []
          },
          "execution_count": 50
        }
      ]
    },
    {
      "cell_type": "markdown",
      "metadata": {
        "id": "XEFTw9-yBh9T"
      },
      "source": [
        "**Column indexing**"
      ]
    },
    {
      "cell_type": "code",
      "metadata": {
        "colab": {
          "base_uri": "https://localhost:8080/"
        },
        "id": "YgoRgMCcWqpW",
        "outputId": "73a6e5f9-c2c2-4367-eeec-4c106c9dbd45"
      },
      "source": [
        "# Display sales columne \n",
        "sales[\"Sales\"]"
      ],
      "execution_count": 51,
      "outputs": [
        {
          "output_type": "execute_result",
          "data": {
            "text/plain": [
              "Market        Region           \n",
              "Africa        Western Africa       78,476.06\n",
              "              Southern Africa      51,319.50\n",
              "              North Africa         86,698.89\n",
              "              Eastern Africa       44,182.60\n",
              "              Central Africa       61,689.99\n",
              "Asia Pacific  Western Asia        124,312.24\n",
              "              Southern Asia       351,806.60\n",
              "              Southeastern Asia   329,751.38\n",
              "              Oceania             408,002.98\n",
              "              Eastern Asia        315,390.77\n",
              "              Central Asia          8,190.74\n",
              "Europe        Western Europe      656,637.14\n",
              "              Southern Europe     215,703.93\n",
              "              Northern Europe     252,969.09\n",
              "              Eastern Europe      108,258.93\n",
              "LATAM         South America       210,710.49\n",
              "              Central America     461,670.28\n",
              "              Caribbean           116,333.05\n",
              "USCA          Western US          251,991.83\n",
              "              Southern US         148,771.91\n",
              "              Eastern US          264,973.98\n",
              "              Central US          170,416.31\n",
              "              Canada               26,298.81\n",
              "Name: Sales, dtype: float64"
            ]
          },
          "metadata": {
            "tags": []
          },
          "execution_count": 51
        }
      ]
    },
    {
      "cell_type": "code",
      "metadata": {
        "colab": {
          "base_uri": "https://localhost:8080/"
        },
        "id": "OK8oQzxCDtqu",
        "outputId": "43f2775d-f565-4d7a-88a8-62d4737a9966"
      },
      "source": [
        "type(sales[\"Sales\"])"
      ],
      "execution_count": 52,
      "outputs": [
        {
          "output_type": "execute_result",
          "data": {
            "text/plain": [
              "pandas.core.series.Series"
            ]
          },
          "metadata": {
            "tags": []
          },
          "execution_count": 52
        }
      ]
    },
    {
      "cell_type": "markdown",
      "metadata": {
        "id": "63d7FjhYeJTZ"
      },
      "source": [
        "**Display Sales and profit columns together**"
      ]
    },
    {
      "cell_type": "code",
      "metadata": {
        "colab": {
          "base_uri": "https://localhost:8080/",
          "height": 793
        },
        "id": "RNZwG5TADveV",
        "outputId": "b96592bf-0c58-4ef4-e0e4-11e476485317"
      },
      "source": [
        "# we are using 2 square brackets becoz we are having to columns to mention\n",
        "\n",
        "sales[['Sales','Profit']]"
      ],
      "execution_count": 53,
      "outputs": [
        {
          "output_type": "execute_result",
          "data": {
            "text/html": [
              "<div>\n",
              "<style scoped>\n",
              "    .dataframe tbody tr th:only-of-type {\n",
              "        vertical-align: middle;\n",
              "    }\n",
              "\n",
              "    .dataframe tbody tr th {\n",
              "        vertical-align: top;\n",
              "    }\n",
              "\n",
              "    .dataframe thead th {\n",
              "        text-align: right;\n",
              "    }\n",
              "</style>\n",
              "<table border=\"1\" class=\"dataframe\">\n",
              "  <thead>\n",
              "    <tr style=\"text-align: right;\">\n",
              "      <th></th>\n",
              "      <th></th>\n",
              "      <th>Sales</th>\n",
              "      <th>Profit</th>\n",
              "    </tr>\n",
              "    <tr>\n",
              "      <th>Market</th>\n",
              "      <th>Region</th>\n",
              "      <th></th>\n",
              "      <th></th>\n",
              "    </tr>\n",
              "  </thead>\n",
              "  <tbody>\n",
              "    <tr>\n",
              "      <th rowspan=\"5\" valign=\"top\">Africa</th>\n",
              "      <th>Western Africa</th>\n",
              "      <td>78,476.06</td>\n",
              "      <td>-12,901.51</td>\n",
              "    </tr>\n",
              "    <tr>\n",
              "      <th>Southern Africa</th>\n",
              "      <td>51,319.50</td>\n",
              "      <td>11,768.58</td>\n",
              "    </tr>\n",
              "    <tr>\n",
              "      <th>North Africa</th>\n",
              "      <td>86,698.89</td>\n",
              "      <td>21,643.08</td>\n",
              "    </tr>\n",
              "    <tr>\n",
              "      <th>Eastern Africa</th>\n",
              "      <td>44,182.60</td>\n",
              "      <td>8,013.04</td>\n",
              "    </tr>\n",
              "    <tr>\n",
              "      <th>Central Africa</th>\n",
              "      <td>61,689.99</td>\n",
              "      <td>15,606.30</td>\n",
              "    </tr>\n",
              "    <tr>\n",
              "      <th rowspan=\"6\" valign=\"top\">Asia Pacific</th>\n",
              "      <th>Western Asia</th>\n",
              "      <td>124,312.24</td>\n",
              "      <td>-16,766.90</td>\n",
              "    </tr>\n",
              "    <tr>\n",
              "      <th>Southern Asia</th>\n",
              "      <td>351,806.60</td>\n",
              "      <td>67,998.76</td>\n",
              "    </tr>\n",
              "    <tr>\n",
              "      <th>Southeastern Asia</th>\n",
              "      <td>329,751.38</td>\n",
              "      <td>20,948.84</td>\n",
              "    </tr>\n",
              "    <tr>\n",
              "      <th>Oceania</th>\n",
              "      <td>408,002.98</td>\n",
              "      <td>54,734.02</td>\n",
              "    </tr>\n",
              "    <tr>\n",
              "      <th>Eastern Asia</th>\n",
              "      <td>315,390.77</td>\n",
              "      <td>72,805.10</td>\n",
              "    </tr>\n",
              "    <tr>\n",
              "      <th>Central Asia</th>\n",
              "      <td>8,190.74</td>\n",
              "      <td>-2,649.76</td>\n",
              "    </tr>\n",
              "    <tr>\n",
              "      <th rowspan=\"4\" valign=\"top\">Europe</th>\n",
              "      <th>Western Europe</th>\n",
              "      <td>656,637.14</td>\n",
              "      <td>82,091.27</td>\n",
              "    </tr>\n",
              "    <tr>\n",
              "      <th>Southern Europe</th>\n",
              "      <td>215,703.93</td>\n",
              "      <td>18,911.49</td>\n",
              "    </tr>\n",
              "    <tr>\n",
              "      <th>Northern Europe</th>\n",
              "      <td>252,969.09</td>\n",
              "      <td>43,237.44</td>\n",
              "    </tr>\n",
              "    <tr>\n",
              "      <th>Eastern Europe</th>\n",
              "      <td>108,258.93</td>\n",
              "      <td>25,050.69</td>\n",
              "    </tr>\n",
              "    <tr>\n",
              "      <th rowspan=\"3\" valign=\"top\">LATAM</th>\n",
              "      <th>South America</th>\n",
              "      <td>210,710.49</td>\n",
              "      <td>12,377.59</td>\n",
              "    </tr>\n",
              "    <tr>\n",
              "      <th>Central America</th>\n",
              "      <td>461,670.28</td>\n",
              "      <td>74,679.54</td>\n",
              "    </tr>\n",
              "    <tr>\n",
              "      <th>Caribbean</th>\n",
              "      <td>116,333.05</td>\n",
              "      <td>13,529.59</td>\n",
              "    </tr>\n",
              "    <tr>\n",
              "      <th rowspan=\"5\" valign=\"top\">USCA</th>\n",
              "      <th>Western US</th>\n",
              "      <td>251,991.83</td>\n",
              "      <td>44,303.65</td>\n",
              "    </tr>\n",
              "    <tr>\n",
              "      <th>Southern US</th>\n",
              "      <td>148,771.91</td>\n",
              "      <td>19,991.83</td>\n",
              "    </tr>\n",
              "    <tr>\n",
              "      <th>Eastern US</th>\n",
              "      <td>264,973.98</td>\n",
              "      <td>47,462.04</td>\n",
              "    </tr>\n",
              "    <tr>\n",
              "      <th>Central US</th>\n",
              "      <td>170,416.31</td>\n",
              "      <td>33,697.43</td>\n",
              "    </tr>\n",
              "    <tr>\n",
              "      <th>Canada</th>\n",
              "      <td>26,298.81</td>\n",
              "      <td>7,246.62</td>\n",
              "    </tr>\n",
              "  </tbody>\n",
              "</table>\n",
              "</div>"
            ],
            "text/plain": [
              "                                    Sales     Profit\n",
              "Market       Region                                 \n",
              "Africa       Western Africa     78,476.06 -12,901.51\n",
              "             Southern Africa    51,319.50  11,768.58\n",
              "             North Africa       86,698.89  21,643.08\n",
              "             Eastern Africa     44,182.60   8,013.04\n",
              "             Central Africa     61,689.99  15,606.30\n",
              "Asia Pacific Western Asia      124,312.24 -16,766.90\n",
              "             Southern Asia     351,806.60  67,998.76\n",
              "             Southeastern Asia 329,751.38  20,948.84\n",
              "             Oceania           408,002.98  54,734.02\n",
              "             Eastern Asia      315,390.77  72,805.10\n",
              "             Central Asia        8,190.74  -2,649.76\n",
              "Europe       Western Europe    656,637.14  82,091.27\n",
              "             Southern Europe   215,703.93  18,911.49\n",
              "             Northern Europe   252,969.09  43,237.44\n",
              "             Eastern Europe    108,258.93  25,050.69\n",
              "LATAM        South America     210,710.49  12,377.59\n",
              "             Central America   461,670.28  74,679.54\n",
              "             Caribbean         116,333.05  13,529.59\n",
              "USCA         Western US        251,991.83  44,303.65\n",
              "             Southern US       148,771.91  19,991.83\n",
              "             Eastern US        264,973.98  47,462.04\n",
              "             Central US        170,416.31  33,697.43\n",
              "             Canada             26,298.81   7,246.62"
            ]
          },
          "metadata": {
            "tags": []
          },
          "execution_count": 53
        }
      ]
    },
    {
      "cell_type": "markdown",
      "metadata": {
        "id": "RgoKI7kNhwFz"
      },
      "source": [
        "#### **Row indexing**\n",
        "\n",
        " **Display data for south asia**"
      ]
    },
    {
      "cell_type": "code",
      "metadata": {
        "colab": {
          "base_uri": "https://localhost:8080/",
          "height": 204
        },
        "id": "KoWwFaPziALn",
        "outputId": "0da9d679-f986-4fe1-e48b-012e66517d15"
      },
      "source": [
        "# loc accessor takes row index and column index\n",
        "\n",
        "sales.loc[\"Europe\"]"
      ],
      "execution_count": 54,
      "outputs": [
        {
          "output_type": "execute_result",
          "data": {
            "text/html": [
              "<div>\n",
              "<style scoped>\n",
              "    .dataframe tbody tr th:only-of-type {\n",
              "        vertical-align: middle;\n",
              "    }\n",
              "\n",
              "    .dataframe tbody tr th {\n",
              "        vertical-align: top;\n",
              "    }\n",
              "\n",
              "    .dataframe thead th {\n",
              "        text-align: right;\n",
              "    }\n",
              "</style>\n",
              "<table border=\"1\" class=\"dataframe\">\n",
              "  <thead>\n",
              "    <tr style=\"text-align: right;\">\n",
              "      <th></th>\n",
              "      <th>No_of_Orders</th>\n",
              "      <th>Profit</th>\n",
              "      <th>Sales</th>\n",
              "    </tr>\n",
              "    <tr>\n",
              "      <th>Region</th>\n",
              "      <th></th>\n",
              "      <th></th>\n",
              "      <th></th>\n",
              "    </tr>\n",
              "  </thead>\n",
              "  <tbody>\n",
              "    <tr>\n",
              "      <th>Western Europe</th>\n",
              "      <td>964</td>\n",
              "      <td>82,091.27</td>\n",
              "      <td>656,637.14</td>\n",
              "    </tr>\n",
              "    <tr>\n",
              "      <th>Southern Europe</th>\n",
              "      <td>338</td>\n",
              "      <td>18,911.49</td>\n",
              "      <td>215,703.93</td>\n",
              "    </tr>\n",
              "    <tr>\n",
              "      <th>Northern Europe</th>\n",
              "      <td>367</td>\n",
              "      <td>43,237.44</td>\n",
              "      <td>252,969.09</td>\n",
              "    </tr>\n",
              "    <tr>\n",
              "      <th>Eastern Europe</th>\n",
              "      <td>241</td>\n",
              "      <td>25,050.69</td>\n",
              "      <td>108,258.93</td>\n",
              "    </tr>\n",
              "  </tbody>\n",
              "</table>\n",
              "</div>"
            ],
            "text/plain": [
              "                 No_of_Orders    Profit      Sales\n",
              "Region                                            \n",
              "Western Europe            964 82,091.27 656,637.14\n",
              "Southern Europe           338 18,911.49 215,703.93\n",
              "Northern Europe           367 43,237.44 252,969.09\n",
              "Eastern Europe            241 25,050.69 108,258.93"
            ]
          },
          "metadata": {
            "tags": []
          },
          "execution_count": 54
        }
      ]
    },
    {
      "cell_type": "markdown",
      "metadata": {
        "id": "LlY-oaFbqP_x"
      },
      "source": [
        "**Display sales data for southern Asia**"
      ]
    },
    {
      "cell_type": "code",
      "metadata": {
        "colab": {
          "base_uri": "https://localhost:8080/"
        },
        "id": "TlymMZY2qWJG",
        "outputId": "3b7d5768-5d81-466b-86be-3782d3b4b4d8"
      },
      "source": [
        "sales.loc[\"Europe\",\"Western Europe\"]"
      ],
      "execution_count": 55,
      "outputs": [
        {
          "output_type": "execute_result",
          "data": {
            "text/plain": [
              "No_of_Orders       964.00\n",
              "Profit          82,091.27\n",
              "Sales          656,637.14\n",
              "Name: (Europe, Western Europe), dtype: float64"
            ]
          },
          "metadata": {
            "tags": []
          },
          "execution_count": 55
        }
      ]
    },
    {
      "cell_type": "markdown",
      "metadata": {
        "id": "jcqc4K-CwbAp"
      },
      "source": [
        "**iloc accessor takes row no and col no**"
      ]
    },
    {
      "cell_type": "code",
      "metadata": {
        "colab": {
          "base_uri": "https://localhost:8080/"
        },
        "id": "YLK5EH-swafZ",
        "outputId": "5369d625-9e7a-40c5-be16-33d1597f7f7f"
      },
      "source": [
        "sales.iloc[2]"
      ],
      "execution_count": 56,
      "outputs": [
        {
          "output_type": "execute_result",
          "data": {
            "text/plain": [
              "No_of_Orders      182.00\n",
              "Profit         21,643.08\n",
              "Sales          86,698.89\n",
              "Name: (Africa, North Africa), dtype: float64"
            ]
          },
          "metadata": {
            "tags": []
          },
          "execution_count": 56
        }
      ]
    },
    {
      "cell_type": "code",
      "metadata": {
        "colab": {
          "base_uri": "https://localhost:8080/"
        },
        "id": "BMyniAfIw8Hz",
        "outputId": "57b496cd-4414-4c09-fce4-4a543094d966"
      },
      "source": [
        "sales.iloc[3,2]"
      ],
      "execution_count": 57,
      "outputs": [
        {
          "output_type": "execute_result",
          "data": {
            "text/plain": [
              "44182.6"
            ]
          },
          "metadata": {
            "tags": []
          },
          "execution_count": 57
        }
      ]
    },
    {
      "cell_type": "markdown",
      "metadata": {
        "id": "mjPpK4-RxHwM"
      },
      "source": [
        "### **EXAMPLE**\n",
        "\n",
        "**Display data for market sales and profit**"
      ]
    },
    {
      "cell_type": "code",
      "metadata": {
        "colab": {
          "base_uri": "https://localhost:8080/",
          "height": 235
        },
        "id": "x40Qw2ZOxTs8",
        "outputId": "dcb54af1-f3e9-4f7d-a388-baaf28ad64e2"
      },
      "source": [
        "# Now we will slice out above columns and all the rows\n",
        "# first we want all the rows, then we want subset or slice of columns\n",
        "sales.loc[:, [\"Sales\", \"Profit\"]].head()"
      ],
      "execution_count": 58,
      "outputs": [
        {
          "output_type": "execute_result",
          "data": {
            "text/html": [
              "<div>\n",
              "<style scoped>\n",
              "    .dataframe tbody tr th:only-of-type {\n",
              "        vertical-align: middle;\n",
              "    }\n",
              "\n",
              "    .dataframe tbody tr th {\n",
              "        vertical-align: top;\n",
              "    }\n",
              "\n",
              "    .dataframe thead th {\n",
              "        text-align: right;\n",
              "    }\n",
              "</style>\n",
              "<table border=\"1\" class=\"dataframe\">\n",
              "  <thead>\n",
              "    <tr style=\"text-align: right;\">\n",
              "      <th></th>\n",
              "      <th></th>\n",
              "      <th>Sales</th>\n",
              "      <th>Profit</th>\n",
              "    </tr>\n",
              "    <tr>\n",
              "      <th>Market</th>\n",
              "      <th>Region</th>\n",
              "      <th></th>\n",
              "      <th></th>\n",
              "    </tr>\n",
              "  </thead>\n",
              "  <tbody>\n",
              "    <tr>\n",
              "      <th rowspan=\"5\" valign=\"top\">Africa</th>\n",
              "      <th>Western Africa</th>\n",
              "      <td>78,476.06</td>\n",
              "      <td>-12,901.51</td>\n",
              "    </tr>\n",
              "    <tr>\n",
              "      <th>Southern Africa</th>\n",
              "      <td>51,319.50</td>\n",
              "      <td>11,768.58</td>\n",
              "    </tr>\n",
              "    <tr>\n",
              "      <th>North Africa</th>\n",
              "      <td>86,698.89</td>\n",
              "      <td>21,643.08</td>\n",
              "    </tr>\n",
              "    <tr>\n",
              "      <th>Eastern Africa</th>\n",
              "      <td>44,182.60</td>\n",
              "      <td>8,013.04</td>\n",
              "    </tr>\n",
              "    <tr>\n",
              "      <th>Central Africa</th>\n",
              "      <td>61,689.99</td>\n",
              "      <td>15,606.30</td>\n",
              "    </tr>\n",
              "  </tbody>\n",
              "</table>\n",
              "</div>"
            ],
            "text/plain": [
              "                           Sales     Profit\n",
              "Market Region                              \n",
              "Africa Western Africa  78,476.06 -12,901.51\n",
              "       Southern Africa 51,319.50  11,768.58\n",
              "       North Africa    86,698.89  21,643.08\n",
              "       Eastern Africa  44,182.60   8,013.04\n",
              "       Central Africa  61,689.99  15,606.30"
            ]
          },
          "metadata": {
            "tags": []
          },
          "execution_count": 58
        }
      ]
    },
    {
      "cell_type": "code",
      "metadata": {
        "colab": {
          "base_uri": "https://localhost:8080/",
          "height": 235
        },
        "id": "ICeil-7O_Xz3",
        "outputId": "c4c5e2db-702d-427e-9da4-5df86b80077b"
      },
      "source": [
        "sales.iloc[:, [1, 2]].head()"
      ],
      "execution_count": 63,
      "outputs": [
        {
          "output_type": "execute_result",
          "data": {
            "text/html": [
              "<div>\n",
              "<style scoped>\n",
              "    .dataframe tbody tr th:only-of-type {\n",
              "        vertical-align: middle;\n",
              "    }\n",
              "\n",
              "    .dataframe tbody tr th {\n",
              "        vertical-align: top;\n",
              "    }\n",
              "\n",
              "    .dataframe thead th {\n",
              "        text-align: right;\n",
              "    }\n",
              "</style>\n",
              "<table border=\"1\" class=\"dataframe\">\n",
              "  <thead>\n",
              "    <tr style=\"text-align: right;\">\n",
              "      <th></th>\n",
              "      <th></th>\n",
              "      <th>Profit</th>\n",
              "      <th>Sales</th>\n",
              "    </tr>\n",
              "    <tr>\n",
              "      <th>Market</th>\n",
              "      <th>Region</th>\n",
              "      <th></th>\n",
              "      <th></th>\n",
              "    </tr>\n",
              "  </thead>\n",
              "  <tbody>\n",
              "    <tr>\n",
              "      <th rowspan=\"5\" valign=\"top\">Africa</th>\n",
              "      <th>Western Africa</th>\n",
              "      <td>-12,901.51</td>\n",
              "      <td>78,476.06</td>\n",
              "    </tr>\n",
              "    <tr>\n",
              "      <th>Southern Africa</th>\n",
              "      <td>11,768.58</td>\n",
              "      <td>51,319.50</td>\n",
              "    </tr>\n",
              "    <tr>\n",
              "      <th>North Africa</th>\n",
              "      <td>21,643.08</td>\n",
              "      <td>86,698.89</td>\n",
              "    </tr>\n",
              "    <tr>\n",
              "      <th>Eastern Africa</th>\n",
              "      <td>8,013.04</td>\n",
              "      <td>44,182.60</td>\n",
              "    </tr>\n",
              "    <tr>\n",
              "      <th>Central Africa</th>\n",
              "      <td>15,606.30</td>\n",
              "      <td>61,689.99</td>\n",
              "    </tr>\n",
              "  </tbody>\n",
              "</table>\n",
              "</div>"
            ],
            "text/plain": [
              "                           Profit     Sales\n",
              "Market Region                              \n",
              "Africa Western Africa  -12,901.51 78,476.06\n",
              "       Southern Africa  11,768.58 51,319.50\n",
              "       North Africa     21,643.08 86,698.89\n",
              "       Eastern Africa    8,013.04 44,182.60\n",
              "       Central Africa   15,606.30 61,689.99"
            ]
          },
          "metadata": {
            "tags": []
          },
          "execution_count": 63
        }
      ]
    },
    {
      "cell_type": "code",
      "metadata": {
        "id": "_kcb6eyR_zTk",
        "colab": {
          "base_uri": "https://localhost:8080/",
          "height": 359
        },
        "outputId": "123c91bb-eb4f-407e-f353-247bae55f960"
      },
      "source": [
        "# here we are displaying data for africa and europe rows and we want all the columns\n",
        "\n",
        "\n",
        "sales.loc[[\"Africa\",\"Europe\"],:]"
      ],
      "execution_count": 67,
      "outputs": [
        {
          "output_type": "execute_result",
          "data": {
            "text/html": [
              "<div>\n",
              "<style scoped>\n",
              "    .dataframe tbody tr th:only-of-type {\n",
              "        vertical-align: middle;\n",
              "    }\n",
              "\n",
              "    .dataframe tbody tr th {\n",
              "        vertical-align: top;\n",
              "    }\n",
              "\n",
              "    .dataframe thead th {\n",
              "        text-align: right;\n",
              "    }\n",
              "</style>\n",
              "<table border=\"1\" class=\"dataframe\">\n",
              "  <thead>\n",
              "    <tr style=\"text-align: right;\">\n",
              "      <th></th>\n",
              "      <th></th>\n",
              "      <th>No_of_Orders</th>\n",
              "      <th>Profit</th>\n",
              "      <th>Sales</th>\n",
              "    </tr>\n",
              "    <tr>\n",
              "      <th>Market</th>\n",
              "      <th>Region</th>\n",
              "      <th></th>\n",
              "      <th></th>\n",
              "      <th></th>\n",
              "    </tr>\n",
              "  </thead>\n",
              "  <tbody>\n",
              "    <tr>\n",
              "      <th rowspan=\"5\" valign=\"top\">Africa</th>\n",
              "      <th>Western Africa</th>\n",
              "      <td>251</td>\n",
              "      <td>-12,901.51</td>\n",
              "      <td>78,476.06</td>\n",
              "    </tr>\n",
              "    <tr>\n",
              "      <th>Southern Africa</th>\n",
              "      <td>85</td>\n",
              "      <td>11,768.58</td>\n",
              "      <td>51,319.50</td>\n",
              "    </tr>\n",
              "    <tr>\n",
              "      <th>North Africa</th>\n",
              "      <td>182</td>\n",
              "      <td>21,643.08</td>\n",
              "      <td>86,698.89</td>\n",
              "    </tr>\n",
              "    <tr>\n",
              "      <th>Eastern Africa</th>\n",
              "      <td>110</td>\n",
              "      <td>8,013.04</td>\n",
              "      <td>44,182.60</td>\n",
              "    </tr>\n",
              "    <tr>\n",
              "      <th>Central Africa</th>\n",
              "      <td>103</td>\n",
              "      <td>15,606.30</td>\n",
              "      <td>61,689.99</td>\n",
              "    </tr>\n",
              "    <tr>\n",
              "      <th rowspan=\"4\" valign=\"top\">Europe</th>\n",
              "      <th>Western Europe</th>\n",
              "      <td>964</td>\n",
              "      <td>82,091.27</td>\n",
              "      <td>656,637.14</td>\n",
              "    </tr>\n",
              "    <tr>\n",
              "      <th>Southern Europe</th>\n",
              "      <td>338</td>\n",
              "      <td>18,911.49</td>\n",
              "      <td>215,703.93</td>\n",
              "    </tr>\n",
              "    <tr>\n",
              "      <th>Northern Europe</th>\n",
              "      <td>367</td>\n",
              "      <td>43,237.44</td>\n",
              "      <td>252,969.09</td>\n",
              "    </tr>\n",
              "    <tr>\n",
              "      <th>Eastern Europe</th>\n",
              "      <td>241</td>\n",
              "      <td>25,050.69</td>\n",
              "      <td>108,258.93</td>\n",
              "    </tr>\n",
              "  </tbody>\n",
              "</table>\n",
              "</div>"
            ],
            "text/plain": [
              "                        No_of_Orders     Profit      Sales\n",
              "Market Region                                             \n",
              "Africa Western Africa            251 -12,901.51  78,476.06\n",
              "       Southern Africa            85  11,768.58  51,319.50\n",
              "       North Africa              182  21,643.08  86,698.89\n",
              "       Eastern Africa            110   8,013.04  44,182.60\n",
              "       Central Africa            103  15,606.30  61,689.99\n",
              "Europe Western Europe            964  82,091.27 656,637.14\n",
              "       Southern Europe           338  18,911.49 215,703.93\n",
              "       Northern Europe           367  43,237.44 252,969.09\n",
              "       Eastern Europe            241  25,050.69 108,258.93"
            ]
          },
          "metadata": {
            "tags": []
          },
          "execution_count": 67
        }
      ]
    },
    {
      "cell_type": "markdown",
      "metadata": {
        "id": "-kpKLqOQtpXK"
      },
      "source": [
        "**display sales and profit data for europe and africa**"
      ]
    },
    {
      "cell_type": "code",
      "metadata": {
        "colab": {
          "base_uri": "https://localhost:8080/",
          "height": 359
        },
        "id": "nCdNbjMNs_Y8",
        "outputId": "9a7bc386-40d8-4816-ecda-659152f74320"
      },
      "source": [
        "sales.loc[[\"Africa\",\"Europe\"], [\"Sales\",\"Profit\"]]"
      ],
      "execution_count": 71,
      "outputs": [
        {
          "output_type": "execute_result",
          "data": {
            "text/html": [
              "<div>\n",
              "<style scoped>\n",
              "    .dataframe tbody tr th:only-of-type {\n",
              "        vertical-align: middle;\n",
              "    }\n",
              "\n",
              "    .dataframe tbody tr th {\n",
              "        vertical-align: top;\n",
              "    }\n",
              "\n",
              "    .dataframe thead th {\n",
              "        text-align: right;\n",
              "    }\n",
              "</style>\n",
              "<table border=\"1\" class=\"dataframe\">\n",
              "  <thead>\n",
              "    <tr style=\"text-align: right;\">\n",
              "      <th></th>\n",
              "      <th></th>\n",
              "      <th>Sales</th>\n",
              "      <th>Profit</th>\n",
              "    </tr>\n",
              "    <tr>\n",
              "      <th>Market</th>\n",
              "      <th>Region</th>\n",
              "      <th></th>\n",
              "      <th></th>\n",
              "    </tr>\n",
              "  </thead>\n",
              "  <tbody>\n",
              "    <tr>\n",
              "      <th rowspan=\"5\" valign=\"top\">Africa</th>\n",
              "      <th>Western Africa</th>\n",
              "      <td>78,476.06</td>\n",
              "      <td>-12,901.51</td>\n",
              "    </tr>\n",
              "    <tr>\n",
              "      <th>Southern Africa</th>\n",
              "      <td>51,319.50</td>\n",
              "      <td>11,768.58</td>\n",
              "    </tr>\n",
              "    <tr>\n",
              "      <th>North Africa</th>\n",
              "      <td>86,698.89</td>\n",
              "      <td>21,643.08</td>\n",
              "    </tr>\n",
              "    <tr>\n",
              "      <th>Eastern Africa</th>\n",
              "      <td>44,182.60</td>\n",
              "      <td>8,013.04</td>\n",
              "    </tr>\n",
              "    <tr>\n",
              "      <th>Central Africa</th>\n",
              "      <td>61,689.99</td>\n",
              "      <td>15,606.30</td>\n",
              "    </tr>\n",
              "    <tr>\n",
              "      <th rowspan=\"4\" valign=\"top\">Europe</th>\n",
              "      <th>Western Europe</th>\n",
              "      <td>656,637.14</td>\n",
              "      <td>82,091.27</td>\n",
              "    </tr>\n",
              "    <tr>\n",
              "      <th>Southern Europe</th>\n",
              "      <td>215,703.93</td>\n",
              "      <td>18,911.49</td>\n",
              "    </tr>\n",
              "    <tr>\n",
              "      <th>Northern Europe</th>\n",
              "      <td>252,969.09</td>\n",
              "      <td>43,237.44</td>\n",
              "    </tr>\n",
              "    <tr>\n",
              "      <th>Eastern Europe</th>\n",
              "      <td>108,258.93</td>\n",
              "      <td>25,050.69</td>\n",
              "    </tr>\n",
              "  </tbody>\n",
              "</table>\n",
              "</div>"
            ],
            "text/plain": [
              "                            Sales     Profit\n",
              "Market Region                               \n",
              "Africa Western Africa   78,476.06 -12,901.51\n",
              "       Southern Africa  51,319.50  11,768.58\n",
              "       North Africa     86,698.89  21,643.08\n",
              "       Eastern Africa   44,182.60   8,013.04\n",
              "       Central Africa   61,689.99  15,606.30\n",
              "Europe Western Europe  656,637.14  82,091.27\n",
              "       Southern Europe 215,703.93  18,911.49\n",
              "       Northern Europe 252,969.09  43,237.44\n",
              "       Eastern Europe  108,258.93  25,050.69"
            ]
          },
          "metadata": {
            "tags": []
          },
          "execution_count": 71
        }
      ]
    },
    {
      "cell_type": "markdown",
      "metadata": {
        "id": "6vYVV0Uv4A-X"
      },
      "source": [
        "## **Example - Filtering**"
      ]
    },
    {
      "cell_type": "code",
      "metadata": {
        "colab": {
          "base_uri": "https://localhost:8080/"
        },
        "id": "ckTY-FXuuUV1",
        "outputId": "8134e3b8-851f-40d9-a3f1-b13a8d6b275b"
      },
      "source": [
        "sales[\"Sales\"] > 300000"
      ],
      "execution_count": 75,
      "outputs": [
        {
          "output_type": "execute_result",
          "data": {
            "text/plain": [
              "0     False\n",
              "1     False\n",
              "2     False\n",
              "3     False\n",
              "4     False\n",
              "5     False\n",
              "6      True\n",
              "7      True\n",
              "8      True\n",
              "9      True\n",
              "10    False\n",
              "11     True\n",
              "12    False\n",
              "13    False\n",
              "14    False\n",
              "15    False\n",
              "16     True\n",
              "17    False\n",
              "18    False\n",
              "19    False\n",
              "20    False\n",
              "21    False\n",
              "22    False\n",
              "Name: Sales, dtype: bool"
            ]
          },
          "metadata": {
            "tags": []
          },
          "execution_count": 75
        }
      ]
    },
    {
      "cell_type": "markdown",
      "metadata": {
        "id": "cxzKMbGG7xh3"
      },
      "source": [
        "**Display LATAM and european countries with sales > 250000**"
      ]
    },
    {
      "cell_type": "code",
      "metadata": {
        "colab": {
          "base_uri": "https://localhost:8080/",
          "height": 111
        },
        "id": "KfOiIyZB6ZSR",
        "outputId": "f5dbcd70-08f0-4179-e333-95788e121cd2"
      },
      "source": [
        "sales[(sales['Market'].isin([\"LATAM\", \"Europe\"])) & (sales[\"Sales\"] > 300000)]"
      ],
      "execution_count": 76,
      "outputs": [
        {
          "output_type": "execute_result",
          "data": {
            "text/html": [
              "<div>\n",
              "<style scoped>\n",
              "    .dataframe tbody tr th:only-of-type {\n",
              "        vertical-align: middle;\n",
              "    }\n",
              "\n",
              "    .dataframe tbody tr th {\n",
              "        vertical-align: top;\n",
              "    }\n",
              "\n",
              "    .dataframe thead th {\n",
              "        text-align: right;\n",
              "    }\n",
              "</style>\n",
              "<table border=\"1\" class=\"dataframe\">\n",
              "  <thead>\n",
              "    <tr style=\"text-align: right;\">\n",
              "      <th></th>\n",
              "      <th>Market</th>\n",
              "      <th>Region</th>\n",
              "      <th>No_of_Orders</th>\n",
              "      <th>Profit</th>\n",
              "      <th>Sales</th>\n",
              "    </tr>\n",
              "  </thead>\n",
              "  <tbody>\n",
              "    <tr>\n",
              "      <th>11</th>\n",
              "      <td>Europe</td>\n",
              "      <td>Western Europe</td>\n",
              "      <td>964</td>\n",
              "      <td>82,091.27</td>\n",
              "      <td>656,637.14</td>\n",
              "    </tr>\n",
              "    <tr>\n",
              "      <th>16</th>\n",
              "      <td>LATAM</td>\n",
              "      <td>Central America</td>\n",
              "      <td>930</td>\n",
              "      <td>74,679.54</td>\n",
              "      <td>461,670.28</td>\n",
              "    </tr>\n",
              "  </tbody>\n",
              "</table>\n",
              "</div>"
            ],
            "text/plain": [
              "    Market           Region  No_of_Orders    Profit      Sales\n",
              "11  Europe   Western Europe           964 82,091.27 656,637.14\n",
              "16   LATAM  Central America           930 74,679.54 461,670.28"
            ]
          },
          "metadata": {
            "tags": []
          },
          "execution_count": 76
        }
      ]
    },
    {
      "cell_type": "code",
      "metadata": {
        "id": "Y48V24I48JO1"
      },
      "source": [
        ""
      ],
      "execution_count": null,
      "outputs": []
    }
  ]
}