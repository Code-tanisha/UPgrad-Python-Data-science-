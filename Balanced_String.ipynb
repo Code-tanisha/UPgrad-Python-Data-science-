{
  "nbformat": 4,
  "nbformat_minor": 0,
  "metadata": {
    "colab": {
      "name": "Balanced_String.ipynb",
      "provenance": [],
      "authorship_tag": "ABX9TyOuQ/WoAWGUHPR+Db3AyGpc",
      "include_colab_link": true
    },
    "kernelspec": {
      "name": "python3",
      "display_name": "Python 3"
    },
    "language_info": {
      "name": "python"
    }
  },
  "cells": [
    {
      "cell_type": "markdown",
      "metadata": {
        "id": "view-in-github",
        "colab_type": "text"
      },
      "source": [
        "<a href=\"https://colab.research.google.com/github/Code-tanisha/UPgrad-Python-Data-science-/blob/main/Balanced_String.ipynb\" target=\"_parent\"><img src=\"https://colab.research.google.com/assets/colab-badge.svg\" alt=\"Open In Colab\"/></a>"
      ]
    },
    {
      "cell_type": "markdown",
      "metadata": {
        "id": "VID2ZwS7v6Er"
      },
      "source": [
        "You will be given a string with a lot of brackets. You have to print if the brackets are balanced or not. Remember, there are three types of brackets: ‘( )’,  ‘{ }’ and ‘[ ]’.\n",
        "\n",
        "----------------------------------------------------------------------\n",
        "Input:\n",
        "A string\n",
        "\n",
        "Output:\n",
        "Yes, if the brackets are balanced.\n",
        "No otherwise.\n",
        "\n",
        "----------------------------------------------------------------------\n",
        "Sample input:\n",
        "){[[]]}())()\n",
        "\n",
        "Sample output:\n",
        "No\n",
        "\n",
        "----------------------------------------------------------------------\n",
        "Sample input 2:\n",
        "[](){[]()(){}}\n",
        "\n",
        "Sample output 2:\n",
        "Yes"
      ]
    },
    {
      "cell_type": "code",
      "metadata": {
        "colab": {
          "base_uri": "https://localhost:8080/"
        },
        "id": "daEHPNoNckxE",
        "outputId": "15a21175-423d-409f-d87a-0cb3a0a37dc3"
      },
      "source": [
        "inp = input()\n",
        "open_list = [\"(\", \"[\", \"{\"]\n",
        "close_list = [\")\", \"]\", \"}\"]\n",
        "\n",
        "stack = []\n",
        "\n",
        "for i in inp:\n",
        "  if len(stack) == 0:\n",
        "    stack.append(i)\n",
        "  else:\n",
        "     if i == ')' and stack[-1] == '(':\n",
        "       stack.pop()\n",
        "     elif i == '}' and stack[-1] == '{':\n",
        "       stack.pop()\n",
        "     elif i == ']' and stack[-1] == '[':\n",
        "       stack.pop()\n",
        "     else:\n",
        "       stack.append(i)\n",
        "\n",
        "if stack:\n",
        "  print('No')\n",
        "else:\n",
        "  print('Yes')\n"
      ],
      "execution_count": 7,
      "outputs": [
        {
          "output_type": "stream",
          "text": [
            "{(){}}\n",
            "Yes\n"
          ],
          "name": "stdout"
        }
      ]
    }
  ]
}