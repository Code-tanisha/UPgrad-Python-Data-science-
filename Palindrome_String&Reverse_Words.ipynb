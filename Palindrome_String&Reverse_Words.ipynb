{
  "nbformat": 4,
  "nbformat_minor": 0,
  "metadata": {
    "colab": {
      "name": "Palindrome_String&Reverse_Words.ipynb",
      "provenance": [],
      "authorship_tag": "ABX9TyOWD2nuI+7xYqCQ4EnkiqDb",
      "include_colab_link": true
    },
    "kernelspec": {
      "name": "python3",
      "display_name": "Python 3"
    },
    "language_info": {
      "name": "python"
    }
  },
  "cells": [
    {
      "cell_type": "markdown",
      "metadata": {
        "id": "view-in-github",
        "colab_type": "text"
      },
      "source": [
        "<a href=\"https://colab.research.google.com/github/Code-tanisha/UPgrad-Python-Data-science-/blob/main/Palindrome_String%26Reverse_Words.ipynb\" target=\"_parent\"><img src=\"https://colab.research.google.com/assets/colab-badge.svg\" alt=\"Open In Colab\"/></a>"
      ]
    },
    {
      "cell_type": "code",
      "metadata": {
        "colab": {
          "base_uri": "https://localhost:8080/"
        },
        "id": "oqW30YQOOT6K",
        "outputId": "e3b89a4a-1e9d-4be8-a2b6-b79e0e43a94e"
      },
      "source": [
        "# Pallindrome\n",
        "s = input()\n",
        "s = s.lower()\n",
        "\n",
        "r = \" \"\n",
        "for i in s:\n",
        "  r = i+r            # we are adding s on te left side of the r\n",
        "\n",
        "if r == s:\n",
        "  print(1)\n",
        "else:\n",
        "  print(0)\n"
      ],
      "execution_count": null,
      "outputs": [
        {
          "output_type": "stream",
          "text": [
            "Hannah\n",
            "0\n"
          ],
          "name": "stdout"
        }
      ]
    },
    {
      "cell_type": "code",
      "metadata": {
        "colab": {
          "base_uri": "https://localhost:8080/"
        },
        "id": "Lf85mIigfvA0",
        "outputId": "290ec77c-c29f-445b-ab12-6c90bc39e366"
      },
      "source": [
        "# Reverse sentence\n",
        "# Description: You will be given a sentence in the form of a string. You have to reverse the order of the words in the sentence. Remember not to reverse the individual words, but the order of words. Check the sample input-output for further clarification.\n",
        "# Sample input: I love coding in python\n",
        "# Sample output: python in coding love I\n",
        "\n",
        "s = input()\n",
        "# Here we will split the scentence by the space and we wil get a list\n",
        "sentence = s.split(\" \")   # this will convert into list like = ['I', 'Love', 'coding', 'in', 'python']\n",
        "sentence.reverse() # ths will reverse string list as ['python', 'in', 'coding', 'Love', 'I']\n",
        "\n",
        "# now we can use join to join all the words and create astring again\n",
        "print(' '.join(sentence))\n"
      ],
      "execution_count": null,
      "outputs": [
        {
          "output_type": "stream",
          "text": [
            "I love coding in python \n",
            " python in coding love I\n"
          ],
          "name": "stdout"
        }
      ]
    }
  ]
}