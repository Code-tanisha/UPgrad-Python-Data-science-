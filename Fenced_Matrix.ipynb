{
  "nbformat": 4,
  "nbformat_minor": 0,
  "metadata": {
    "colab": {
      "name": "Fenced_Matrix.ipynb",
      "provenance": [],
      "authorship_tag": "ABX9TyOAbcutHFcThKwaTJHUIK1j",
      "include_colab_link": true
    },
    "kernelspec": {
      "name": "python3",
      "display_name": "Python 3"
    },
    "language_info": {
      "name": "python"
    }
  },
  "cells": [
    {
      "cell_type": "markdown",
      "metadata": {
        "id": "view-in-github",
        "colab_type": "text"
      },
      "source": [
        "<a href=\"https://colab.research.google.com/github/Code-tanisha/UPgrad-Python-Data-science-/blob/main/Fenced_Matrix.ipynb\" target=\"_parent\"><img src=\"https://colab.research.google.com/assets/colab-badge.svg\" alt=\"Open In Colab\"/></a>"
      ]
    },
    {
      "cell_type": "markdown",
      "metadata": {
        "id": "GeAam0M3JWGj"
      },
      "source": [
        "**Fenced Matrix**\n",
        "Description\n",
        "You will be given two positive integers m and n. You have to make a list of lists (which can be visualised as a matrix) of size m*n, that is m sublists (rows), with each sublists having n integers (columns). The matrix should be such that it should have 1 on the border and 0 everywhere else. See sample input and output for more clarification.\n",
        "\n",
        "\n",
        "Input:\n",
        "\n",
        "Two integers separated by a comma\n",
        "\n",
        "\n",
        "Output:\n",
        "\n",
        "A list of lists of size m*n printed like matrix as shown in the sample output.\n",
        "\n",
        "Sample input:\n",
        "\n",
        "4,5\n",
        "\n",
        "\n",
        "Sample output:\n",
        "\n",
        "[1, 1, 1, 1, 1]\n",
        "\n",
        "[1, 0, 0, 0, 1]\n",
        "\n",
        "[1, 0, 0, 0, 1]\n",
        "\n",
        "[1, 1, 1, 1, 1]\n",
        "\n",
        "Sample input:\n",
        "\n",
        "3,3\n",
        "\n",
        "Sample output:\n",
        "\n",
        "[1, 1, 1]\n",
        "\n",
        "[1, 0, 1]\n",
        "\n",
        "[1, 1, 1]\n"
      ]
    },
    {
      "cell_type": "code",
      "metadata": {
        "colab": {
          "base_uri": "https://localhost:8080/"
        },
        "id": "rdojr-0MJnLw",
        "outputId": "ff7d3234-e7ac-43fd-c09e-0b2349023ff3"
      },
      "source": [
        "import ast\n",
        "my_list = ast.literal_eval(input())\n",
        "m = my_list[0] # columns\n",
        "n = my_list[1] # no of rows\n",
        "\n",
        "final = [0] * n    # this will give output as [0, 0, 0, 0, 0]. but we want this to be repeated m times. \n",
        "\n",
        "#final = [final for i in range(m)] if we will not mention list(final) here it will give us error becoz of shappow copying \n",
        "\n",
        "final = [list(final) for i in range(m)]   # This will give out put as [[0, 0, 0, 0, 0], [0, 0, 0, 0, 0], [0, 0, 0, 0, 0], [0, 0, 0, 0, 0]]\n",
        "\n",
        "# now we will make boundaries as 0\n",
        "for i in range(m):\n",
        "  for j in range(n):\n",
        "    if i == 0 or j == 0 or i == m-1 or j == n-1:\n",
        "      final[i][j] = 1\n",
        "\n",
        "# No we are printing aur matrix\n",
        "for i in final:\n",
        "  print(i)"
      ],
      "execution_count": 12,
      "outputs": [
        {
          "output_type": "stream",
          "text": [
            "4,5\n",
            "[1, 1, 1, 1, 1]\n",
            "[1, 0, 0, 0, 1]\n",
            "[1, 0, 0, 0, 1]\n",
            "[1, 1, 1, 1, 1]\n"
          ],
          "name": "stdout"
        }
      ]
    }
  ]
}