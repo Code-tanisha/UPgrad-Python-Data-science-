{
  "nbformat": 4,
  "nbformat_minor": 0,
  "metadata": {
    "colab": {
      "name": "Anagrams.ipynb",
      "provenance": [],
      "authorship_tag": "ABX9TyN00UtnF+Bp6pbySsr2YNbZ",
      "include_colab_link": true
    },
    "kernelspec": {
      "name": "python3",
      "display_name": "Python 3"
    },
    "language_info": {
      "name": "python"
    }
  },
  "cells": [
    {
      "cell_type": "markdown",
      "metadata": {
        "id": "view-in-github",
        "colab_type": "text"
      },
      "source": [
        "<a href=\"https://colab.research.google.com/github/Code-tanisha/UPgrad-Python-Data-science-/blob/main/Anagrams.ipynb\" target=\"_parent\"><img src=\"https://colab.research.google.com/assets/colab-badge.svg\" alt=\"Open In Colab\"/></a>"
      ]
    },
    {
      "cell_type": "markdown",
      "metadata": {
        "id": "4--Q7usv41HX"
      },
      "source": [
        "Description\n",
        "Two strings are anagrams of each other if you can rearrange the characters of one string to make the other string.\n",
        "Given two strings, can you find if they are anagrams or no?\n",
        "\n",
        "----------------------------------------------------------------------\n",
        "Input:\n",
        "Two lines of input, each line will contain a string without space.\n",
        "\n",
        "Output:\n",
        "True or False based on whether the strings are anagrams or not.\n",
        "\n",
        "----------------------------------------------------------------------\n",
        "Sample input:\n",
        "\n",
        "thing\n",
        "\n",
        "night\n",
        "\n",
        "Sample output:\n",
        "True\n",
        "\n",
        "----------------------------------------------------------------------\n",
        "Sample input:\n",
        "\n",
        "upgrad\n",
        "\n",
        "found\n",
        "\n",
        "Sample output:\n",
        "False\n",
        "\n",
        "**Note: the code will be case-Sensitive**\n"
      ]
    },
    {
      "cell_type": "code",
      "metadata": {
        "colab": {
          "base_uri": "https://localhost:8080/"
        },
        "id": "tUgOI0ey41ya",
        "outputId": "d5456417-9a56-40a6-8f6f-91122c589bc3"
      },
      "source": [
        "s1 = input()\n",
        "s2 = input()\n",
        "\n",
        "sorted_l1 = sorted(s1)   # after sorting we will get a list \n",
        "sorted_l2 = sorted(s2)\n",
        "\n",
        "final_s1 = ''.join(sorted_l1)  # so, again making them string\n",
        "final_s2 = ''.join(sorted_l2)\n",
        "\n",
        "if final_s1 == final_s2:\n",
        "  print(\"True\")\n",
        "else:\n",
        "  print(\"False\")\n",
        "\n",
        "\n"
      ],
      "execution_count": 13,
      "outputs": [
        {
          "output_type": "stream",
          "text": [
            "upgrad\n",
            "found\n",
            "False\n"
          ],
          "name": "stdout"
        }
      ]
    }
  ]
}