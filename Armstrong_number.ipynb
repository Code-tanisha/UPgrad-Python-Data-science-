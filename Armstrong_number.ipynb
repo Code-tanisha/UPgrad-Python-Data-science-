{
  "nbformat": 4,
  "nbformat_minor": 0,
  "metadata": {
    "colab": {
      "name": "Armstrong number.ipynb",
      "provenance": [],
      "authorship_tag": "ABX9TyOoLrwOFUpPKLs8bSPw4f+D",
      "include_colab_link": true
    },
    "kernelspec": {
      "name": "python3",
      "display_name": "Python 3"
    },
    "language_info": {
      "name": "python"
    }
  },
  "cells": [
    {
      "cell_type": "markdown",
      "metadata": {
        "id": "view-in-github",
        "colab_type": "text"
      },
      "source": [
        "<a href=\"https://colab.research.google.com/github/Code-tanisha/UPgrad-Python-Data-science-/blob/main/Armstrong_number.ipynb\" target=\"_parent\"><img src=\"https://colab.research.google.com/assets/colab-badge.svg\" alt=\"Open In Colab\"/></a>"
      ]
    },
    {
      "cell_type": "markdown",
      "metadata": {
        "id": "s-T7zo-D5RYw"
      },
      "source": [
        "\n",
        "Description\n",
        "Any number, say n is called an Armstrong number if it is equal to the sum of its digits, where each is raised to the power of number of digits in n.\n",
        "For example:\n",
        "153=1^3+5^3+3^3\n",
        "\n",
        "Write Python code to determine whether an entered three digit number is an Armstrong number or not. \n",
        "Assume that the number entered will strictly be a three digit number.\n",
        "Print \"True\" if it is an Armstrong number and print \"False\" if it is not.\n",
        "\n",
        "Sample Input:\n",
        "153\n",
        "\n",
        "Sample Output:\n",
        "True"
      ]
    },
    {
      "cell_type": "code",
      "metadata": {
        "colab": {
          "base_uri": "https://localhost:8080/"
        },
        "id": "PvEYRPTe5WJv",
        "outputId": "d7fc07f5-d729-4fbe-ecf6-8ec065c1c0bc"
      },
      "source": [
        "n = int(input())\n",
        "sum = 0\n",
        "temp = n\n",
        "\n",
        "while temp>0:\n",
        "  digit = temp % 10\n",
        "  sum += digit **3\n",
        "  temp //= 10\n",
        "\n",
        "if n == sum:\n",
        "  print(\"True\")\n",
        "else:\n",
        "  print(\"False\")\n"
      ],
      "execution_count": 7,
      "outputs": [
        {
          "output_type": "stream",
          "text": [
            "145\n",
            "False\n"
          ],
          "name": "stdout"
        }
      ]
    }
  ]
}