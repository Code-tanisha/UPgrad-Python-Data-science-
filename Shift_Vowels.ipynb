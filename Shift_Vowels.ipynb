{
  "nbformat": 4,
  "nbformat_minor": 0,
  "metadata": {
    "colab": {
      "name": "Shift Vowels.ipynb",
      "provenance": [],
      "authorship_tag": "ABX9TyPxVNE+nNo+r4GH5at6Rrs9",
      "include_colab_link": true
    },
    "kernelspec": {
      "name": "python3",
      "display_name": "Python 3"
    },
    "language_info": {
      "name": "python"
    }
  },
  "cells": [
    {
      "cell_type": "markdown",
      "metadata": {
        "id": "view-in-github",
        "colab_type": "text"
      },
      "source": [
        "<a href=\"https://colab.research.google.com/github/Code-tanisha/UPgrad-Python-Data-science-/blob/main/Shift_Vowels.ipynb\" target=\"_parent\"><img src=\"https://colab.research.google.com/assets/colab-badge.svg\" alt=\"Open In Colab\"/></a>"
      ]
    },
    {
      "cell_type": "markdown",
      "metadata": {
        "id": "mxsKIEfUckfd"
      },
      "source": [
        "\n",
        "Description\n",
        "Write a program that receives a string and shifts all the vowels present in it to the beginning. Output the resultant string. The order of all the vowels with respect to each other as well as the order of all the other characters with respect to each other should stay the same.\n",
        "\n",
        "----------------------------------------------------------------------\n",
        "Input:\n",
        "A string\n",
        "\n",
        "Output:\n",
        "Vowels shifted to the beginning in the input string.\n",
        "\n",
        "----------------------------------------------------------------------\n",
        "Sample input:\n",
        "programming\n",
        "\n",
        "Sample output:\n",
        "oaiprgrmmng\n",
        "\n",
        "----------------------------------------------------------------------\n",
        "Sample input:\n",
        "You love Python!\n",
        "\n",
        "Sample output:\n",
        "ouoeoY lv Pythn!"
      ]
    },
    {
      "cell_type": "code",
      "metadata": {
        "colab": {
          "base_uri": "https://localhost:8080/"
        },
        "id": "YlFA9KFSdl_z",
        "outputId": "4c776183-7db1-4358-cb9a-8e94fb99cfad"
      },
      "source": [
        "s = input()\n",
        "\n",
        "vowels = 'aeiouAEIOU'\n",
        "vowel_s = \"\"\n",
        "ori_s = \"\"\n",
        "for i in s:\n",
        "  if i in vowels:\n",
        "  \n",
        "    vowel_s = vowel_s + i\n",
        "  else:\n",
        "    ori_s = ori_s + i\n",
        "final_str = vowel_s + ori_s\n",
        "print(final_str)"
      ],
      "execution_count": 16,
      "outputs": [
        {
          "output_type": "stream",
          "text": [
            "You Love Python!\n",
            "ouoeoY Lv Pythn!\n"
          ],
          "name": "stdout"
        }
      ]
    }
  ]
}