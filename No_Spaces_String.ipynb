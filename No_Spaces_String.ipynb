{
  "nbformat": 4,
  "nbformat_minor": 0,
  "metadata": {
    "colab": {
      "name": "No Spaces_String.ipynb",
      "provenance": [],
      "collapsed_sections": [],
      "authorship_tag": "ABX9TyOFco2eUNcBM6aHr4ie8lIK",
      "include_colab_link": true
    },
    "kernelspec": {
      "name": "python3",
      "display_name": "Python 3"
    },
    "language_info": {
      "name": "python"
    }
  },
  "cells": [
    {
      "cell_type": "markdown",
      "metadata": {
        "id": "view-in-github",
        "colab_type": "text"
      },
      "source": [
        "<a href=\"https://colab.research.google.com/github/Code-tanisha/UPgrad-Python-Data-science-/blob/main/No_Spaces_String.ipynb\" target=\"_parent\"><img src=\"https://colab.research.google.com/assets/colab-badge.svg\" alt=\"Open In Colab\"/></a>"
      ]
    },
    {
      "cell_type": "markdown",
      "metadata": {
        "id": "tf_FNRFnaSVJ"
      },
      "source": [
        "\n",
        "Description\n",
        "While naming entities, it is a common practice to avoid spaces. That is the reason you see so many people using underscores instead of spaces. \n",
        "You will be given a string, containing a few spaces and random upper and lower cases. You have to write a code that will add underscore in place of spaces and also capitalise the letters properly, i.e. the first letter after underscore should be in upper case and the first letter of the string should be in upper case, all of the other letters should be lower case. \n",
        "This type of activity is frequently encountered while starting to analyse data. This is called Data cleaning and you will learn more about it in upcoming modules.\n",
        "\n",
        "----------------------------------------------------------------------\n",
        "Input:\n",
        "A string of only alphabets and spaces\n",
        "\n",
        "Output:\n",
        "A string formatted as stated above. See sample input/output for more clarification,\n",
        "\n",
        "----------------------------------------------------------------------\n",
        "Sample input:\n",
        "caloRie consuMed\n",
        "\n",
        "Sample output:\n",
        "Calorie_Consumed"
      ]
    },
    {
      "cell_type": "code",
      "metadata": {
        "colab": {
          "base_uri": "https://localhost:8080/",
          "height": 52
        },
        "id": "MxKn8j0vaXHr",
        "outputId": "3bf55710-8f52-4f3b-f765-750c656ea5b2"
      },
      "source": [
        "s = input()\n",
        "s = s.lower()\n",
        "\n",
        "words = s.split(' ')\n",
        "\n",
        "final_s = [item[0].upper() + item[1:] for item in words]  # We are jut converting the 1st character to the uppper case and joining the rest of the sting as it is\n",
        "final_string = '_'.join(final_s)\n",
        "final_string"
      ],
      "execution_count": 21,
      "outputs": [
        {
          "output_type": "stream",
          "text": [
            "caloRie consuMed\n"
          ],
          "name": "stdout"
        },
        {
          "output_type": "execute_result",
          "data": {
            "application/vnd.google.colaboratory.intrinsic+json": {
              "type": "string"
            },
            "text/plain": [
              "'Calorie_Consumed'"
            ]
          },
          "metadata": {
            "tags": []
          },
          "execution_count": 21
        }
      ]
    },
    {
      "cell_type": "code",
      "metadata": {
        "colab": {
          "base_uri": "https://localhost:8080/",
          "height": 52
        },
        "id": "cQRbpUjBCt0K",
        "outputId": "101ea948-848c-4b98-b1dd-c874ba8237be"
      },
      "source": [
        "s = input()\n",
        "s = s.lower()\n",
        "\n",
        "words = s.split(' ')\n",
        "\n",
        "final_string = [item.title() for item in words]\n",
        "final_string = '_'.join(final_s)\n",
        "final_string"
      ],
      "execution_count": 23,
      "outputs": [
        {
          "output_type": "stream",
          "text": [
            "caloRie consuMed\n"
          ],
          "name": "stdout"
        },
        {
          "output_type": "execute_result",
          "data": {
            "application/vnd.google.colaboratory.intrinsic+json": {
              "type": "string"
            },
            "text/plain": [
              "'Calorie_Consumed'"
            ]
          },
          "metadata": {
            "tags": []
          },
          "execution_count": 23
        }
      ]
    }
  ]
}