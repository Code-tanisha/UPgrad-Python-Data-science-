{
  "nbformat": 4,
  "nbformat_minor": 0,
  "metadata": {
    "colab": {
      "name": "Upgrad_String_Dictionary.ipynb",
      "provenance": [],
      "authorship_tag": "ABX9TyO/9p/pEjorJDMfFX6L9DEN",
      "include_colab_link": true
    },
    "kernelspec": {
      "name": "python3",
      "display_name": "Python 3"
    },
    "language_info": {
      "name": "python"
    }
  },
  "cells": [
    {
      "cell_type": "markdown",
      "metadata": {
        "id": "view-in-github",
        "colab_type": "text"
      },
      "source": [
        "<a href=\"https://colab.research.google.com/github/Code-tanisha/UPgrad-Python-Data-science-/blob/main/Upgrad_String_Dictionary.ipynb\" target=\"_parent\"><img src=\"https://colab.research.google.com/assets/colab-badge.svg\" alt=\"Open In Colab\"/></a>"
      ]
    },
    {
      "cell_type": "markdown",
      "metadata": {
        "id": "o5lR9J4avqx4"
      },
      "source": [
        "For the purpose of this question, we will define something called an upGrad string. Note that this definition is not valid outside this question. A string upGrad string if the frequency of its characters is something like 1, 2, 3, 4, .... That is a character appears only once, another appears twice, another appears thrice and so on. For example string '$yrr$ssrsr' is a beautiful string since the frequency of y:1, $:2, s:3, r:4, however string '$yrr$ssrsr%' will not be beautiful since it has two characters (y and %) with frequency 1. The frequency of characters should be of form 1, 2, 3, 4, 5... only.\n",
        "Given a string, can you determine if the string is upGrad string or no?\n",
        "\n",
        "\n",
        "Input:\n",
        "A string\n",
        "\n",
        "Output:\n",
        "Boolean depending whether the string is upGrad string or not\n",
        "\n",
        "\n",
        "Sample input:\n",
        "$yrr$ssrsr\n",
        "\n",
        "Sample output:\n",
        "True\n",
        "\n",
        "\n",
        "Sample input:\n",
        "$yrr$ssrsr%\n",
        "\n",
        "Sample output:\n",
        "False"
      ]
    },
    {
      "cell_type": "code",
      "metadata": {
        "id": "eJmEr2qivtBN",
        "colab": {
          "base_uri": "https://localhost:8080/"
        },
        "outputId": "84e6e8f1-5819-4c4e-c30a-abd6c4ef3452"
      },
      "source": [
        "s = input()\n",
        "\n",
        "d = {}\n",
        "# below we have taken each character 1 by 1 with for loop and we have created a dictionary with the values\n",
        "for i in s:\n",
        "  if i not in d:\n",
        "    d[i] = 1\n",
        "  else:\n",
        "    d[i] = d[i] + 1  \n",
        "\n",
        "# Now we will take all the values from the dictionaries\n",
        "vals = d.values()\n",
        "\n",
        "# Now next task is that we need to iterate n no of times which is the len(dictionary) and we need to check the pattern\n",
        "n = len(d)\n",
        "def upgrad_string(vals):\n",
        "  for i in range(1, n+1):\n",
        "    if i not in vals:\n",
        "      return False\n",
        "  return True\n",
        "\n",
        "print(upgrad_string(vals))"
      ],
      "execution_count": 9,
      "outputs": [
        {
          "output_type": "stream",
          "text": [
            "$yrr$ssrsr%\n",
            "False\n"
          ],
          "name": "stdout"
        }
      ]
    }
  ]
}