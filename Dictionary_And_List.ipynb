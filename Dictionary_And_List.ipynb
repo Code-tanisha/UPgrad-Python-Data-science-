{
  "nbformat": 4,
  "nbformat_minor": 0,
  "metadata": {
    "colab": {
      "name": "Dictionary And List.ipynb",
      "provenance": [],
      "authorship_tag": "ABX9TyMtyYjUFwaPPNxrZLh/4IDO",
      "include_colab_link": true
    },
    "kernelspec": {
      "name": "python3",
      "display_name": "Python 3"
    },
    "language_info": {
      "name": "python"
    }
  },
  "cells": [
    {
      "cell_type": "markdown",
      "metadata": {
        "id": "view-in-github",
        "colab_type": "text"
      },
      "source": [
        "<a href=\"https://colab.research.google.com/github/Code-tanisha/UPgrad-Python-Data-science-/blob/main/Dictionary_And_List.ipynb\" target=\"_parent\"><img src=\"https://colab.research.google.com/assets/colab-badge.svg\" alt=\"Open In Colab\"/></a>"
      ]
    },
    {
      "cell_type": "markdown",
      "metadata": {
        "id": "9II8oL6QmXpb"
      },
      "source": [
        "Description:- You will be converting a dictionary, of string(keys) and list of string (values),  to a list of strings. Please check the sample input/output for clarification.\n",
        "\n",
        "Input:\n",
        "A dictionary with keys as strings and values as a list of strings.\n",
        "\n",
        "Output:\n",
        "A list of strings\n",
        "\n",
        "\n",
        "Sample input:\n",
        "{‘Mobile’: [‘Redmi’, ‘Samsung’, ‘Realme’], \n",
        "‘Laptop’: [‘Dell’, ‘HP’],\n",
        "‘TV’: [‘Videocon’, ‘Sony’] }\n",
        "\n",
        "Sample output:\n",
        "[‘Mobile_Redmi’, ‘Mobile_Samsung’, ‘Mobile_Realme’, ‘Laptop_Dell’, ‘Laptop_HP’, ‘TV_Videocon’, ‘TV_Sony’]\n",
        "\n",
        "\n",
        "Sample input:\n",
        "{ 'Pen': ['Gel', 'Ink', 'ball'],\n",
        "'Mobile': ['Android', 'apple'] }\n",
        "\n",
        "Sample output:\n",
        "['Pen_Gel', 'Pen_Ink', 'Pen_ball', 'Mobile_Android', 'Mobile_apple']\n",
        "\n"
      ]
    },
    {
      "cell_type": "code",
      "metadata": {
        "colab": {
          "base_uri": "https://localhost:8080/"
        },
        "id": "p9CeT6T1mgOU",
        "outputId": "c58b4152-5379-4d35-f05d-dd997092dc0f"
      },
      "source": [
        "#input has been taken for you\n",
        "import ast\n",
        "input_str = input()\n",
        "#input dictionary has been received in input_dict\n",
        "input_dict = ast.literal_eval(input_str)\n",
        "final_l = []\n",
        "for items in input_dict.keys(): # here we are iterating only to the keys\n",
        "  for word in input_dict[items]:    # here we are iterating to the values present in the keys  \n",
        "    final_l.append(items +'_'+ word)\n",
        "print(final_l)\n",
        "\n"
      ],
      "execution_count": 12,
      "outputs": [
        {
          "output_type": "stream",
          "text": [
            "{'Mobile': ['Redmi', 'Samsung', 'Realme'], 'Laptop': ['Dell', 'HP'], 'TV':['Videocon', 'Sony'] }\n",
            "['Mobile_Redmi', 'Mobile_Samsung', 'Mobile_Realme', 'Laptop_Dell', 'Laptop_HP', 'TV_Videocon', 'TV_Sony']\n"
          ],
          "name": "stdout"
        }
      ]
    },
    {
      "cell_type": "code",
      "metadata": {
        "id": "sjKs906UrRRP"
      },
      "source": [
        ""
      ],
      "execution_count": null,
      "outputs": []
    }
  ]
}