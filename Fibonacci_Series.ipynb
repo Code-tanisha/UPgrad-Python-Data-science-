{
  "nbformat": 4,
  "nbformat_minor": 0,
  "metadata": {
    "colab": {
      "name": "Fibonacci Series.ipynb",
      "provenance": [],
      "authorship_tag": "ABX9TyObll18W/1VVCCiM2KnGYbR",
      "include_colab_link": true
    },
    "kernelspec": {
      "name": "python3",
      "display_name": "Python 3"
    },
    "language_info": {
      "name": "python"
    }
  },
  "cells": [
    {
      "cell_type": "markdown",
      "metadata": {
        "id": "view-in-github",
        "colab_type": "text"
      },
      "source": [
        "<a href=\"https://colab.research.google.com/github/Code-tanisha/UPgrad-Python-Data-science-/blob/main/Fibonacci_Series.ipynb\" target=\"_parent\"><img src=\"https://colab.research.google.com/assets/colab-badge.svg\" alt=\"Open In Colab\"/></a>"
      ]
    },
    {
      "cell_type": "markdown",
      "metadata": {
        "id": "ZvldeCChP31m"
      },
      "source": [
        "Description\n",
        "Compute and display Fibonacci series upto n terms where n is a positive integer entered by the user.\n",
        "You can go here to read about Fibonacci series.\n",
        "Sample Input:\n",
        "5\n",
        "\n",
        "Sample Output:\n",
        "\n",
        "0\n",
        "\n",
        "1\n",
        "\n",
        "1\n",
        "\n",
        "2\n",
        "\n",
        "3"
      ]
    },
    {
      "cell_type": "code",
      "metadata": {
        "colab": {
          "base_uri": "https://localhost:8080/"
        },
        "id": "AKPQbfn1P9ay",
        "outputId": "e52cb436-78a8-4b80-ff3e-4a0e0171d774"
      },
      "source": [
        "n = int(input())\n",
        "a = 0\n",
        "b = 1\n",
        "sum = 0\n",
        "count = 1\n",
        "while count < n+1:\n",
        "  print(sum)\n",
        "  \n",
        "  a = b\n",
        "  b = sum\n",
        "  sum = a + b\n",
        "  count += 1\n",
        " "
      ],
      "execution_count": 12,
      "outputs": [
        {
          "output_type": "stream",
          "text": [
            "5\n",
            "0\n",
            "1\n",
            "1\n",
            "2\n",
            "3\n"
          ],
          "name": "stdout"
        }
      ]
    }
  ]
}